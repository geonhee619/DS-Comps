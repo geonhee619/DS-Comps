{
 "cells": [
  {
   "cell_type": "code",
   "execution_count": 983,
   "metadata": {},
   "outputs": [],
   "source": [
    "from ngboost import NGBRegressor\n",
    "from ngboost.scores import LogScore, CRPScore"
   ]
  },
  {
   "cell_type": "code",
   "execution_count": 984,
   "metadata": {},
   "outputs": [],
   "source": [
    "def ngb_kfold_reg(X_train, y_train, split, bayes_opt=True,\n",
    "                  distribution='normal',\n",
    "                  col_sample=1.0, learning_rate=0.01,\n",
    "                  minibatch_frac=1.0, n_estimators=500,\n",
    "                  max_depth=6, min_samples_leaf=1, min_samples_split=2,\n",
    "                  min_weight_fraction_leaf=0.0):\n",
    "    seed = 8982\n",
    "    params = {'learning_rate': learning_rate,\n",
    "              'minibatch_frac': minibatch_frac,\n",
    "              'n_estimators': n_estimators,\n",
    "              'natural_gradient':True,\n",
    "              'random_state': seed,\n",
    "              'verbose': True,\n",
    "              'verbose_eval': 200}\n",
    "\n",
    "    if distribution == 'normal':\n",
    "        from ngboost.distns import Normal\n",
    "        ngb = NGBRegressor(Dist=Normal, Score=LogScore, **params)\n",
    "    elif distribution == 'lognormal':\n",
    "        from ngboost.distns import LogNormal\n",
    "        ngb = NGBRegressor(Dist=LogNormal, Score=LogScore, **params)\n",
    "    elif distribution == 'exponential':\n",
    "        from ngboost.distns import Exponential\n",
    "        ngb = NGBRegressor(Dist=Exponential, Score=LogScore, **params)\n",
    "    \n",
    "    n_splits = len(split)\n",
    "    oofs = np.zeros(X_train.shape[0])\n",
    "    models = []; valid_score = []\n",
    "    dist_df = pd.DataFrame()\n",
    "    feature_importance_df = pd.DataFrame()\n",
    "    \n",
    "    print(f'========== NGBoost Regressor training on : {X_train.shape} ==========')\n",
    "    for i, (train_idx, valid_idx) in enumerate(split):\n",
    "        print(f'========== NGBoost Regressor training: {i+1}/{n_splits} fold ==========')\n",
    "        model = ngb.fit(X_train.iloc[train_idx,:], y_train[train_idx],\n",
    "                           X_val=X_train.iloc[valid_idx,:], Y_val=y_train[valid_idx],\n",
    "                           early_stopping_rounds=20)\n",
    "        models.append(model)\n",
    "        oofs[valid_idx] = model.predict(X_train.iloc[valid_idx,:], max_iter=model.best_val_loss_itr)\n",
    "        dist_param = model.pred_dist(X_train.iloc[valid_idx,:]).params\n",
    "        #valid_score.append(model.val_loss)\n",
    "        \n",
    "        # Distribution Params\n",
    "        fold_dist_df = pd.DataFrame()\n",
    "        for k in dist_param.keys():\n",
    "            fold_dist_df[f'~dist({k})'] = dist_param[k]\n",
    "        fold_dist_df['fold'] = i+1\n",
    "        dist_df = pd.concat([dist_df, fold_dist_df], axis=0)\n",
    "        \n",
    "        fold_importance_df = pd.DataFrame()\n",
    "        fold_importance_df['feature'] = common_cols + category_cols\n",
    "        #fold_importance_df['importance_loc'] = model.feature_importances_[0]\n",
    "        #fold_importance_df['importance_scale'] = model.feature_importances_[1]\n",
    "        fold_importance_df['fold'] = i+1\n",
    "        feature_importance_df = pd.concat([feature_importance_df, fold_importance_df], axis=0)\n",
    "        \n",
    "        del fold_importance_df, fold_dist_df, dist_param; gc.collect()\n",
    "    \n",
    "    #print('====================')\n",
    "    #print(f'CV AVG: {metric} - {np.mean(valid_score)}')\n",
    "    #print(f'CV STD: {metric} - {np.std(valid_score)}')\n",
    "    #print('====================')\n",
    "\n",
    "    if bayes_opt:\n",
    "        return valid_avg_score\n",
    "    else:\n",
    "        return oofs, models, feature_importance_df, dist_df"
   ]
  },
  {
   "cell_type": "code",
   "execution_count": 985,
   "metadata": {},
   "outputs": [],
   "source": [
    "def ngb_pred_reg(X_test, models):\n",
    "    y_test_total = 0\n",
    "    for i, model in enumerate(models):\n",
    "        print(f'NGBoost Predicting on {i}-th model')\n",
    "        y_test = model.predict(X_test, max_iter=model.best_val_loss_itr)\n",
    "        y_test_total += y_test\n",
    "    y_test_total /= len(models)\n",
    "    return y_test_total"
   ]
  },
  {
   "cell_type": "code",
   "execution_count": 986,
   "metadata": {},
   "outputs": [],
   "source": [
    "from ngboost import NGBClassifier\n",
    "from ngboost.scores import LogScore"
   ]
  },
  {
   "cell_type": "code",
   "execution_count": 1024,
   "metadata": {},
   "outputs": [
    {
     "data": {
      "text/plain": [
       "'\\n    #For instance, to get the predictions on the first 5 examples after fitting 415 base learners, use:\\n    preds = ngb_cls.staged_predict(X_cls_test)\\n    preds[415][0:5]\\n    #array([1, 0, 1, 1, 1])\\n'"
      ]
     },
     "execution_count": 1024,
     "metadata": {},
     "output_type": "execute_result"
    }
   ],
   "source": [
    "def ngb_kfold_clf(X_train, y_train, split, bayes_opt=True,\n",
    "                  objective='binary',\n",
    "                  col_sample=1.0, learning_rate=0.01,\n",
    "                  minibatch_frac=1.0, n_estimators=500,\n",
    "                  max_depth=6, min_samples_leaf=1, min_samples_split=2,\n",
    "                  min_weight_fraction_leaf=0.0):\n",
    "    seed = 8982\n",
    "    params = {'learning_rate': learning_rate,\n",
    "              'minibatch_frac': minibatch_frac,\n",
    "              'n_estimators': n_estimators,\n",
    "              'natural_gradient':True,\n",
    "              'random_state': seed,\n",
    "              'verbose': True,\n",
    "              'verbose_eval': 200}\n",
    "    if objective == 'binary':\n",
    "        from ngboost.distns import Bernoulli\n",
    "        ngb = NGBClassifier(Dist=Bernoulli, Score=LogScore, **params)\n",
    "    elif objective == 'multiclass':\n",
    "        from ngboost.distns import k_categorical\n",
    "        ngb = NGBClassifier(Dist=k_categorical(3), Score=LogScore, **params)\n",
    "    \n",
    "    n_splits = len(split)\n",
    "    oofs = np.zeros(X_train.shape[0])\n",
    "    models = []; valid_score = []\n",
    "    dist_df = pd.DataFrame()\n",
    "    feature_importance_df = pd.DataFrame()\n",
    "    \n",
    "    print(f'========== NGBoost Classifier training on : {X_train.shape} ==========')\n",
    "    for i, (train_idx, valid_idx) in enumerate(split):\n",
    "        print(f'========== NGBoost Classifier training: {i+1}/{n_splits} fold ==========')\n",
    "        model = ngb.fit(X_train.iloc[train_idx,:], y_train[train_idx],\n",
    "                        X_val=X_train.iloc[valid_idx,:], Y_val=y_train[valid_idx],\n",
    "                        early_stopping_rounds=20)\n",
    "        models.append(model)\n",
    "        oofs[valid_idx] = model.predict_proba(X_train.iloc[valid_idx,:], max_iter=model.best_val_loss_itr)[:,1]\n",
    "        dist_param = model.pred_dist(X_train.iloc[valid_idx,:]).params\n",
    "        #valid_score.append(model.val_loss)\n",
    "        \n",
    "        # Bernoulli\n",
    "        fold_dist_df = pd.DataFrame()\n",
    "        for k in dist_param.keys():\n",
    "            fold_dist_df[f'P(y={k}|x)'] = dist_param[k]\n",
    "        fold_dist_df['fold'] = i+1\n",
    "        dist_df = pd.concat([dist_df, fold_dist_df], axis=0)\n",
    "        \n",
    "        fold_importance_df = pd.DataFrame()\n",
    "        fold_importance_df['feature'] = common_cols + category_cols\n",
    "        fold_importance_df['importance_loc'] = model.feature_importances_[0]\n",
    "        #fold_importance_df['importance_scale'] = model.feature_importances_[1]\n",
    "        fold_importance_df['fold'] = i+1\n",
    "        feature_importance_df = pd.concat([feature_importance_df, fold_importance_df], axis=0)\n",
    "        \n",
    "        del fold_importance_df, fold_dist_df, dist_param; gc.collect()\n",
    "    \n",
    "    #print('====================')\n",
    "    #print(f'CV AVG: {metric} - {np.mean(valid_score)}')\n",
    "    #print(f'CV STD: {metric} - {np.std(valid_score)}')\n",
    "    #print('====================')\n",
    "\n",
    "    if bayes_opt:\n",
    "        return valid_avg_score\n",
    "    else:\n",
    "        return oofs, models, feature_importance_df, dist_df\n",
    "    \n",
    "\n",
    "\"\"\"\n",
    "    #For instance, to get the predictions on the first 5 examples after fitting 415 base learners, use:\n",
    "    preds = ngb_cls.staged_predict(X_cls_test)\n",
    "    preds[415][0:5]\n",
    "    #array([1, 0, 1, 1, 1])\n",
    "\"\"\""
   ]
  },
  {
   "cell_type": "code",
   "execution_count": 1025,
   "metadata": {},
   "outputs": [],
   "source": [
    "def ngb_pred_clf(X_test, models, threshold):\n",
    "    y_test_soft_total = 0; y_test_hard_total = 0\n",
    "    for i, model in enumerate(models):\n",
    "        print(f'NGBoost Predicting on {i}-th model')\n",
    "        y_test = model.predict_proba(X_test, max_iter=model.best_val_loss_itr)[:,1]\n",
    "        y_test_soft_total += y_test\n",
    "        y_test = model.predict(X_test, max_iter=model.best_val_loss_itr)\n",
    "        y_test_hard_total += y_test\n",
    "    y_test_soft_total /= len(models)\n",
    "    y_test_soft = np.where(y_test_soft_total > threshold, 1, 0)\n",
    "    y_test_hard_total /= len(models)\n",
    "    \n",
    "    if (y_test_soft != y_test_hard_total).sum() > 0:\n",
    "        print('Different thresholds with NGB and arbitrary')\n",
    "    return y_test_soft, y_test_hard_total\n",
    "# returns: threshold, ngb hard predict"
   ]
  },
  {
   "cell_type": "code",
   "execution_count": 1026,
   "metadata": {},
   "outputs": [],
   "source": [
    "import pandas as pd\n",
    "import numpy as np\n",
    "import gc"
   ]
  },
  {
   "cell_type": "code",
   "execution_count": 1027,
   "metadata": {},
   "outputs": [],
   "source": [
    "x = pd.DataFrame(np.random.randn(300), columns=['gauss'])\n",
    "x['mean4'] = np.random.randn(300)+4\n",
    "x['std4'] = np.random.randn(300)*4\n",
    "x['target'] = np.where((x['mean4'] <= 4) & (x['std4'] >= 0), int(1), int(0))"
   ]
  },
  {
   "cell_type": "code",
   "execution_count": 1028,
   "metadata": {},
   "outputs": [
    {
     "data": {
      "text/html": [
       "<div>\n",
       "<style scoped>\n",
       "    .dataframe tbody tr th:only-of-type {\n",
       "        vertical-align: middle;\n",
       "    }\n",
       "\n",
       "    .dataframe tbody tr th {\n",
       "        vertical-align: top;\n",
       "    }\n",
       "\n",
       "    .dataframe thead th {\n",
       "        text-align: right;\n",
       "    }\n",
       "</style>\n",
       "<table border=\"1\" class=\"dataframe\">\n",
       "  <thead>\n",
       "    <tr style=\"text-align: right;\">\n",
       "      <th></th>\n",
       "      <th>gauss</th>\n",
       "      <th>mean4</th>\n",
       "      <th>std4</th>\n",
       "      <th>target</th>\n",
       "    </tr>\n",
       "  </thead>\n",
       "  <tbody>\n",
       "    <tr>\n",
       "      <td>0</td>\n",
       "      <td>-0.037536</td>\n",
       "      <td>4.351495</td>\n",
       "      <td>1.948629</td>\n",
       "      <td>0</td>\n",
       "    </tr>\n",
       "    <tr>\n",
       "      <td>1</td>\n",
       "      <td>1.148765</td>\n",
       "      <td>5.073597</td>\n",
       "      <td>4.089965</td>\n",
       "      <td>0</td>\n",
       "    </tr>\n",
       "    <tr>\n",
       "      <td>2</td>\n",
       "      <td>-0.555899</td>\n",
       "      <td>3.483781</td>\n",
       "      <td>-1.117679</td>\n",
       "      <td>0</td>\n",
       "    </tr>\n",
       "    <tr>\n",
       "      <td>3</td>\n",
       "      <td>-0.551157</td>\n",
       "      <td>4.485236</td>\n",
       "      <td>-2.355329</td>\n",
       "      <td>0</td>\n",
       "    </tr>\n",
       "    <tr>\n",
       "      <td>4</td>\n",
       "      <td>1.622337</td>\n",
       "      <td>3.812200</td>\n",
       "      <td>2.616566</td>\n",
       "      <td>1</td>\n",
       "    </tr>\n",
       "    <tr>\n",
       "      <td>5</td>\n",
       "      <td>0.130307</td>\n",
       "      <td>3.129516</td>\n",
       "      <td>-4.470617</td>\n",
       "      <td>0</td>\n",
       "    </tr>\n",
       "    <tr>\n",
       "      <td>6</td>\n",
       "      <td>-1.788674</td>\n",
       "      <td>3.609813</td>\n",
       "      <td>-0.001615</td>\n",
       "      <td>0</td>\n",
       "    </tr>\n",
       "  </tbody>\n",
       "</table>\n",
       "</div>"
      ],
      "text/plain": [
       "      gauss     mean4      std4  target\n",
       "0 -0.037536  4.351495  1.948629       0\n",
       "1  1.148765  5.073597  4.089965       0\n",
       "2 -0.555899  3.483781 -1.117679       0\n",
       "3 -0.551157  4.485236 -2.355329       0\n",
       "4  1.622337  3.812200  2.616566       1\n",
       "5  0.130307  3.129516 -4.470617       0\n",
       "6 -1.788674  3.609813 -0.001615       0"
      ]
     },
     "execution_count": 1028,
     "metadata": {},
     "output_type": "execute_result"
    }
   ],
   "source": [
    "x.head(7)"
   ]
  },
  {
   "cell_type": "code",
   "execution_count": 1029,
   "metadata": {},
   "outputs": [
    {
     "data": {
      "text/plain": [
       "<matplotlib.axes._subplots.AxesSubplot at 0x1a2b585310>"
      ]
     },
     "execution_count": 1029,
     "metadata": {},
     "output_type": "execute_result"
    },
    {
     "data": {
      "image/png": "[encoded data removed]",
      "text/plain": [
       "<Figure size 432x288 with 1 Axes>"
      ]
     },
     "metadata": {
      "needs_background": "light"
     },
     "output_type": "display_data"
    }
   ],
   "source": [
    "x[x.target == 0].mean4.plot.hist(bins=30)\n",
    "x[x.target == 1].mean4.plot.hist(bins=15)"
   ]
  },
  {
   "cell_type": "code",
   "execution_count": 1030,
   "metadata": {},
   "outputs": [
    {
     "data": {
      "text/plain": [
       "<matplotlib.axes._subplots.AxesSubplot at 0x1a2b6d63d0>"
      ]
     },
     "execution_count": 1030,
     "metadata": {},
     "output_type": "execute_result"
    },
    {
     "data": {
      "image/png": "[encoded data removed]",
      "text/plain": [
       "<Figure size 432x288 with 1 Axes>"
      ]
     },
     "metadata": {
      "needs_background": "light"
     },
     "output_type": "display_data"
    }
   ],
   "source": [
    "x[x.target == 0].std4.plot.hist(bins=30)\n",
    "x[x.target == 1].std4.plot.hist(bins=15)"
   ]
  },
  {
   "cell_type": "code",
   "execution_count": 1031,
   "metadata": {},
   "outputs": [
    {
     "data": {
      "text/plain": [
       "array([0, 1, 2, 3, 4])"
      ]
     },
     "execution_count": 1031,
     "metadata": {},
     "output_type": "execute_result"
    }
   ],
   "source": [
    "from sklearn.model_selection import KFold\n",
    "kf = KFold(n_splits=2, shuffle=False)\n",
    "train_idx, valid_idx = kf.split(x)\n",
    "split = [train_idx, valid_idx]\n",
    "split[0][1][:5]"
   ]
  },
  {
   "cell_type": "code",
   "execution_count": 1032,
   "metadata": {},
   "outputs": [
    {
     "data": {
      "text/plain": [
       "['mean4', 'gauss', 'std4']"
      ]
     },
     "execution_count": 1032,
     "metadata": {},
     "output_type": "execute_result"
    }
   ],
   "source": [
    "common_cols = list(set(x.columns) - {'target'})\n",
    "category_cols = []\n",
    "X_train = x[common_cols]\n",
    "y_train = x.target.astype(np.int8).values\n",
    "#y_train = y_train.reshape(300,1)#.transpose()\n",
    "\n",
    "common_cols"
   ]
  },
  {
   "cell_type": "code",
   "execution_count": 1033,
   "metadata": {},
   "outputs": [
    {
     "name": "stdout",
     "output_type": "stream",
     "text": [
      "(300,)\n"
     ]
    },
    {
     "data": {
      "text/plain": [
       "array([0, 0, 0, 0, 1], dtype=int8)"
      ]
     },
     "execution_count": 1033,
     "metadata": {},
     "output_type": "execute_result"
    }
   ],
   "source": [
    "print(y_train.shape)\n",
    "y_train[:5]"
   ]
  },
  {
   "cell_type": "code",
   "execution_count": 1034,
   "metadata": {},
   "outputs": [
    {
     "name": "stdout",
     "output_type": "stream",
     "text": [
      "========== NGBoost Classifier training on : (300, 3) ==========\n",
      "========== NGBoost Classifier training: 1/2 fold ==========\n",
      "[iter 0] loss=0.5269 val_loss=0.5798 scale=2.0000 norm=4.0000\n",
      "== Early stopping achieved.\n",
      "== Best iteration / VAL 116 (val_loss=0.0435)\n",
      "========== NGBoost Classifier training: 2/2 fold ==========\n",
      "[iter 0] loss=0.0431 val_loss=0.0046 scale=1.0000 norm=3.7327\n",
      "== Early stopping achieved.\n",
      "== Best iteration / VAL 61 (val_loss=0.0008)\n"
     ]
    }
   ],
   "source": [
    "oofs, models, fimp, dist = ngb_kfold_clf(X_train, y_train, split, objective='binary', bayes_opt=False)"
   ]
  },
  {
   "cell_type": "code",
   "execution_count": 1057,
   "metadata": {},
   "outputs": [
    {
     "data": {
      "text/plain": [
       "0.9966386459514938"
      ]
     },
     "execution_count": 1057,
     "metadata": {},
     "output_type": "execute_result"
    }
   ],
   "source": [
    "from sklearn.metrics import f1_score\n",
    "threshold = 0.5\n",
    "np.sqrt(f1_score(y_train, np.where(oofs > threshold, 1, 0)))"
   ]
  },
  {
   "cell_type": "code",
   "execution_count": 999,
   "metadata": {},
   "outputs": [
    {
     "data": {
      "image/png": "[encoded data removed]",
      "text/plain": [
       "<Figure size 432x288 with 1 Axes>"
      ]
     },
     "metadata": {
      "needs_background": "light"
     },
     "output_type": "display_data"
    },
    {
     "data": {
      "image/png": "[encoded data removed]",
      "text/plain": [
       "<Figure size 432x288 with 1 Axes>"
      ]
     },
     "metadata": {
      "needs_background": "light"
     },
     "output_type": "display_data"
    }
   ],
   "source": [
    "for i in fimp.fold.unique():\n",
    "    fimp.loc[fimp.fold == i][['feature', 'importance_loc']].plot.bar()"
   ]
  },
  {
   "cell_type": "code",
   "execution_count": 1000,
   "metadata": {},
   "outputs": [
    {
     "data": {
      "text/plain": [
       "<matplotlib.axes._subplots.AxesSubplot at 0x1a2b1b0a10>"
      ]
     },
     "execution_count": 1000,
     "metadata": {},
     "output_type": "execute_result"
    },
    {
     "data": {
      "image/png": "[encoded data removed]",
      "text/plain": [
       "<Figure size 432x288 with 1 Axes>"
      ]
     },
     "metadata": {
      "needs_background": "light"
     },
     "output_type": "display_data"
    }
   ],
   "source": [
    "dist.loc[dist.fold == 1]['P(y=p0|x)'].plot.hist()"
   ]
  },
  {
   "cell_type": "code",
   "execution_count": 1001,
   "metadata": {},
   "outputs": [
    {
     "data": {
      "text/plain": [
       "<matplotlib.axes._subplots.AxesSubplot at 0x1a2b31f8d0>"
      ]
     },
     "execution_count": 1001,
     "metadata": {},
     "output_type": "execute_result"
    },
    {
     "data": {
      "image/png": "[encoded data removed]",
      "text/plain": [
       "<Figure size 432x288 with 1 Axes>"
      ]
     },
     "metadata": {
      "needs_background": "light"
     },
     "output_type": "display_data"
    }
   ],
   "source": [
    "dist.loc[dist.fold == 2]['P(y=p0|x)'].plot.hist()"
   ]
  },
  {
   "cell_type": "code",
   "execution_count": 1084,
   "metadata": {},
   "outputs": [
    {
     "data": {
      "text/html": [
       "<div>\n",
       "<style scoped>\n",
       "    .dataframe tbody tr th:only-of-type {\n",
       "        vertical-align: middle;\n",
       "    }\n",
       "\n",
       "    .dataframe tbody tr th {\n",
       "        vertical-align: top;\n",
       "    }\n",
       "\n",
       "    .dataframe thead th {\n",
       "        text-align: right;\n",
       "    }\n",
       "</style>\n",
       "<table border=\"1\" class=\"dataframe\">\n",
       "  <thead>\n",
       "    <tr style=\"text-align: right;\">\n",
       "      <th></th>\n",
       "      <th>gauss</th>\n",
       "      <th>mean4</th>\n",
       "      <th>std4</th>\n",
       "      <th>target</th>\n",
       "    </tr>\n",
       "  </thead>\n",
       "  <tbody>\n",
       "    <tr>\n",
       "      <td>0</td>\n",
       "      <td>-0.220595</td>\n",
       "      <td>2.852191</td>\n",
       "      <td>2.607151</td>\n",
       "      <td>-0.210550</td>\n",
       "    </tr>\n",
       "    <tr>\n",
       "      <td>1</td>\n",
       "      <td>-1.021320</td>\n",
       "      <td>2.638162</td>\n",
       "      <td>6.511997</td>\n",
       "      <td>-0.912887</td>\n",
       "    </tr>\n",
       "    <tr>\n",
       "      <td>2</td>\n",
       "      <td>0.937852</td>\n",
       "      <td>3.628437</td>\n",
       "      <td>-4.648845</td>\n",
       "      <td>1.053167</td>\n",
       "    </tr>\n",
       "    <tr>\n",
       "      <td>3</td>\n",
       "      <td>0.645247</td>\n",
       "      <td>5.082996</td>\n",
       "      <td>-4.176688</td>\n",
       "      <td>0.559675</td>\n",
       "    </tr>\n",
       "    <tr>\n",
       "      <td>4</td>\n",
       "      <td>1.282817</td>\n",
       "      <td>4.537624</td>\n",
       "      <td>1.204621</td>\n",
       "      <td>1.388786</td>\n",
       "    </tr>\n",
       "  </tbody>\n",
       "</table>\n",
       "</div>"
      ],
      "text/plain": [
       "      gauss     mean4      std4    target\n",
       "0 -0.220595  2.852191  2.607151 -0.210550\n",
       "1 -1.021320  2.638162  6.511997 -0.912887\n",
       "2  0.937852  3.628437 -4.648845  1.053167\n",
       "3  0.645247  5.082996 -4.176688  0.559675\n",
       "4  1.282817  4.537624  1.204621  1.388786"
      ]
     },
     "execution_count": 1084,
     "metadata": {},
     "output_type": "execute_result"
    }
   ],
   "source": [
    "x = pd.DataFrame(np.random.randn(300), columns=['gauss'])\n",
    "x['mean4'] = np.random.randn(300)+4\n",
    "x['std4'] = np.random.randn(300)*4\n",
    "x['target'] = np.where((x['mean4'] <= 4) & (x['std4'] >= 0), int(1), int(0))\n",
    "x['target'] = x.gauss + np.random.randn(300) / 10\n",
    "x.head()"
   ]
  },
  {
   "cell_type": "code",
   "execution_count": 1085,
   "metadata": {},
   "outputs": [
    {
     "data": {
      "text/plain": [
       "array([0, 1, 2, 3, 4])"
      ]
     },
     "execution_count": 1085,
     "metadata": {},
     "output_type": "execute_result"
    }
   ],
   "source": [
    "from sklearn.model_selection import KFold\n",
    "kf = KFold(n_splits=2, shuffle=False)\n",
    "train_idx, valid_idx = kf.split(x)\n",
    "split = [train_idx, valid_idx]\n",
    "split[0][1][:5]"
   ]
  },
  {
   "cell_type": "code",
   "execution_count": 1086,
   "metadata": {},
   "outputs": [
    {
     "data": {
      "text/plain": [
       "['mean4', 'gauss', 'std4']"
      ]
     },
     "execution_count": 1086,
     "metadata": {},
     "output_type": "execute_result"
    }
   ],
   "source": [
    "common_cols = list(set(x.columns) - {'target'})\n",
    "category_cols = []\n",
    "X_train = x[common_cols]\n",
    "y_train = x.target.astype(np.int8).values\n",
    "#y_train = y_train.reshape(300,1)#.transpose()\n",
    "\n",
    "common_cols"
   ]
  },
  {
   "cell_type": "code",
   "execution_count": 1087,
   "metadata": {},
   "outputs": [
    {
     "name": "stdout",
     "output_type": "stream",
     "text": [
      "========== NGBoost Regressor training on : (300, 3) ==========\n",
      "========== NGBoost Regressor training: 1/2 fold ==========\n",
      "[iter 0] loss=0.9323 val_loss=1.0016 scale=1.0000 norm=0.8575\n",
      "== Early stopping achieved.\n",
      "== Best iteration / VAL 151 (val_loss=-0.3093)\n",
      "========== NGBoost Regressor training: 2/2 fold ==========\n",
      "[iter 0] loss=-0.0907 val_loss=-0.7410 scale=1.0000 norm=0.8376\n",
      "[iter 200] loss=-1.6505 val_loss=-1.3317 scale=1.0000 norm=0.4398\n",
      "== Early stopping achieved.\n",
      "== Best iteration / VAL 211 (val_loss=-1.3374)\n"
     ]
    }
   ],
   "source": [
    "oofs, models, fimp, dist = ngb_kfold_reg(X_train, y_train, split, distribution='normal', bayes_opt=False)"
   ]
  },
  {
   "cell_type": "code",
   "execution_count": 1088,
   "metadata": {},
   "outputs": [
    {
     "data": {
      "text/plain": [
       "0.1612157360199018"
      ]
     },
     "execution_count": 1088,
     "metadata": {},
     "output_type": "execute_result"
    }
   ],
   "source": [
    "from sklearn.metrics import mean_squared_error\n",
    "np.sqrt(mean_squared_error(y_train, oofs))"
   ]
  },
  {
   "cell_type": "code",
   "execution_count": 1089,
   "metadata": {},
   "outputs": [
    {
     "data": {
      "text/html": [
       "<div>\n",
       "<style scoped>\n",
       "    .dataframe tbody tr th:only-of-type {\n",
       "        vertical-align: middle;\n",
       "    }\n",
       "\n",
       "    .dataframe tbody tr th {\n",
       "        vertical-align: top;\n",
       "    }\n",
       "\n",
       "    .dataframe thead th {\n",
       "        text-align: right;\n",
       "    }\n",
       "</style>\n",
       "<table border=\"1\" class=\"dataframe\">\n",
       "  <thead>\n",
       "    <tr style=\"text-align: right;\">\n",
       "      <th></th>\n",
       "      <th>~dist(loc)</th>\n",
       "      <th>~dist(scale)</th>\n",
       "      <th>fold</th>\n",
       "    </tr>\n",
       "  </thead>\n",
       "  <tbody>\n",
       "    <tr>\n",
       "      <td>0</td>\n",
       "      <td>-0.001828</td>\n",
       "      <td>0.132564</td>\n",
       "      <td>1</td>\n",
       "    </tr>\n",
       "    <tr>\n",
       "      <td>1</td>\n",
       "      <td>-0.730759</td>\n",
       "      <td>0.400871</td>\n",
       "      <td>1</td>\n",
       "    </tr>\n",
       "    <tr>\n",
       "      <td>2</td>\n",
       "      <td>-0.001828</td>\n",
       "      <td>0.132564</td>\n",
       "      <td>1</td>\n",
       "    </tr>\n",
       "    <tr>\n",
       "      <td>3</td>\n",
       "      <td>-0.001828</td>\n",
       "      <td>0.132564</td>\n",
       "      <td>1</td>\n",
       "    </tr>\n",
       "    <tr>\n",
       "      <td>4</td>\n",
       "      <td>0.962871</td>\n",
       "      <td>0.266014</td>\n",
       "      <td>1</td>\n",
       "    </tr>\n",
       "  </tbody>\n",
       "</table>\n",
       "</div>"
      ],
      "text/plain": [
       "   ~dist(loc)  ~dist(scale)  fold\n",
       "0   -0.001828      0.132564     1\n",
       "1   -0.730759      0.400871     1\n",
       "2   -0.001828      0.132564     1\n",
       "3   -0.001828      0.132564     1\n",
       "4    0.962871      0.266014     1"
      ]
     },
     "execution_count": 1089,
     "metadata": {},
     "output_type": "execute_result"
    }
   ],
   "source": [
    "dist.head()"
   ]
  },
  {
   "cell_type": "code",
   "execution_count": 1096,
   "metadata": {},
   "outputs": [
    {
     "data": {
      "text/plain": [
       "<matplotlib.axes._subplots.AxesSubplot at 0x1a2c49b6d0>"
      ]
     },
     "execution_count": 1096,
     "metadata": {},
     "output_type": "execute_result"
    },
    {
     "data": {
      "image/png": "[encoded data removed]",
      "text/plain": [
       "<Figure size 432x288 with 1 Axes>"
      ]
     },
     "metadata": {
      "needs_background": "light"
     },
     "output_type": "display_data"
    }
   ],
   "source": [
    "dist.loc[dist.fold == 1, '~dist(loc)'].plot.kde()"
   ]
  },
  {
   "cell_type": "code",
   "execution_count": 1097,
   "metadata": {},
   "outputs": [
    {
     "data": {
      "text/plain": [
       "<matplotlib.axes._subplots.AxesSubplot at 0x1a2c553850>"
      ]
     },
     "execution_count": 1097,
     "metadata": {},
     "output_type": "execute_result"
    },
    {
     "data": {
      "image/png": "[encoded data removed]",
      "text/plain": [
       "<Figure size 432x288 with 1 Axes>"
      ]
     },
     "metadata": {
      "needs_background": "light"
     },
     "output_type": "display_data"
    }
   ],
   "source": [
    "dist.loc[dist.fold == 2, '~dist(scale)'].plot.kde()"
   ]
  },
  {
   "cell_type": "code",
   "execution_count": null,
   "metadata": {},
   "outputs": [],
   "source": []
  },
  {
   "cell_type": "code",
   "execution_count": null,
   "metadata": {},
   "outputs": [],
   "source": []
  }
 ],
 "metadata": {
  "kernelspec": {
   "display_name": "Python 3",
   "language": "python",
   "name": "python3"
  },
  "language_info": {
   "codemirror_mode": {
    "name": "ipython",
    "version": 3
   },
   "file_extension": ".py",
   "mimetype": "text/x-python",
   "name": "python",
   "nbconvert_exporter": "python",
   "pygments_lexer": "ipython3",
   "version": "3.7.4"
  }
 },
 "nbformat": 4,
 "nbformat_minor": 4
}
