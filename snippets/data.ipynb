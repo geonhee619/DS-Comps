{
 "cells": [
  {
   "cell_type": "markdown",
   "metadata": {},
   "source": [
    "## Data Related"
   ]
  },
  {
   "cell_type": "markdown",
   "metadata": {},
   "source": [
    "### Clipping"
   ]
  },
  {
   "cell_type": "code",
   "execution_count": 16,
   "metadata": {},
   "outputs": [],
   "source": [
    "def apply_clip(df, str_col, pct_lower, pct_upper):\n",
    "    LB, UB = np.percentile(df[str_col], [pct_lower, pct_upper])\n",
    "    df[str_col] = np.clip(df[str_col], LB, UB)\n",
    "    del LB, UB; gc.collect()"
   ]
  },
  {
   "cell_type": "markdown",
   "metadata": {},
   "source": [
    "### Interpolation"
   ]
  },
  {
   "cell_type": "code",
   "execution_count": 17,
   "metadata": {},
   "outputs": [],
   "source": [
    "def apply_interpolation(df, subject_cols, int_order, supp_median_fill=False):\n",
    "    lin = lambda var: var.interpolate(method='linear', limit_direction='both')\n",
    "    pol = lambda var: var.interpolate(method='polynomial', order=int_order, limit_direction='both')\n",
    "    \n",
    "    # ===== in ASHRAE, grouping was done via site_id =====\n",
    "    # linear = df.groupby(grouping_col).apply(lin)\n",
    "    # polyno = df.groupby(grouping_col).apply(pol)\n",
    "    \n",
    "    linear = df[subject_cols].apply(lin)\n",
    "    polyno = df[subject_cols].apply(pol)\n",
    "    df[subject_cols] = (linear[subject_cols] + polyno[subject_cols]) * 0.5\n",
    "    \n",
    "    # ===== if missing value remains: =====\n",
    "    if supp_median_fill:\n",
    "        #[col for col in cols if temp[col].isna().sum() > 0]\n",
    "        for col in subject_cols:\n",
    "            df[col].fillna(df[col].median(), inplace=True)\n",
    "            del col\n",
    "    del lin, pol, linear, polyno; gc.collect()"
   ]
  },
  {
   "cell_type": "markdown",
   "metadata": {},
   "source": [
    "### Dist. Normalizer"
   ]
  },
  {
   "cell_type": "code",
   "execution_count": 336,
   "metadata": {},
   "outputs": [],
   "source": [
    "from scipy.stats import yeojohnson\n",
    "from scipy.stats import jarque_bera\n",
    "#from scipy.special import boxcox1p\n",
    "#from scipy.stats import boxcox\n",
    "from sklearn.preprocessing import StandardScaler, MinMaxScaler"
   ]
  },
  {
   "cell_type": "code",
   "execution_count": 467,
   "metadata": {},
   "outputs": [],
   "source": [
    "class apply_standardize:\n",
    "    def jarque_bera_test(df, str_col, how, alpha):\n",
    "        if any(alpha):\n",
    "            assert df[f'{str_col}_{how}'].shape[0] >= 2000, print('Not enough samples (>=2000)')\n",
    "            test_stat, p_val = jarque_bera(df[f'{str_col}_{how}'])\n",
    "            print(f'Jarque-Bera (χ2) Normality Check:\\n- H0: is normally distributed\\n- H1: not from normal dist')\n",
    "            print(f'test-stat - {test_stat}\\np-value - {p_val}\\n')\n",
    "            for a in alpha:\n",
    "                if p_val < a:\n",
    "                    print(f'sig_lev: {a}\\nRejected 0 - nonnormal')\n",
    "                elif p_val > a:\n",
    "                    print(f\"sig_lev: {a}\\nRej Fail'd - normal\")\n",
    "\n",
    "    def internal_apply(df, str_col, how):\n",
    "        if how == 'Z':\n",
    "            sc = StandardScaler()\n",
    "            temp = df[str_col].values.reshape(df[str_col].shape[0], 1)\n",
    "            return sc.fit_transform(temp)\n",
    "        elif how == 'minmax':\n",
    "            ms = StandardScaler()\n",
    "            temp = df[str_col].values.reshape(df[str_col].shape[0], 1)\n",
    "            return ms.fit_transform(temp)\n",
    "        elif how == 'yeo':\n",
    "            yeo, yeo_lam = yeojohnson(df[str_col])\n",
    "            return yeo\n",
    "        else:\n",
    "            raise NotImplementedError(\"Acceptable arg how: 'Z', 'minmax', 'yeo'\")\n",
    "\n",
    "    def apply_ln(df, str_col):\n",
    "        temp_count = df[f'{str_col}'].isna().sum()\n",
    "        df[f'{str_col}'] = np.log1p(df[f'{str_col}'])\n",
    "        if df[f'{str_col}'].isna().sum() > temp_count:\n",
    "            print(f\"New nan in '{str_col}' via apply_nonlinear\")\n",
    "        del temp_count; gc.collect()\n",
    "\n",
    "    def apply(df, str_col, how, alpha=[], overwrite=True):\n",
    "        transformed = apply_standardize.internal_apply(df=df, str_col=str_col, how=how)\n",
    "        if overwrite:\n",
    "            df[f'{str_col}'] = transformed\n",
    "            apply_standardize.jarque_bera_test(df=df, str_col=str_col,\n",
    "                                             how=how, alpha=alpha)\n",
    "        elif not overwrite:\n",
    "            df[f'{str_col}_{how}'] = transformed\n",
    "            apply_standardize.jarque_bera_test(df=df, str_col=str_col,\n",
    "                                             how=how, alpha=alpha)\n",
    "            del df[f'{str_col}']; gc.collect()\n",
    "\n",
    "    def yeo_lambda():\n",
    "        None\n",
    "    def denormalize(lam_tup):\n",
    "        None"
   ]
  },
  {
   "cell_type": "code",
   "execution_count": 468,
   "metadata": {},
   "outputs": [
    {
     "data": {
      "text/html": [
       "<div>\n",
       "<style scoped>\n",
       "    .dataframe tbody tr th:only-of-type {\n",
       "        vertical-align: middle;\n",
       "    }\n",
       "\n",
       "    .dataframe tbody tr th {\n",
       "        vertical-align: top;\n",
       "    }\n",
       "\n",
       "    .dataframe thead th {\n",
       "        text-align: right;\n",
       "    }\n",
       "</style>\n",
       "<table border=\"1\" class=\"dataframe\">\n",
       "  <thead>\n",
       "    <tr style=\"text-align: right;\">\n",
       "      <th></th>\n",
       "      <th>gauss</th>\n",
       "    </tr>\n",
       "  </thead>\n",
       "  <tbody>\n",
       "    <tr>\n",
       "      <td>0</td>\n",
       "      <td>0.748642</td>\n",
       "    </tr>\n",
       "    <tr>\n",
       "      <td>1</td>\n",
       "      <td>0.741789</td>\n",
       "    </tr>\n",
       "    <tr>\n",
       "      <td>2</td>\n",
       "      <td>0.398563</td>\n",
       "    </tr>\n",
       "    <tr>\n",
       "      <td>3</td>\n",
       "      <td>0.903010</td>\n",
       "    </tr>\n",
       "    <tr>\n",
       "      <td>4</td>\n",
       "      <td>0.363437</td>\n",
       "    </tr>\n",
       "  </tbody>\n",
       "</table>\n",
       "</div>"
      ],
      "text/plain": [
       "      gauss\n",
       "0  0.748642\n",
       "1  0.741789\n",
       "2  0.398563\n",
       "3  0.903010\n",
       "4  0.363437"
      ]
     },
     "execution_count": 468,
     "metadata": {},
     "output_type": "execute_result"
    },
    {
     "data": {
      "image/png": "[encoded data removed]",
      "text/plain": [
       "<Figure size 432x288 with 1 Axes>"
      ]
     },
     "metadata": {
      "needs_background": "light"
     },
     "output_type": "display_data"
    }
   ],
   "source": [
    "x_box = pd.DataFrame(np.random.rand(10000), columns=['gauss'])\n",
    "x_box.gauss.plot.hist(bins=100)\n",
    "x_box.head()"
   ]
  },
  {
   "cell_type": "code",
   "execution_count": 469,
   "metadata": {},
   "outputs": [
    {
     "name": "stdout",
     "output_type": "stream",
     "text": [
      "Jarque-Bera (χ2) Normality Check:\n",
      "- H0: is normally distributed\n",
      "- H1: not from normal dist\n",
      "test-stat - 599.9084574751167\n",
      "p-value - 0.0\n",
      "\n",
      "sig_lev: 0.3\n",
      "Rejected 0 - nonnormal\n"
     ]
    },
    {
     "data": {
      "text/html": [
       "<div>\n",
       "<style scoped>\n",
       "    .dataframe tbody tr th:only-of-type {\n",
       "        vertical-align: middle;\n",
       "    }\n",
       "\n",
       "    .dataframe tbody tr th {\n",
       "        vertical-align: top;\n",
       "    }\n",
       "\n",
       "    .dataframe thead th {\n",
       "        text-align: right;\n",
       "    }\n",
       "</style>\n",
       "<table border=\"1\" class=\"dataframe\">\n",
       "  <thead>\n",
       "    <tr style=\"text-align: right;\">\n",
       "      <th></th>\n",
       "      <th>gauss_yeo</th>\n",
       "    </tr>\n",
       "  </thead>\n",
       "  <tbody>\n",
       "    <tr>\n",
       "      <td>0</td>\n",
       "      <td>0.679267</td>\n",
       "    </tr>\n",
       "    <tr>\n",
       "      <td>1</td>\n",
       "      <td>0.673542</td>\n",
       "    </tr>\n",
       "    <tr>\n",
       "      <td>2</td>\n",
       "      <td>0.376595</td>\n",
       "    </tr>\n",
       "    <tr>\n",
       "      <td>3</td>\n",
       "      <td>0.806379</td>\n",
       "    </tr>\n",
       "    <tr>\n",
       "      <td>4</td>\n",
       "      <td>0.344946</td>\n",
       "    </tr>\n",
       "  </tbody>\n",
       "</table>\n",
       "</div>"
      ],
      "text/plain": [
       "   gauss_yeo\n",
       "0   0.679267\n",
       "1   0.673542\n",
       "2   0.376595\n",
       "3   0.806379\n",
       "4   0.344946"
      ]
     },
     "execution_count": 469,
     "metadata": {},
     "output_type": "execute_result"
    }
   ],
   "source": [
    "apply_standardize.apply(x_box, 'gauss', how='yeo', alpha=[0.3], overwrite=False)\n",
    "x_box.head()"
   ]
  },
  {
   "cell_type": "markdown",
   "metadata": {},
   "source": [
    "### Adversarial Validation with LightGBM"
   ]
  },
  {
   "cell_type": "code",
   "execution_count": 318,
   "metadata": {},
   "outputs": [],
   "source": [
    "def lgb_kfold_adv(X_train, X_test, category_cols, n_splits=5, shuffle=True):\n",
    "    X_train_adv = X_train.copy()\n",
    "    X_test_adv = X_test.copy()\n",
    "    X_train_adv['is_test'] = 0\n",
    "    X_test_adv['is_test'] = 1\n",
    "    X_adv = pd.concat([X_train_adv, X_test_adv], axis=0).reset_index(drop=True)\n",
    "    y_adv = X_adv['is_test'].values\n",
    "    del X_adv['is_test']; gc.collect()\n",
    "    \n",
    "    \n",
    "    split = build_cv_spliter(X_train=X_adv,\n",
    "                             y_train=y_adv,\n",
    "                             strategy='stratified',\n",
    "                             n_splits=n_splits,\n",
    "                             shuffle=shuffle,\n",
    "                             seed=8982)\n",
    "    \n",
    "    oofs, models, fimp = lgb_kfold_clf(X_train=X_adv,\n",
    "                                       y_train=y_adv,\n",
    "                                       category_cols=category_cols,\n",
    "                                       split=split,\n",
    "                                       bayes_opt=False)\n",
    "    \n",
    "    return fimp"
   ]
  },
  {
   "cell_type": "code",
   "execution_count": 508,
   "metadata": {},
   "outputs": [],
   "source": [
    "x_train = pd.DataFrame(np.random.randn(200), columns=['gauss'])\n",
    "x_test = pd.DataFrame(np.random.randn(200)+3, columns=['gauss'])\n",
    "common_cols = list(set(x_train.columns).intersection(set(x_test.columns)))"
   ]
  },
  {
   "cell_type": "code",
   "execution_count": 509,
   "metadata": {},
   "outputs": [
    {
     "name": "stdout",
     "output_type": "stream",
     "text": [
      "========== LightGBM Classifier training on : (400, 1) ==========\n",
      "========== LightGBM Classifier training: 1/5 fold ==========\n",
      "Training until validation scores don't improve for 20 rounds\n",
      "Early stopping, best iteration is:\n",
      "[26]\ttraining's auc: 0.985469\tvalid_1's auc: 0.989062\n",
      "\n"
     ]
    },
    {
     "name": "stderr",
     "output_type": "stream",
     "text": [
      "C:\\Users\\ome3\\Anaconda3\\lib\\site-packages\\lightgbm\\basic.py:1291: UserWarning: Using categorical_feature in Dataset.\n",
      "  warnings.warn('Using categorical_feature in Dataset.')\n"
     ]
    },
    {
     "name": "stdout",
     "output_type": "stream",
     "text": [
      "========== LightGBM Classifier training: 2/5 fold ==========\n",
      "Training until validation scores don't improve for 20 rounds\n",
      "Early stopping, best iteration is:\n",
      "[6]\ttraining's auc: 0.98625\tvalid_1's auc: 0.98\n",
      "\n",
      "========== LightGBM Classifier training: 3/5 fold ==========\n",
      "Training until validation scores don't improve for 20 rounds\n",
      "Early stopping, best iteration is:\n",
      "[6]\ttraining's auc: 0.983789\tvalid_1's auc: 0.985\n",
      "\n",
      "========== LightGBM Classifier training: 4/5 fold ==========\n",
      "Training until validation scores don't improve for 20 rounds\n",
      "Early stopping, best iteration is:\n",
      "[8]\ttraining's auc: 0.984141\tvalid_1's auc: 0.981563\n",
      "\n",
      "========== LightGBM Classifier training: 5/5 fold ==========\n",
      "Training until validation scores don't improve for 20 rounds\n",
      "Early stopping, best iteration is:\n",
      "[6]\ttraining's auc: 0.985137\tvalid_1's auc: 0.970625\n",
      "\n",
      "====================\n",
      "CV AVG: auc - 0.98125\n",
      "CV STD: auc - 0.006158708265537508\n",
      "====================\n"
     ]
    },
    {
     "data": {
      "text/html": [
       "<div>\n",
       "<style scoped>\n",
       "    .dataframe tbody tr th:only-of-type {\n",
       "        vertical-align: middle;\n",
       "    }\n",
       "\n",
       "    .dataframe tbody tr th {\n",
       "        vertical-align: top;\n",
       "    }\n",
       "\n",
       "    .dataframe thead th {\n",
       "        text-align: right;\n",
       "    }\n",
       "</style>\n",
       "<table border=\"1\" class=\"dataframe\">\n",
       "  <thead>\n",
       "    <tr style=\"text-align: right;\">\n",
       "      <th></th>\n",
       "      <th>feature</th>\n",
       "      <th>importance</th>\n",
       "      <th>fold</th>\n",
       "    </tr>\n",
       "  </thead>\n",
       "  <tbody>\n",
       "    <tr>\n",
       "      <td>0</td>\n",
       "      <td>gauss</td>\n",
       "      <td>162</td>\n",
       "      <td>1</td>\n",
       "    </tr>\n",
       "    <tr>\n",
       "      <td>0</td>\n",
       "      <td>gauss</td>\n",
       "      <td>42</td>\n",
       "      <td>2</td>\n",
       "    </tr>\n",
       "    <tr>\n",
       "      <td>0</td>\n",
       "      <td>gauss</td>\n",
       "      <td>31</td>\n",
       "      <td>3</td>\n",
       "    </tr>\n",
       "    <tr>\n",
       "      <td>0</td>\n",
       "      <td>gauss</td>\n",
       "      <td>47</td>\n",
       "      <td>4</td>\n",
       "    </tr>\n",
       "    <tr>\n",
       "      <td>0</td>\n",
       "      <td>gauss</td>\n",
       "      <td>33</td>\n",
       "      <td>5</td>\n",
       "    </tr>\n",
       "  </tbody>\n",
       "</table>\n",
       "</div>"
      ],
      "text/plain": [
       "  feature  importance  fold\n",
       "0   gauss         162     1\n",
       "0   gauss          42     2\n",
       "0   gauss          31     3\n",
       "0   gauss          47     4\n",
       "0   gauss          33     5"
      ]
     },
     "execution_count": 509,
     "metadata": {},
     "output_type": "execute_result"
    }
   ],
   "source": [
    "lgb_kfold_adv(x_train, x_test, category_cols=[], n_splits=5, shuffle=True)"
   ]
  }
 ],
 "metadata": {
  "kernelspec": {
   "display_name": "Python 3",
   "language": "python",
   "name": "python3"
  },
  "language_info": {
   "codemirror_mode": {
    "name": "ipython",
    "version": 3
   },
   "file_extension": ".py",
   "mimetype": "text/x-python",
   "name": "python",
   "nbconvert_exporter": "python",
   "pygments_lexer": "ipython3",
   "version": "3.7.4"
  }
 },
 "nbformat": 4,
 "nbformat_minor": 4
}
