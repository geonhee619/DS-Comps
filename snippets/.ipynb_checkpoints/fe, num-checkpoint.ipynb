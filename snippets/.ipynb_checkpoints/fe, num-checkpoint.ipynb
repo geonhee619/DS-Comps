{
 "cells": [
  {
   "cell_type": "markdown",
   "metadata": {},
   "source": [
    "## Feature Related (Numerical)"
   ]
  },
  {
   "cell_type": "code",
   "execution_count": 7,
   "metadata": {},
   "outputs": [],
   "source": [
    "# aggs = {\n",
    "#     'uid': ['count'],\n",
    "#     'is_manual': ['sum', 'mean'],\n",
    "#     'elapsed_days_succeeded_created': ['mean', 'std', 'max', 'min'],\n",
    "#     'elapsed_days_created_premium': ['mean', 'std', 'max', 'min'],\n",
    "#     'elapsed_days_created': ['mean', 'std', 'max', 'min'],\n",
    "#     'elapsed_days_succeeded_premium': ['mean', 'std', 'max', 'min'],\n",
    "#     'elapsed_days_succeeded': ['mean', 'std', 'max', 'min'],\n",
    "#     'created_before_premium': ['sum', 'mean'],\n",
    "#     'created_after_premium': ['sum', 'mean'],\n",
    "#     'succeeded_before_premium': ['sum', 'mean'],\n",
    "#     'succeeded_before_premium': ['sum', 'mean'],\n",
    "# }\n",
    "# aggs.update({col: ['sum', 'mean'] for col in service_category_id_cols})\n",
    "\n",
    "# group_account_df = account_df.groupby(ID).agg(aggs)\n",
    "# group_account_df.columns = [f'{k}_{v.upper()}' for k, vs in aggs.items() for v in vs]\n",
    "# group_account_df = group_account_df.reset_index()"
   ]
  },
  {
   "cell_type": "markdown",
   "metadata": {},
   "source": [
    "### Cyclical Encode"
   ]
  },
  {
   "cell_type": "code",
   "execution_count": 8,
   "metadata": {},
   "outputs": [],
   "source": [
    "def apply_cyclical(df, str_col):\n",
    "    # e.g. df['hr'] = df.timestamp.dt.hour; apply_cyclical(df, 'hr')\n",
    "    # ===== assumes integer array =====\n",
    "    # ===== assumes min and max exists in array =====\n",
    "    temp = pd.DataFrame()\n",
    "    temp['unique_sorted'] = (df[str_col] - df[str_col].min()).sort_values().unique()\n",
    "    int_max = temp.unique_sorted.max()\n",
    "    temp['sin'] = np.sin(2 * np.pi * temp.unique_sorted / int_max)\n",
    "    temp['cos'] = np.cos(2 * np.pi * temp.unique_sorted / int_max)\n",
    "    temp = temp.set_index('unique_sorted')\n",
    "    df[f'{str_col}_sin'] = (df[str_col] - df[str_col].min()).map(temp.sin)\n",
    "    df[f'{str_col}_cos'] = (df[str_col] - df[str_col].min()).map(temp.cos)\n",
    "    del temp, int_max; gc.collect()"
   ]
  },
  {
   "cell_type": "markdown",
   "metadata": {},
   "source": [
    "### Rolling Statistic"
   ]
  },
  {
   "cell_type": "code",
   "execution_count": 9,
   "metadata": {},
   "outputs": [],
   "source": [
    "def apply_mov_stat(df, str_col, list_windows, fix=False, print_option=True):\n",
    "\n",
    "    # ===== assumes timestamp is aligned =====\n",
    "    for win in list_windows:\n",
    "        rolled = df[str_col].rolling(window=win, min_periods=0)\n",
    "        mov_avg = rolled.mean().reset_index() #.astype(np.float16)\n",
    "        mov_max = rolled.max().reset_index() #.astype(np.float16)\n",
    "        mov_min = rolled.min().reset_index() #.astype(np.float16)\n",
    "        mov_std = rolled.std().reset_index() #.astype(np.float16)\n",
    "        if win >= 4:\n",
    "            mov_Q1 = rolled.quantile(0.25).reset_index() #.astype(np.float16)\n",
    "            mov_Q2 = rolled.quantile(0.5).reset_index() #.astype(np.float16)\n",
    "            mov_Q3 = rolled.quantile(0.75).reset_index() #.astype(np.float16)\n",
    "\n",
    "        if fix:\n",
    "            formula = int((win/2) - win)\n",
    "            df[f'{str_col}_movavg_{win}'] = mov_avg[f'{str_col}'].shift(formula)\n",
    "            df[f'{str_col}_movmax_{win}'] = mov_max[f'{str_col}'].shift(formula)\n",
    "            df[f'{str_col}_movmin_{win}'] = mov_min[f'{str_col}'].shift(formula)\n",
    "            df[f'{str_col}_movstd_{win}'] = mov_std[f'{str_col}'].shift(formula)\n",
    "            if win >= 4:\n",
    "                df[f'{str_col}_movQ1_{win}'] = mov_Q1[f'{str_col}'].shift(formula)\n",
    "                df[f'{str_col}_movQ2_{win}'] = mov_Q2[f'{str_col}'].shift(formula)\n",
    "                df[f'{str_col}_movQ3_{win}'] = mov_Q3[f'{str_col}'].shift(formula)\n",
    "            print()\n",
    "            del formula\n",
    "        else:\n",
    "            df[f'{str_col}_movavg_{win}'] = mov_avg[f'{str_col}']\n",
    "            df[f'{str_col}_movmax_{win}'] = mov_max[f'{str_col}']\n",
    "            df[f'{str_col}_movmin_{win}'] = mov_min[f'{str_col}']\n",
    "            df[f'{str_col}_movstd_{win}'] = mov_std[f'{str_col}']\n",
    "            if win >= 4:\n",
    "                df[f'{str_col}_movQ1_{win}'] = mov_Q1[f'{str_col}']\n",
    "                df[f'{str_col}_movQ2_{win}'] = mov_Q2[f'{str_col}']\n",
    "                df[f'{str_col}_movQ3_{win}'] = mov_Q3[f'{str_col}']\n",
    "            print()\n",
    "        \n",
    "        if print_option:\n",
    "            print('Generated features: apply_mov_stat')\n",
    "            print(f\"'{str_col}_movavg_{win}',\")\n",
    "            print(f\"'{str_col}_movmax_{win}',\")\n",
    "            print(f\"'{str_col}_movmin_{win}',\")\n",
    "            print(f\"'{str_col}_movstd_{win}',\")\n",
    "            if win >= 4:\n",
    "                print(f\"'{str_col}_movQ1_{win}',\")\n",
    "                print(f\"'{str_col}_movQ2_{win}',\")\n",
    "                print(f\"'{str_col}_movQ3_{win}',\")\n",
    "            print()\n",
    "            \n",
    "    del win, rolled, mov_avg, mov_max, mov_min, mov_std; gc.collect()\n",
    "    if any([val for val in list_windows if val >= 4]):\n",
    "        del mov_Q1, mov_Q2, mov_Q3; gc.collect()"
   ]
  },
  {
   "cell_type": "markdown",
   "metadata": {},
   "source": [
    "### Shift Features"
   ]
  },
  {
   "cell_type": "code",
   "execution_count": 11,
   "metadata": {},
   "outputs": [],
   "source": [
    "def apply_shift_feature(df, subject_cols, list_shift, print_option=True):\n",
    "    for col in subject_cols:\n",
    "        for step in list_shift:\n",
    "            df[f'{col}_shift_{step}'] = df[col].shift(int(step))\n",
    "            \n",
    "    if print_option:\n",
    "        for col in subject_cols:\n",
    "            for step in list_shift:\n",
    "                print(f\"'{col}_shift_{step}',\")\n",
    "        \n",
    "    del col, step; gc.collect()"
   ]
  },
  {
   "cell_type": "markdown",
   "metadata": {},
   "source": [
    "### Oneth Feature"
   ]
  },
  {
   "cell_type": "code",
   "execution_count": 12,
   "metadata": {},
   "outputs": [],
   "source": [
    "def apply_oneth_feature(df, str_col, print_option=True):\n",
    "    import math\n",
    "    modify = np.vectorize(math.modf)\n",
    "    oneth, tenth = modify(df[str_col] / 10)\n",
    "    df[f'{str_col}_oneth'] = oneth * 10\n",
    "    \n",
    "    if print_option:\n",
    "        print(f\"'{str_col}_oneth',\")\n",
    "        \n",
    "    del tenth; gc.collect()"
   ]
  },
  {
   "cell_type": "markdown",
   "metadata": {},
   "source": [
    "### nan Binary Features"
   ]
  },
  {
   "cell_type": "code",
   "execution_count": 13,
   "metadata": {},
   "outputs": [],
   "source": [
    "def apply_isna_feature(df, subject_cols, print_option=True):\n",
    "    binary_isna = [col+\"_isnan\" for col in subject_cols]\n",
    "    df[binary_isna] = df[subject_cols].isna().astype(int)\n",
    "    \n",
    "    if print_option:\n",
    "        for col in binary_isna:\n",
    "            print(f\"'{col}',\")\n",
    "        \n",
    "    del binary_isna; gc.collect()"
   ]
  },
  {
   "cell_type": "markdown",
   "metadata": {},
   "source": [
    "### Row nan Count Feature"
   ]
  },
  {
   "cell_type": "code",
   "execution_count": 14,
   "metadata": {},
   "outputs": [],
   "source": [
    "def apply_row_nan(df, print_option=True):\n",
    "    df['row_nan'] = df.isna().sum(axis=1).astype(np.int8)\n",
    "    \n",
    "    if print_option:\n",
    "        print(\"'row_nan',\")"
   ]
  },
  {
   "cell_type": "markdown",
   "metadata": {},
   "source": [
    "### Bruteforce Combination"
   ]
  },
  {
   "cell_type": "code",
   "execution_count": 15,
   "metadata": {},
   "outputs": [],
   "source": [
    "def bruteforce_combination(df, subject_cols, choose=2, print_option=True):\n",
    "    from itertools import combinations\n",
    "    comb = combinations(subject_cols, choose)\n",
    "    for feat_1, feat_2 in comb:\n",
    "        df[f'{feat_1}_.+_{feat_2}'] = df[f'{feat_1}'] + df[f'{feat_1}']\n",
    "        df[f'{feat_1}_.-_{feat_2}'] = df[f'{feat_1}'] - df[f'{feat_1}']\n",
    "        df[f'{feat_1}_.*_{feat_2}'] = df[f'{feat_1}'] * df[f'{feat_1}']\n",
    "        df[f'{feat_1}_./_{feat_2}'] = df[f'{feat_1}'] / df[f'{feat_1}']\n",
    "            \n",
    "    if print_option:\n",
    "        for feat_1, feat_2 in comb:\n",
    "            print(f\"'{feat_1}_.+_{feat_2}',\")\n",
    "            print(f\"'{feat_1}_.-_{feat_2}',\")\n",
    "            print(f\"'{feat_1}_.*_{feat_2}',\")\n",
    "            print(f\"'{feat_1}_./_{feat_2}',\")\n",
    "            \n",
    "    del comb, feat_1, feat_2; gc.collect()"
   ]
  },
  {
   "cell_type": "markdown",
   "metadata": {},
   "source": [
    "### Polynomial Features"
   ]
  },
  {
   "cell_type": "code",
   "execution_count": 9,
   "metadata": {},
   "outputs": [
    {
     "data": {
      "text/html": [
       "<div>\n",
       "<style scoped>\n",
       "    .dataframe tbody tr th:only-of-type {\n",
       "        vertical-align: middle;\n",
       "    }\n",
       "\n",
       "    .dataframe tbody tr th {\n",
       "        vertical-align: top;\n",
       "    }\n",
       "\n",
       "    .dataframe thead th {\n",
       "        text-align: right;\n",
       "    }\n",
       "</style>\n",
       "<table border=\"1\" class=\"dataframe\">\n",
       "  <thead>\n",
       "    <tr style=\"text-align: right;\">\n",
       "      <th></th>\n",
       "      <th>one</th>\n",
       "      <th>two</th>\n",
       "      <th>three</th>\n",
       "    </tr>\n",
       "  </thead>\n",
       "  <tbody>\n",
       "    <tr>\n",
       "      <td>0</td>\n",
       "      <td>1</td>\n",
       "      <td>2</td>\n",
       "      <td>3</td>\n",
       "    </tr>\n",
       "    <tr>\n",
       "      <td>1</td>\n",
       "      <td>2</td>\n",
       "      <td>4</td>\n",
       "      <td>4</td>\n",
       "    </tr>\n",
       "    <tr>\n",
       "      <td>2</td>\n",
       "      <td>3</td>\n",
       "      <td>7</td>\n",
       "      <td>4</td>\n",
       "    </tr>\n",
       "  </tbody>\n",
       "</table>\n",
       "</div>"
      ],
      "text/plain": [
       "   one  two  three\n",
       "0    1    2      3\n",
       "1    2    4      4\n",
       "2    3    7      4"
      ]
     },
     "execution_count": 9,
     "metadata": {},
     "output_type": "execute_result"
    }
   ],
   "source": [
    "import pandas as pd\n",
    "import numpy as np\n",
    "from sklearn.preprocessing import PolynomialFeatures\n",
    "\n",
    "x = pd.DataFrame(np.array([[1,2,3],[2,4,7],[3,4,4]]).transpose(), columns=['one', 'two', 'three']).astype(np.int8)\n",
    "x"
   ]
  },
  {
   "cell_type": "code",
   "execution_count": 32,
   "metadata": {},
   "outputs": [
    {
     "data": {
      "text/plain": [
       "array([[ 1.,  2.,  3.,  2.,  3.,  6.,  6.],\n",
       "       [ 2.,  4.,  4.,  8.,  8., 16., 32.],\n",
       "       [ 3.,  7.,  4., 21., 12., 28., 84.]])"
      ]
     },
     "execution_count": 32,
     "metadata": {},
     "output_type": "execute_result"
    }
   ],
   "source": [
    "poly = PolynomialFeatures(degree=3, interaction_only=True, include_bias=False, order='C')\n",
    "poly.fit_transform(x)"
   ]
  },
  {
   "cell_type": "code",
   "execution_count": 33,
   "metadata": {},
   "outputs": [
    {
     "data": {
      "text/plain": [
       "['x0', 'x1', 'x2', 'x0 x1', 'x0 x2', 'x1 x2', 'x0 x1 x2']"
      ]
     },
     "execution_count": 33,
     "metadata": {},
     "output_type": "execute_result"
    }
   ],
   "source": [
    "poly.get_feature_names()"
   ]
  },
  {
   "cell_type": "markdown",
   "metadata": {},
   "source": [
    "### Binning"
   ]
  },
  {
   "cell_type": "code",
   "execution_count": 98,
   "metadata": {},
   "outputs": [],
   "source": [
    "class apply_bin:\n",
    "    def cut(df, subject_cols, n_bin):\n",
    "        for col in subject_cols:\n",
    "            df[f'{col}_c_bin_{n_bin}'] = pd.cut(df[col], bins=n_bin, labels=False)\n",
    "    def qcut(df, subject_cols, n_q):\n",
    "        for col in subject_cols:\n",
    "            df[f'{col}_q_bin_{n_q}'] = pd.qcut(df[col], q=n_q, labels=False)"
   ]
  },
  {
   "cell_type": "code",
   "execution_count": 99,
   "metadata": {},
   "outputs": [
    {
     "data": {
      "text/html": [
       "<div>\n",
       "<style scoped>\n",
       "    .dataframe tbody tr th:only-of-type {\n",
       "        vertical-align: middle;\n",
       "    }\n",
       "\n",
       "    .dataframe tbody tr th {\n",
       "        vertical-align: top;\n",
       "    }\n",
       "\n",
       "    .dataframe thead th {\n",
       "        text-align: right;\n",
       "    }\n",
       "</style>\n",
       "<table border=\"1\" class=\"dataframe\">\n",
       "  <thead>\n",
       "    <tr style=\"text-align: right;\">\n",
       "      <th></th>\n",
       "      <th>gauss</th>\n",
       "    </tr>\n",
       "  </thead>\n",
       "  <tbody>\n",
       "    <tr>\n",
       "      <td>0</td>\n",
       "      <td>0.110594</td>\n",
       "    </tr>\n",
       "    <tr>\n",
       "      <td>1</td>\n",
       "      <td>0.524689</td>\n",
       "    </tr>\n",
       "    <tr>\n",
       "      <td>2</td>\n",
       "      <td>-2.079909</td>\n",
       "    </tr>\n",
       "    <tr>\n",
       "      <td>3</td>\n",
       "      <td>-0.380613</td>\n",
       "    </tr>\n",
       "    <tr>\n",
       "      <td>4</td>\n",
       "      <td>-0.367914</td>\n",
       "    </tr>\n",
       "  </tbody>\n",
       "</table>\n",
       "</div>"
      ],
      "text/plain": [
       "      gauss\n",
       "0  0.110594\n",
       "1  0.524689\n",
       "2 -2.079909\n",
       "3 -0.380613\n",
       "4 -0.367914"
      ]
     },
     "execution_count": 99,
     "metadata": {},
     "output_type": "execute_result"
    }
   ],
   "source": [
    "x_bin = pd.DataFrame(np.random.randn(1000), columns=['gauss'])\n",
    "x_bin.head()"
   ]
  },
  {
   "cell_type": "code",
   "execution_count": 132,
   "metadata": {},
   "outputs": [
    {
     "name": "stdout",
     "output_type": "stream",
     "text": [
      "gauss_c_bin_5\n",
      "2    507\n",
      "1    236\n",
      "3    220\n",
      "4     24\n",
      "0     13\n",
      "Name: gauss_c_bin_5, dtype: int64\n"
     ]
    },
    {
     "data": {
      "image/png": "[encoded data removed]",
      "text/plain": [
       "<Figure size 432x288 with 1 Axes>"
      ]
     },
     "metadata": {
      "needs_background": "light"
     },
     "output_type": "display_data"
    }
   ],
   "source": [
    "apply_bin.qcut(x_bin, ['gauss'], 5)\n",
    "apply_bin.cut(x_bin, ['gauss'], 5)\n",
    "print(x_bin.columns[-1])\n",
    "print(x_bin[x_bin.columns[-1]].value_counts())\n",
    "for i in range(x_bin[x_bin.columns[-1]].unique().shape[0]):\n",
    "    x_bin[x_bin[x_bin.columns[-1]] == i].gauss.plot.hist()"
   ]
  },
  {
   "cell_type": "code",
   "execution_count": 133,
   "metadata": {},
   "outputs": [
    {
     "name": "stdout",
     "output_type": "stream",
     "text": [
      "gauss_q_bin_5\n",
      "4    200\n",
      "3    200\n",
      "2    200\n",
      "1    200\n",
      "0    200\n",
      "Name: gauss_q_bin_5, dtype: int64\n"
     ]
    },
    {
     "data": {
      "image/png": "[encoded data removed]",
      "text/plain": [
       "<Figure size 432x288 with 1 Axes>"
      ]
     },
     "metadata": {
      "needs_background": "light"
     },
     "output_type": "display_data"
    }
   ],
   "source": [
    "print(x_bin.columns[-2])\n",
    "print(x_bin[x_bin.columns[-2]].value_counts())\n",
    "for i in range(x_bin[x_bin.columns[-2]].unique().shape[0]):\n",
    "    x_bin[x_bin[x_bin.columns[-2]] == i].gauss.plot.hist(bins=30)"
   ]
  },
  {
   "cell_type": "markdown",
   "metadata": {},
   "source": [
    "### Linear Sub Model"
   ]
  },
  {
   "cell_type": "code",
   "execution_count": 266,
   "metadata": {},
   "outputs": [],
   "source": [
    "from sklearn.linear_model import ElasticNet\n",
    "from sklearn.metrics import mean_squared_error\n",
    "from bayes_opt import BayesianOptimization"
   ]
  },
  {
   "cell_type": "code",
   "execution_count": 274,
   "metadata": {},
   "outputs": [],
   "source": [
    "class gls():\n",
    "    # a * L1 + b * L2\n",
    "    # alpha = a + b\n",
    "    # l1_ratio = a / (a + b)\n",
    "    \n",
    "    def estimator(alpha, l1_ratio):\n",
    "        a = alpha * l1_ratio\n",
    "        b = alpha - a\n",
    "        print('yhat = OLS + %1.5f * L1 + %1.5f * L2' % (a,b))\n",
    "        \n",
    "        seed = 8982\n",
    "        # OLS\n",
    "        if alpha == 0:\n",
    "            print('Fitting OLS Estimator')\n",
    "            OLS = ElasticNet(alpha=alpha, l1_ratio=l1_ratio, random_state=seed)\n",
    "            return OLS\n",
    "        \n",
    "        elif alpha != 0:\n",
    "            # Lasso (L1 Reg)\n",
    "            if l1_ratio == 1.0:\n",
    "                print('Fitting GLS Lasso Estimator')\n",
    "                Lasso = ElasticNet(alpha=alpha, l1_ratio=l1_ratio, random_state=seed)\n",
    "                return Lasso\n",
    "            # Ridge (L2 Reg)\n",
    "            elif l1_ratio == 0:\n",
    "                print('Fitting GLS Ridge Estimator')\n",
    "                Ridge = ElasticNet(alpha=alpha, l1_ratio=l1_ratio, random_state=seed)\n",
    "                return Ridge\n",
    "            # ElasticNet (L1 & L2 Reg)\n",
    "            else:\n",
    "                print('Fitting GLS ElasticNet Estimator')\n",
    "                ENet = ElasticNet(alpha=alpha, l1_ratio=l1_ratio, random_state=seed)\n",
    "                return ENet\n",
    "    \n",
    "    def kfold_fit(df, x_cols, y_col, split,\n",
    "                  alpha, l1_ratio, return_info=False):\n",
    "        #model = ElasticNet(alpha=alpha, l1_ratio=l1_ratio, random_state=8982)\n",
    "        model = gls.estimator(alpha=alpha, l1_ratio=l1_ratio)\n",
    "        print(type(model))\n",
    "        oof = np.zeros(df.shape[0])\n",
    "        valid_rmse_score = []#; valid_r2_score = []\n",
    "        models = []#; W = []\n",
    "        for fold, (train_idx, valid_idx) in enumerate(split):\n",
    "        #for fold, (train_idx, valid_idx) in enumerate([[[0,1,2,3,4,5,6,7],\n",
    "        #                                                [8,9,10,11,12,13,14]],\n",
    "        #                                               [[8,9,10,11,12,13,14],\n",
    "        #                                                [0,1,2,3,4,5,6,7]]]):\n",
    "            model.fit(df.loc[train_idx, x_cols], df.loc[train_idx, y_col])\n",
    "            models.append(model)\n",
    "            \n",
    "            \"\"\"\n",
    "            w = model.coef_\n",
    "            W.append(w)\n",
    "            r2_train = model.score(X=df.loc[train_idx, x_cols],\n",
    "                                   y=df.loc[train_idx, y_col])\n",
    "            r2_valid = model.score(X=df.loc[valid_idx, x_cols],\n",
    "                                   y=df.loc[valid_idx, y_col])\n",
    "            valid_r2_score.append(r2_valid)\n",
    "            \"\"\"\n",
    "            \n",
    "            train_rmse = np.sqrt(mean_squared_error(df.loc[train_idx, y_col],\n",
    "                                                    model.predict(df.loc[train_idx, x_cols])))\n",
    "            oof[valid_idx] = model.predict(df.loc[valid_idx, x_cols])\n",
    "            valid_rmse = np.sqrt(mean_squared_error(df.loc[valid_idx, y_col], oof[valid_idx]))\n",
    "            valid_rmse_score.append(train_rmse)\n",
    "            \n",
    "            #print(f'[LinReg] Fold {fold+1} r2_train: {str(r2_train)[:8]}    r2_valid: {str(r2_valid)[:8]}')\n",
    "            print(f'[LinReg] Fold {fold+1} rmse_train: {str(train_rmse)[:9]}    rmse_valid: {str(valid_rmse)[:9]}')\n",
    "        \n",
    "        print('====================')\n",
    "        #print(f'CV AVG: R2 - {np.mean(valid_r2_score)}')\n",
    "        #print(f'CV STD: R2 - {np.std(valid_r2_score)}')\n",
    "        print(f'CV AVG: RMSE - {np.mean(valid_rmse_score)}')\n",
    "        print(f'CV STD: RMSE - {np.std(valid_rmse_score)}')\n",
    "        print('====================')\n",
    "        \n",
    "        if return_info:\n",
    "            return models, oof, np.mean(valid_rmse_score)\n",
    "        else:\n",
    "            return -np.mean(valid_rmse_score) # np.mean(valid_r2_score) \n",
    "\n",
    "def gls_bayes_opt(init_points=20, n_iteration=80):\n",
    "    bounds = {'alpha': (0, 100),\n",
    "              'l1_ratio': (0, 1)}\n",
    "    \n",
    "    optimizer = BayesianOptimization(f=gls.kfold_fit, pbounds=bounds, random_state=8982)\n",
    "    optimizer.maximize(init_points=init_points, n_iter=n_iteration)\n",
    "    \n",
    "    print('Best score:', -optimizer.max['target'])\n",
    "    print('Best set of parameters:')\n",
    "    print(optimizer.max['params'])\n",
    "    param = optimizer.max['params']; cv = -optimizer.max['target']\n",
    "    return param, cv\n",
    "\n",
    "#df = x\n",
    "#x_cols = ['x']\n",
    "#y_col = ['y']\n",
    "#param, cv = gls_bayes_opt()\n",
    "\n",
    "def pred(test_df, x_cols, models):\n",
    "    y_pred_valid_total = 0\n",
    "    for i, model in enumerate(models):\n",
    "        print('Predicting with {i+1}-th linear model')\n",
    "        y_pred = model.predict(test_df[x_cols])\n",
    "        y_pred_valid_total += y_pred\n",
    "    y_pred_valid_total /= len(models)\n",
    "    return y_pred_valid_total"
   ]
  },
  {
   "cell_type": "code",
   "execution_count": 275,
   "metadata": {},
   "outputs": [
    {
     "name": "stdout",
     "output_type": "stream",
     "text": [
      "yhat = OLS + 0.60000 * L1 + 2.40000 * L2\n",
      "Fitting GLS ElasticNet Estimator\n",
      "<class 'sklearn.linear_model.coordinate_descent.ElasticNet'>\n",
      "[LinReg] Fold 1 rmse_train: 1.1669395    rmse_valid: 2.9018332\n",
      "[LinReg] Fold 2 rmse_train: 0.8888154    rmse_valid: 2.6597856\n",
      "====================\n",
      "CV AVG: RMSE - 1.0278774691591086\n",
      "CV STD: RMSE - 0.13906203430800168\n",
      "====================\n"
     ]
    }
   ],
   "source": [
    "import pandas as pd\n",
    "import numpy as np\n",
    "x = pd.DataFrame([1,2,3,4,5,3,4,5,6,7,5,6,7,8,9], columns=['y'])\n",
    "x['x'] = [1,1,2,1,3,3,4,5,4,6,5,7,9,9,10]\n",
    "models, oof, r2_mean = gls.kfold_fit(df=x, x_cols=['x'], y_col=['y'],\n",
    "              split=[[[0,1,2,3,4,5,6,7],[8,9,10,11,12,13,14]],[[8,9,10,11,12,13,14],[0,1,2,3,4,5,6,7]]],\n",
    "              alpha=3, l1_ratio=0.2, return_info=True)\n",
    "#x.plot.scatter(x='x', y='y')"
   ]
  },
  {
   "cell_type": "code",
   "execution_count": 271,
   "metadata": {},
   "outputs": [
    {
     "name": "stdout",
     "output_type": "stream",
     "text": [
      "|   iter    |  target   |   alpha   | l1_ratio  |\n",
      "-------------------------------------------------\n",
      "<class 'sklearn.linear_model.coordinate_descent.ElasticNet'>\n",
      "[LinReg] Fold 1 rmse_train: 1.3169567    rmse_valid: 3.6981534\n",
      "[LinReg] Fold 2 rmse_train: 1.2453996    rmse_valid: 3.7228609\n",
      "====================\n",
      "CV AVG: RMSE - 1.2811782086305352\n",
      "CV STD: RMSE - 0.03577851047605707\n",
      "====================\n",
      "| \u001b[0m 1       \u001b[0m | \u001b[0m-1.281   \u001b[0m | \u001b[0m 99.85   \u001b[0m | \u001b[0m 0.7601  \u001b[0m |\n",
      "<class 'sklearn.linear_model.coordinate_descent.ElasticNet'>\n",
      "[LinReg] Fold 1 rmse_train: 0.9594907    rmse_valid: 1.3474365\n",
      "[LinReg] Fold 2 rmse_train: 0.7142867    rmse_valid: 1.8168195\n",
      "====================\n",
      "CV AVG: RMSE - 0.8368887426578269\n",
      "CV STD: RMSE - 0.12260203651921753\n",
      "====================\n",
      "| \u001b[95m 2       \u001b[0m | \u001b[95m-0.8369  \u001b[0m | \u001b[95m 0.3443  \u001b[0m | \u001b[95m 0.791   \u001b[0m |\n",
      "<class 'sklearn.linear_model.coordinate_descent.ElasticNet'>\n",
      "[LinReg] Fold 1 rmse_train: 1.3169567    rmse_valid: 3.6981534\n",
      "[LinReg] Fold 2 rmse_train: 1.2453996    rmse_valid: 3.7228609\n",
      "====================\n",
      "CV AVG: RMSE - 1.2811782086305352\n",
      "CV STD: RMSE - 0.03577851047605707\n",
      "====================\n",
      "| \u001b[0m 3       \u001b[0m | \u001b[0m-1.281   \u001b[0m | \u001b[0m 86.02   \u001b[0m | \u001b[0m 0.7651  \u001b[0m |\n",
      "<class 'sklearn.linear_model.coordinate_descent.ElasticNet'>\n",
      "[LinReg] Fold 1 rmse_train: 1.3169567    rmse_valid: 3.6981534\n",
      "[LinReg] Fold 2 rmse_train: 1.2453996    rmse_valid: 3.7228609\n",
      "====================\n",
      "CV AVG: RMSE - 1.2811782086305352\n",
      "CV STD: RMSE - 0.03577851047605707\n",
      "====================\n",
      "| \u001b[0m 4       \u001b[0m | \u001b[0m-1.281   \u001b[0m | \u001b[0m 76.59   \u001b[0m | \u001b[0m 0.4027  \u001b[0m |\n",
      "<class 'sklearn.linear_model.coordinate_descent.ElasticNet'>\n",
      "[LinReg] Fold 1 rmse_train: 1.3169567    rmse_valid: 3.6981534\n",
      "[LinReg] Fold 2 rmse_train: 1.2453996    rmse_valid: 3.7228609\n",
      "====================\n",
      "CV AVG: RMSE - 1.2811782086305352\n",
      "CV STD: RMSE - 0.03577851047605707\n",
      "====================\n",
      "| \u001b[0m 5       \u001b[0m | \u001b[0m-1.281   \u001b[0m | \u001b[0m 17.34   \u001b[0m | \u001b[0m 0.4004  \u001b[0m |\n",
      "<class 'sklearn.linear_model.coordinate_descent.ElasticNet'>\n",
      "[LinReg] Fold 1 rmse_train: 1.3169567    rmse_valid: 3.6981534\n",
      "[LinReg] Fold 2 rmse_train: 1.2453996    rmse_valid: 3.7228609\n",
      "====================\n",
      "CV AVG: RMSE - 1.2811782086305352\n",
      "CV STD: RMSE - 0.03577851047605707\n",
      "====================\n",
      "| \u001b[0m 6       \u001b[0m | \u001b[0m-1.281   \u001b[0m | \u001b[0m 67.96   \u001b[0m | \u001b[0m 0.6328  \u001b[0m |\n",
      "<class 'sklearn.linear_model.coordinate_descent.ElasticNet'>\n",
      "[LinReg] Fold 1 rmse_train: 1.3169567    rmse_valid: 3.6981534\n",
      "[LinReg] Fold 2 rmse_train: 1.2453996    rmse_valid: 3.7228609\n",
      "====================\n",
      "CV AVG: RMSE - 1.2811782086305352\n",
      "CV STD: RMSE - 0.03577851047605707\n",
      "====================\n",
      "| \u001b[0m 7       \u001b[0m | \u001b[0m-1.281   \u001b[0m | \u001b[0m 61.69   \u001b[0m | \u001b[0m 0.5257  \u001b[0m |\n",
      "<class 'sklearn.linear_model.coordinate_descent.ElasticNet'>\n",
      "[LinReg] Fold 1 rmse_train: 1.3169567    rmse_valid: 3.6981534\n",
      "[LinReg] Fold 2 rmse_train: 1.2453996    rmse_valid: 3.7228609\n",
      "====================\n",
      "CV AVG: RMSE - 1.2811782086305352\n",
      "CV STD: RMSE - 0.03577851047605707\n",
      "====================\n",
      "| \u001b[0m 8       \u001b[0m | \u001b[0m-1.281   \u001b[0m | \u001b[0m 84.54   \u001b[0m | \u001b[0m 0.4585  \u001b[0m |\n",
      "<class 'sklearn.linear_model.coordinate_descent.ElasticNet'>\n",
      "[LinReg] Fold 1 rmse_train: 1.3169567    rmse_valid: 3.6981534\n",
      "[LinReg] Fold 2 rmse_train: 1.2453996    rmse_valid: 3.7228609\n",
      "====================\n",
      "CV AVG: RMSE - 1.2811782086305352\n",
      "CV STD: RMSE - 0.03577851047605707\n",
      "====================\n",
      "| \u001b[0m 9       \u001b[0m | \u001b[0m-1.281   \u001b[0m | \u001b[0m 82.17   \u001b[0m | \u001b[0m 0.8563  \u001b[0m |\n",
      "<class 'sklearn.linear_model.coordinate_descent.ElasticNet'>\n",
      "[LinReg] Fold 1 rmse_train: 1.3169567    rmse_valid: 3.6981534\n",
      "[LinReg] Fold 2 rmse_train: 1.2453996    rmse_valid: 3.7228609\n",
      "====================\n",
      "CV AVG: RMSE - 1.2811782086305352\n",
      "CV STD: RMSE - 0.03577851047605707\n",
      "====================\n",
      "| \u001b[0m 10      \u001b[0m | \u001b[0m-1.281   \u001b[0m | \u001b[0m 75.36   \u001b[0m | \u001b[0m 0.699   \u001b[0m |\n",
      "<class 'sklearn.linear_model.coordinate_descent.ElasticNet'>\n",
      "[LinReg] Fold 1 rmse_train: 1.3169567    rmse_valid: 3.6981534\n",
      "[LinReg] Fold 2 rmse_train: 1.2453996    rmse_valid: 3.7228609\n",
      "====================\n",
      "CV AVG: RMSE - 1.2811782086305352\n",
      "CV STD: RMSE - 0.03577851047605707\n",
      "====================\n",
      "| \u001b[0m 11      \u001b[0m | \u001b[0m-1.281   \u001b[0m | \u001b[0m 70.46   \u001b[0m | \u001b[0m 0.6924  \u001b[0m |\n",
      "<class 'sklearn.linear_model.coordinate_descent.ElasticNet'>\n",
      "[LinReg] Fold 1 rmse_train: 1.3169567    rmse_valid: 3.6981534\n",
      "[LinReg] Fold 2 rmse_train: 1.2453996    rmse_valid: 3.7228609\n",
      "====================\n",
      "CV AVG: RMSE - 1.2811782086305352\n",
      "CV STD: RMSE - 0.03577851047605707\n",
      "====================\n",
      "| \u001b[0m 12      \u001b[0m | \u001b[0m-1.281   \u001b[0m | \u001b[0m 45.98   \u001b[0m | \u001b[0m 0.7707  \u001b[0m |\n",
      "<class 'sklearn.linear_model.coordinate_descent.ElasticNet'>\n",
      "[LinReg] Fold 1 rmse_train: 1.3169567    rmse_valid: 3.6981534\n",
      "[LinReg] Fold 2 rmse_train: 1.2453996    rmse_valid: 3.7228609\n",
      "====================\n",
      "CV AVG: RMSE - 1.2811782086305352\n",
      "CV STD: RMSE - 0.03577851047605707\n",
      "====================\n",
      "| \u001b[0m 13      \u001b[0m | \u001b[0m-1.281   \u001b[0m | \u001b[0m 38.34   \u001b[0m | \u001b[0m 0.9489  \u001b[0m |\n",
      "<class 'sklearn.linear_model.coordinate_descent.ElasticNet'>\n",
      "[LinReg] Fold 1 rmse_train: 1.3169567    rmse_valid: 3.6981534\n",
      "[LinReg] Fold 2 rmse_train: 1.2453996    rmse_valid: 3.7228609\n",
      "====================\n",
      "CV AVG: RMSE - 1.2811782086305352\n",
      "CV STD: RMSE - 0.03577851047605707\n",
      "====================\n",
      "| \u001b[0m 14      \u001b[0m | \u001b[0m-1.281   \u001b[0m | \u001b[0m 29.38   \u001b[0m | \u001b[0m 0.6698  \u001b[0m |\n",
      "<class 'sklearn.linear_model.coordinate_descent.ElasticNet'>\n",
      "[LinReg] Fold 1 rmse_train: 1.3169567    rmse_valid: 3.6981534\n",
      "[LinReg] Fold 2 rmse_train: 1.2453996    rmse_valid: 3.7228609\n",
      "====================\n",
      "CV AVG: RMSE - 1.2811782086305352\n",
      "CV STD: RMSE - 0.03577851047605707\n",
      "====================\n",
      "| \u001b[0m 15      \u001b[0m | \u001b[0m-1.281   \u001b[0m | \u001b[0m 33.24   \u001b[0m | \u001b[0m 0.1417  \u001b[0m |\n",
      "<class 'sklearn.linear_model.coordinate_descent.ElasticNet'>\n",
      "[LinReg] Fold 1 rmse_train: 1.3169567    rmse_valid: 3.6981534\n",
      "[LinReg] Fold 2 rmse_train: 1.2453996    rmse_valid: 3.7228609\n",
      "====================\n",
      "CV AVG: RMSE - 1.2811782086305352\n",
      "CV STD: RMSE - 0.03577851047605707\n",
      "====================\n",
      "| \u001b[0m 16      \u001b[0m | \u001b[0m-1.281   \u001b[0m | \u001b[0m 57.58   \u001b[0m | \u001b[0m 0.7861  \u001b[0m |\n",
      "<class 'sklearn.linear_model.coordinate_descent.ElasticNet'>\n",
      "[LinReg] Fold 1 rmse_train: 1.3169567    rmse_valid: 3.6981534\n",
      "[LinReg] Fold 2 rmse_train: 1.2453996    rmse_valid: 3.7228609\n",
      "====================\n",
      "CV AVG: RMSE - 1.2811782086305352\n",
      "CV STD: RMSE - 0.03577851047605707\n",
      "====================\n",
      "| \u001b[0m 17      \u001b[0m | \u001b[0m-1.281   \u001b[0m | \u001b[0m 51.15   \u001b[0m | \u001b[0m 0.6825  \u001b[0m |\n",
      "<class 'sklearn.linear_model.coordinate_descent.ElasticNet'>\n",
      "[LinReg] Fold 1 rmse_train: 1.3169567    rmse_valid: 3.6981534\n",
      "[LinReg] Fold 2 rmse_train: 1.2453996    rmse_valid: 3.7228609\n",
      "====================\n",
      "CV AVG: RMSE - 1.2811782086305352\n",
      "CV STD: RMSE - 0.03577851047605707\n",
      "====================\n",
      "| \u001b[0m 18      \u001b[0m | \u001b[0m-1.281   \u001b[0m | \u001b[0m 38.33   \u001b[0m | \u001b[0m 0.801   \u001b[0m |\n",
      "<class 'sklearn.linear_model.coordinate_descent.ElasticNet'>\n",
      "[LinReg] Fold 1 rmse_train: 1.3169567    rmse_valid: 3.6981534\n",
      "[LinReg] Fold 2 rmse_train: 1.2453996    rmse_valid: 3.7228609\n",
      "====================\n",
      "CV AVG: RMSE - 1.2811782086305352\n",
      "CV STD: RMSE - 0.03577851047605707\n",
      "====================\n",
      "| \u001b[0m 19      \u001b[0m | \u001b[0m-1.281   \u001b[0m | \u001b[0m 65.17   \u001b[0m | \u001b[0m 0.3968  \u001b[0m |\n",
      "<class 'sklearn.linear_model.coordinate_descent.ElasticNet'>\n",
      "[LinReg] Fold 1 rmse_train: 1.3169567    rmse_valid: 3.6981534\n",
      "[LinReg] Fold 2 rmse_train: 1.2453996    rmse_valid: 3.7228609\n",
      "====================\n",
      "CV AVG: RMSE - 1.2811782086305352\n",
      "CV STD: RMSE - 0.03577851047605707\n",
      "====================\n",
      "| \u001b[0m 20      \u001b[0m | \u001b[0m-1.281   \u001b[0m | \u001b[0m 68.53   \u001b[0m | \u001b[0m 0.5997  \u001b[0m |\n",
      "<class 'sklearn.linear_model.coordinate_descent.ElasticNet'>\n",
      "[LinReg] Fold 1 rmse_train: 0.9343697    rmse_valid: 0.8942205\n",
      "[LinReg] Fold 2 rmse_train: 0.6995841    rmse_valid: 1.5416667\n",
      "====================\n",
      "CV AVG: RMSE - 0.8169769644345195\n",
      "CV STD: RMSE - 0.11739280979836003\n",
      "====================\n",
      "| \u001b[95m 21      \u001b[0m | \u001b[95m-0.817   \u001b[0m | \u001b[95m 9.948e-0\u001b[0m | \u001b[95m 1.024e-0\u001b[0m |\n"
     ]
    },
    {
     "name": "stderr",
     "output_type": "stream",
     "text": [
      "C:\\Users\\ome3\\Anaconda3\\lib\\site-packages\\sklearn\\linear_model\\coordinate_descent.py:475: ConvergenceWarning: Objective did not converge. You might want to increase the number of iterations. Duality gap: 0.004256866838702855, tolerance: 0.0010857142857142858\n",
      "  positive)\n"
     ]
    },
    {
     "name": "stdout",
     "output_type": "stream",
     "text": [
      "<class 'sklearn.linear_model.coordinate_descent.ElasticNet'>\n",
      "[LinReg] Fold 1 rmse_train: 0.9343697    rmse_valid: 0.8942205\n",
      "[LinReg] Fold 2 rmse_train: 0.6995841    rmse_valid: 1.5416667\n",
      "====================\n",
      "CV AVG: RMSE - 0.816976964434521\n",
      "CV STD: RMSE - 0.11739280979836075\n",
      "====================\n",
      "| \u001b[0m 22      \u001b[0m | \u001b[0m-0.817   \u001b[0m | \u001b[0m 1.716e-0\u001b[0m | \u001b[0m 9.826e-0\u001b[0m |\n",
      "<class 'sklearn.linear_model.coordinate_descent.ElasticNet'>\n",
      "[LinReg] Fold 1 rmse_train: 0.9343697    rmse_valid: 0.8942204\n",
      "[LinReg] Fold 2 rmse_train: 0.6995841    rmse_valid: 1.5416666\n",
      "====================\n",
      "CV AVG: RMSE - 0.8169769644345187\n",
      "CV STD: RMSE - 0.11739280979835964\n",
      "====================\n",
      "| \u001b[95m 23      \u001b[0m | \u001b[95m-0.817   \u001b[0m | \u001b[95m 0.0     \u001b[0m | \u001b[95m 0.0     \u001b[0m |\n"
     ]
    },
    {
     "name": "stderr",
     "output_type": "stream",
     "text": [
      "C:\\Users\\ome3\\Anaconda3\\lib\\site-packages\\ipykernel_launcher.py:48: UserWarning: With alpha=0, this algorithm does not converge well. You are advised to use the LinearRegression estimator\n",
      "C:\\Users\\ome3\\Anaconda3\\lib\\site-packages\\sklearn\\linear_model\\coordinate_descent.py:475: UserWarning: Coordinate descent with no regularization may lead to unexpected results and is discouraged.\n",
      "  positive)\n",
      "C:\\Users\\ome3\\Anaconda3\\lib\\site-packages\\ipykernel_launcher.py:48: UserWarning: With alpha=0, this algorithm does not converge well. You are advised to use the LinearRegression estimator\n",
      "C:\\Users\\ome3\\Anaconda3\\lib\\site-packages\\sklearn\\linear_model\\coordinate_descent.py:475: UserWarning: Coordinate descent with no regularization may lead to unexpected results and is discouraged.\n",
      "  positive)\n",
      "C:\\Users\\ome3\\Anaconda3\\lib\\site-packages\\sklearn\\linear_model\\coordinate_descent.py:475: ConvergenceWarning: Objective did not converge. You might want to increase the number of iterations. Duality gap: 1.7129629629629628, tolerance: 0.0010857142857142858\n",
      "  positive)\n"
     ]
    },
    {
     "name": "stdout",
     "output_type": "stream",
     "text": [
      "<class 'sklearn.linear_model.coordinate_descent.ElasticNet'>\n",
      "[LinReg] Fold 1 rmse_train: 0.9343697    rmse_valid: 0.8942204\n",
      "[LinReg] Fold 2 rmse_train: 0.6995841    rmse_valid: 1.5416666\n",
      "====================\n",
      "CV AVG: RMSE - 0.8169769644345187\n",
      "CV STD: RMSE - 0.11739280979835964\n",
      "====================\n",
      "| \u001b[0m 24      \u001b[0m | \u001b[0m-0.817   \u001b[0m | \u001b[0m 0.0     \u001b[0m | \u001b[0m 1.146e-0\u001b[0m |\n"
     ]
    },
    {
     "name": "stderr",
     "output_type": "stream",
     "text": [
      "C:\\Users\\ome3\\Anaconda3\\lib\\site-packages\\ipykernel_launcher.py:48: UserWarning: With alpha=0, this algorithm does not converge well. You are advised to use the LinearRegression estimator\n",
      "C:\\Users\\ome3\\Anaconda3\\lib\\site-packages\\sklearn\\linear_model\\coordinate_descent.py:475: UserWarning: Coordinate descent with no regularization may lead to unexpected results and is discouraged.\n",
      "  positive)\n",
      "C:\\Users\\ome3\\Anaconda3\\lib\\site-packages\\ipykernel_launcher.py:48: UserWarning: With alpha=0, this algorithm does not converge well. You are advised to use the LinearRegression estimator\n",
      "C:\\Users\\ome3\\Anaconda3\\lib\\site-packages\\sklearn\\linear_model\\coordinate_descent.py:475: UserWarning: Coordinate descent with no regularization may lead to unexpected results and is discouraged.\n",
      "  positive)\n",
      "C:\\Users\\ome3\\Anaconda3\\lib\\site-packages\\sklearn\\linear_model\\coordinate_descent.py:475: ConvergenceWarning: Objective did not converge. You might want to increase the number of iterations. Duality gap: 1.7129629629629628, tolerance: 0.0010857142857142858\n",
      "  positive)\n"
     ]
    },
    {
     "name": "stdout",
     "output_type": "stream",
     "text": [
      "| \u001b[0m 25      \u001b[0m | \u001b[0m-0.817   \u001b[0m | \u001b[0m 0.0     \u001b[0m | \u001b[0m 1.146e-0\u001b[0m |\n",
      "<class 'sklearn.linear_model.coordinate_descent.ElasticNet'>\n",
      "[LinReg] Fold 1 rmse_train: 0.9343697    rmse_valid: 0.8942211\n",
      "[LinReg] Fold 2 rmse_train: 0.6995841    rmse_valid: 1.5416672\n",
      "====================\n",
      "CV AVG: RMSE - 0.8169769644346778\n",
      "CV STD: RMSE - 0.11739280979843808\n",
      "====================\n",
      "| \u001b[0m 26      \u001b[0m | \u001b[0m-0.817   \u001b[0m | \u001b[0m 1.436e-0\u001b[0m | \u001b[0m 3.272e-0\u001b[0m |\n",
      "| \u001b[0m 27      \u001b[0m | \u001b[0m-0.817   \u001b[0m | \u001b[0m 1.436e-0\u001b[0m | \u001b[0m 3.272e-0\u001b[0m |\n",
      "<class 'sklearn.linear_model.coordinate_descent.ElasticNet'>\n",
      "[LinReg] Fold 1 rmse_train: 0.9343697    rmse_valid: 0.8942222\n",
      "[LinReg] Fold 2 rmse_train: 0.6995841    rmse_valid: 1.5416682\n",
      "====================\n",
      "CV AVG: RMSE - 0.8169769644356042\n",
      "CV STD: RMSE - 0.1173928097988956\n",
      "====================\n",
      "| \u001b[0m 28      \u001b[0m | \u001b[0m-0.817   \u001b[0m | \u001b[0m 3.751e-0\u001b[0m | \u001b[0m 0.0     \u001b[0m |\n"
     ]
    },
    {
     "name": "stderr",
     "output_type": "stream",
     "text": [
      "C:\\Users\\ome3\\Anaconda3\\lib\\site-packages\\sklearn\\linear_model\\coordinate_descent.py:475: ConvergenceWarning: Objective did not converge. You might want to increase the number of iterations. Duality gap: 3.492193962176722, tolerance: 0.0013875\n",
      "  positive)\n",
      "C:\\Users\\ome3\\Anaconda3\\lib\\site-packages\\sklearn\\linear_model\\coordinate_descent.py:475: ConvergenceWarning: Objective did not converge. You might want to increase the number of iterations. Duality gap: 1.7129661248978616, tolerance: 0.0010857142857142858\n",
      "  positive)\n"
     ]
    },
    {
     "name": "stdout",
     "output_type": "stream",
     "text": [
      "<class 'sklearn.linear_model.coordinate_descent.ElasticNet'>\n",
      "[LinReg] Fold 1 rmse_train: 0.9343697    rmse_valid: 0.8942206\n",
      "[LinReg] Fold 2 rmse_train: 0.6995841    rmse_valid: 1.5416668\n",
      "====================\n",
      "CV AVG: RMSE - 0.8169769644345273\n",
      "CV STD: RMSE - 0.1173928097983638\n",
      "====================\n",
      "| \u001b[0m 29      \u001b[0m | \u001b[0m-0.817   \u001b[0m | \u001b[0m 3.329e-0\u001b[0m | \u001b[0m 0.0     \u001b[0m |\n"
     ]
    },
    {
     "name": "stderr",
     "output_type": "stream",
     "text": [
      "C:\\Users\\ome3\\Anaconda3\\lib\\site-packages\\sklearn\\linear_model\\coordinate_descent.py:475: ConvergenceWarning: Objective did not converge. You might want to increase the number of iterations. Duality gap: 3.49218807348195, tolerance: 0.0013875\n",
      "  positive)\n",
      "C:\\Users\\ome3\\Anaconda3\\lib\\site-packages\\sklearn\\linear_model\\coordinate_descent.py:475: ConvergenceWarning: Objective did not converge. You might want to increase the number of iterations. Duality gap: 1.712963243566694, tolerance: 0.0010857142857142858\n",
      "  positive)\n"
     ]
    },
    {
     "name": "stdout",
     "output_type": "stream",
     "text": [
      "<class 'sklearn.linear_model.coordinate_descent.ElasticNet'>\n",
      "[LinReg] Fold 1 rmse_train: 0.9343697    rmse_valid: 0.8942250\n",
      "[LinReg] Fold 2 rmse_train: 0.6995841    rmse_valid: 1.5416707\n",
      "====================\n",
      "CV AVG: RMSE - 0.816976964441612\n",
      "CV STD: RMSE - 0.11739280980186234\n",
      "====================\n",
      "| \u001b[0m 30      \u001b[0m | \u001b[0m-0.817   \u001b[0m | \u001b[0m 9.589e-0\u001b[0m | \u001b[0m 4.427e-0\u001b[0m |\n",
      "<class 'sklearn.linear_model.coordinate_descent.ElasticNet'>\n",
      "[LinReg] Fold 1 rmse_train: 0.9343697    rmse_valid: 0.8942204\n",
      "[LinReg] Fold 2 rmse_train: 0.6995841    rmse_valid: 1.5416666\n",
      "====================\n",
      "CV AVG: RMSE - 0.8169769644345187\n",
      "CV STD: RMSE - 0.11739280979835964\n",
      "====================\n",
      "| \u001b[0m 31      \u001b[0m | \u001b[0m-0.817   \u001b[0m | \u001b[0m 0.0     \u001b[0m | \u001b[0m 3.122e-0\u001b[0m |\n"
     ]
    },
    {
     "name": "stderr",
     "output_type": "stream",
     "text": [
      "C:\\Users\\ome3\\Anaconda3\\lib\\site-packages\\ipykernel_launcher.py:48: UserWarning: With alpha=0, this algorithm does not converge well. You are advised to use the LinearRegression estimator\n",
      "C:\\Users\\ome3\\Anaconda3\\lib\\site-packages\\sklearn\\linear_model\\coordinate_descent.py:475: UserWarning: Coordinate descent with no regularization may lead to unexpected results and is discouraged.\n",
      "  positive)\n",
      "C:\\Users\\ome3\\Anaconda3\\lib\\site-packages\\ipykernel_launcher.py:48: UserWarning: With alpha=0, this algorithm does not converge well. You are advised to use the LinearRegression estimator\n",
      "C:\\Users\\ome3\\Anaconda3\\lib\\site-packages\\sklearn\\linear_model\\coordinate_descent.py:475: UserWarning: Coordinate descent with no regularization may lead to unexpected results and is discouraged.\n",
      "  positive)\n",
      "C:\\Users\\ome3\\Anaconda3\\lib\\site-packages\\sklearn\\linear_model\\coordinate_descent.py:475: ConvergenceWarning: Objective did not converge. You might want to increase the number of iterations. Duality gap: 1.7129629629629628, tolerance: 0.0010857142857142858\n",
      "  positive)\n"
     ]
    },
    {
     "name": "stdout",
     "output_type": "stream",
     "text": [
      "| \u001b[0m 32      \u001b[0m | \u001b[0m-0.817   \u001b[0m | \u001b[0m 0.0     \u001b[0m | \u001b[0m 3.122e-0\u001b[0m |\n",
      "<class 'sklearn.linear_model.coordinate_descent.ElasticNet'>\n",
      "[LinReg] Fold 1 rmse_train: 0.9343697    rmse_valid: 0.8942208\n",
      "[LinReg] Fold 2 rmse_train: 0.6995841    rmse_valid: 1.5416669\n",
      "====================\n",
      "CV AVG: RMSE - 0.8169769644345519\n",
      "CV STD: RMSE - 0.11739280979837602\n",
      "====================\n",
      "| \u001b[0m 33      \u001b[0m | \u001b[0m-0.817   \u001b[0m | \u001b[0m 6.562e-0\u001b[0m | \u001b[0m 0.0     \u001b[0m |\n"
     ]
    },
    {
     "name": "stderr",
     "output_type": "stream",
     "text": [
      "C:\\Users\\ome3\\Anaconda3\\lib\\site-packages\\sklearn\\linear_model\\coordinate_descent.py:475: ConvergenceWarning: Objective did not converge. You might want to increase the number of iterations. Duality gap: 3.4921886304438448, tolerance: 0.0013875\n",
      "  positive)\n",
      "C:\\Users\\ome3\\Anaconda3\\lib\\site-packages\\sklearn\\linear_model\\coordinate_descent.py:475: ConvergenceWarning: Objective did not converge. You might want to increase the number of iterations. Duality gap: 1.7129635160872392, tolerance: 0.0010857142857142858\n",
      "  positive)\n"
     ]
    },
    {
     "name": "stdout",
     "output_type": "stream",
     "text": [
      "| \u001b[0m 34      \u001b[0m | \u001b[0m-0.817   \u001b[0m | \u001b[0m 6.562e-0\u001b[0m | \u001b[0m 0.0     \u001b[0m |\n",
      "| \u001b[0m 35      \u001b[0m | \u001b[0m-0.817   \u001b[0m | \u001b[0m 6.562e-0\u001b[0m | \u001b[0m 0.0     \u001b[0m |\n",
      "<class 'sklearn.linear_model.coordinate_descent.ElasticNet'>\n",
      "[LinReg] Fold 1 rmse_train: 0.9343697    rmse_valid: 0.8942215\n",
      "[LinReg] Fold 2 rmse_train: 0.6995841    rmse_valid: 1.5416675\n",
      "====================\n",
      "CV AVG: RMSE - 0.8169769644348802\n",
      "CV STD: RMSE - 0.11739280979853806\n",
      "====================\n",
      "| \u001b[0m 36      \u001b[0m | \u001b[0m-0.817   \u001b[0m | \u001b[0m 2.165e-0\u001b[0m | \u001b[0m 0.0     \u001b[0m |\n"
     ]
    },
    {
     "name": "stderr",
     "output_type": "stream",
     "text": [
      "C:\\Users\\ome3\\Anaconda3\\lib\\site-packages\\sklearn\\linear_model\\coordinate_descent.py:475: ConvergenceWarning: Objective did not converge. You might want to increase the number of iterations. Duality gap: 3.492191229260951, tolerance: 0.0013875\n",
      "  positive)\n",
      "C:\\Users\\ome3\\Anaconda3\\lib\\site-packages\\sklearn\\linear_model\\coordinate_descent.py:475: ConvergenceWarning: Objective did not converge. You might want to increase the number of iterations. Duality gap: 1.7129647876848397, tolerance: 0.0010857142857142858\n",
      "  positive)\n"
     ]
    },
    {
     "name": "stdout",
     "output_type": "stream",
     "text": [
      "<class 'sklearn.linear_model.coordinate_descent.ElasticNet'>\n",
      "[LinReg] Fold 1 rmse_train: 0.9343697    rmse_valid: 0.8942210\n",
      "[LinReg] Fold 2 rmse_train: 0.6995841    rmse_valid: 1.5416671\n",
      "====================\n",
      "CV AVG: RMSE - 0.8169769644346294\n",
      "CV STD: RMSE - 0.11739280979841415\n",
      "====================\n",
      "| \u001b[0m 37      \u001b[0m | \u001b[0m-0.817   \u001b[0m | \u001b[0m 1.198e-0\u001b[0m | \u001b[0m 9.502e-0\u001b[0m |\n",
      "| \u001b[0m 38      \u001b[0m | \u001b[0m-0.817   \u001b[0m | \u001b[0m 1.198e-0\u001b[0m | \u001b[0m 9.502e-0\u001b[0m |\n",
      "<class 'sklearn.linear_model.coordinate_descent.ElasticNet'>\n",
      "[LinReg] Fold 1 rmse_train: 0.9343697    rmse_valid: 0.8942204\n",
      "[LinReg] Fold 2 rmse_train: 0.6995841    rmse_valid: 1.5416666\n",
      "====================\n",
      "CV AVG: RMSE - 0.8169769644345187\n",
      "CV STD: RMSE - 0.11739280979835964\n",
      "====================\n",
      "| \u001b[0m 39      \u001b[0m | \u001b[0m-0.817   \u001b[0m | \u001b[0m 8.882e-1\u001b[0m | \u001b[0m 0.0     \u001b[0m |\n"
     ]
    },
    {
     "name": "stderr",
     "output_type": "stream",
     "text": [
      "C:\\Users\\ome3\\Anaconda3\\lib\\site-packages\\sklearn\\linear_model\\coordinate_descent.py:475: ConvergenceWarning: Objective did not converge. You might want to increase the number of iterations. Duality gap: 3.4921875000000013, tolerance: 0.0013875\n",
      "  positive)\n",
      "C:\\Users\\ome3\\Anaconda3\\lib\\site-packages\\sklearn\\linear_model\\coordinate_descent.py:475: ConvergenceWarning: Objective did not converge. You might want to increase the number of iterations. Duality gap: 1.7129629629629635, tolerance: 0.0010857142857142858\n",
      "  positive)\n"
     ]
    },
    {
     "name": "stdout",
     "output_type": "stream",
     "text": [
      "| \u001b[0m 40      \u001b[0m | \u001b[0m-0.817   \u001b[0m | \u001b[0m 8.882e-1\u001b[0m | \u001b[0m 0.0     \u001b[0m |\n",
      "<class 'sklearn.linear_model.coordinate_descent.ElasticNet'>\n",
      "[LinReg] Fold 1 rmse_train: 0.9343697    rmse_valid: 0.8942289\n",
      "[LinReg] Fold 2 rmse_train: 0.6995841    rmse_valid: 1.5416742\n",
      "====================\n",
      "CV AVG: RMSE - 0.816976964459091\n",
      "CV STD: RMSE - 0.11739280981049344\n",
      "====================\n",
      "| \u001b[0m 41      \u001b[0m | \u001b[0m-0.817   \u001b[0m | \u001b[0m 1.785e-0\u001b[0m | \u001b[0m 2.172e-0\u001b[0m |\n",
      "| \u001b[0m 42      \u001b[0m | \u001b[0m-0.817   \u001b[0m | \u001b[0m 1.785e-0\u001b[0m | \u001b[0m 2.172e-0\u001b[0m |\n",
      "<class 'sklearn.linear_model.coordinate_descent.ElasticNet'>\n",
      "[LinReg] Fold 1 rmse_train: 0.9343697    rmse_valid: 0.8942212\n",
      "[LinReg] Fold 2 rmse_train: 0.6995841    rmse_valid: 1.5416673\n",
      "====================\n",
      "CV AVG: RMSE - 0.8169769644347387\n",
      "CV STD: RMSE - 0.11739280979846817\n",
      "====================\n",
      "| \u001b[0m 43      \u001b[0m | \u001b[0m-0.817   \u001b[0m | \u001b[0m 1.688e-0\u001b[0m | \u001b[0m 2.562e-0\u001b[0m |\n",
      "<class 'sklearn.linear_model.coordinate_descent.ElasticNet'>\n",
      "[LinReg] Fold 1 rmse_train: 0.9343697    rmse_valid: 0.8942248\n",
      "[LinReg] Fold 2 rmse_train: 0.6995841    rmse_valid: 1.5416706\n",
      "====================\n",
      "CV AVG: RMSE - 0.8169769644410672\n",
      "CV STD: RMSE - 0.11739280980159328\n",
      "====================\n",
      "| \u001b[0m 44      \u001b[0m | \u001b[0m-0.817   \u001b[0m | \u001b[0m 9.214e-0\u001b[0m | \u001b[0m 8.778e-0\u001b[0m |\n",
      "<class 'sklearn.linear_model.coordinate_descent.ElasticNet'>\n",
      "[LinReg] Fold 1 rmse_train: 0.9343697    rmse_valid: 0.8942204\n",
      "[LinReg] Fold 2 rmse_train: 0.6995841    rmse_valid: 1.5416666\n",
      "====================\n",
      "CV AVG: RMSE - 0.8169769644345187\n",
      "CV STD: RMSE - 0.11739280979835964\n",
      "====================\n",
      "| \u001b[0m 45      \u001b[0m | \u001b[0m-0.817   \u001b[0m | \u001b[0m 0.0     \u001b[0m | \u001b[0m 8.52e-06\u001b[0m |\n"
     ]
    },
    {
     "name": "stderr",
     "output_type": "stream",
     "text": [
      "C:\\Users\\ome3\\Anaconda3\\lib\\site-packages\\ipykernel_launcher.py:48: UserWarning: With alpha=0, this algorithm does not converge well. You are advised to use the LinearRegression estimator\n",
      "C:\\Users\\ome3\\Anaconda3\\lib\\site-packages\\sklearn\\linear_model\\coordinate_descent.py:475: UserWarning: Coordinate descent with no regularization may lead to unexpected results and is discouraged.\n",
      "  positive)\n",
      "C:\\Users\\ome3\\Anaconda3\\lib\\site-packages\\ipykernel_launcher.py:48: UserWarning: With alpha=0, this algorithm does not converge well. You are advised to use the LinearRegression estimator\n",
      "C:\\Users\\ome3\\Anaconda3\\lib\\site-packages\\sklearn\\linear_model\\coordinate_descent.py:475: UserWarning: Coordinate descent with no regularization may lead to unexpected results and is discouraged.\n",
      "  positive)\n",
      "C:\\Users\\ome3\\Anaconda3\\lib\\site-packages\\sklearn\\linear_model\\coordinate_descent.py:475: ConvergenceWarning: Objective did not converge. You might want to increase the number of iterations. Duality gap: 1.7129629629629628, tolerance: 0.0010857142857142858\n",
      "  positive)\n"
     ]
    },
    {
     "name": "stdout",
     "output_type": "stream",
     "text": [
      "| \u001b[0m 46      \u001b[0m | \u001b[0m-0.817   \u001b[0m | \u001b[0m 0.0     \u001b[0m | \u001b[0m 8.52e-06\u001b[0m |\n",
      "<class 'sklearn.linear_model.coordinate_descent.ElasticNet'>\n",
      "[LinReg] Fold 1 rmse_train: 0.9343697    rmse_valid: 0.8942204\n",
      "[LinReg] Fold 2 rmse_train: 0.6995841    rmse_valid: 1.5416666\n",
      "====================\n",
      "CV AVG: RMSE - 0.8169769644345187\n",
      "CV STD: RMSE - 0.11739280979835964\n",
      "====================\n",
      "| \u001b[0m 47      \u001b[0m | \u001b[0m-0.817   \u001b[0m | \u001b[0m 0.0     \u001b[0m | \u001b[0m 8.458e-1\u001b[0m |\n"
     ]
    },
    {
     "name": "stderr",
     "output_type": "stream",
     "text": [
      "C:\\Users\\ome3\\Anaconda3\\lib\\site-packages\\ipykernel_launcher.py:48: UserWarning: With alpha=0, this algorithm does not converge well. You are advised to use the LinearRegression estimator\n",
      "C:\\Users\\ome3\\Anaconda3\\lib\\site-packages\\sklearn\\linear_model\\coordinate_descent.py:475: UserWarning: Coordinate descent with no regularization may lead to unexpected results and is discouraged.\n",
      "  positive)\n",
      "C:\\Users\\ome3\\Anaconda3\\lib\\site-packages\\ipykernel_launcher.py:48: UserWarning: With alpha=0, this algorithm does not converge well. You are advised to use the LinearRegression estimator\n",
      "C:\\Users\\ome3\\Anaconda3\\lib\\site-packages\\sklearn\\linear_model\\coordinate_descent.py:475: UserWarning: Coordinate descent with no regularization may lead to unexpected results and is discouraged.\n",
      "  positive)\n",
      "C:\\Users\\ome3\\Anaconda3\\lib\\site-packages\\sklearn\\linear_model\\coordinate_descent.py:475: ConvergenceWarning: Objective did not converge. You might want to increase the number of iterations. Duality gap: 1.7129629629629628, tolerance: 0.0010857142857142858\n",
      "  positive)\n"
     ]
    },
    {
     "name": "stdout",
     "output_type": "stream",
     "text": [
      "<class 'sklearn.linear_model.coordinate_descent.ElasticNet'>\n",
      "[LinReg] Fold 1 rmse_train: 0.9343697    rmse_valid: 0.8942275\n",
      "[LinReg] Fold 2 rmse_train: 0.6995841    rmse_valid: 1.5416729\n",
      "====================\n",
      "CV AVG: RMSE - 0.8169769644514049\n",
      "CV STD: RMSE - 0.11739280980669808\n",
      "====================\n",
      "| \u001b[0m 48      \u001b[0m | \u001b[0m-0.817   \u001b[0m | \u001b[0m 1.48e-05\u001b[0m | \u001b[0m 0.0     \u001b[0m |\n"
     ]
    },
    {
     "name": "stderr",
     "output_type": "stream",
     "text": [
      "C:\\Users\\ome3\\Anaconda3\\lib\\site-packages\\sklearn\\linear_model\\coordinate_descent.py:475: ConvergenceWarning: Objective did not converge. You might want to increase the number of iterations. Duality gap: 3.492212987700621, tolerance: 0.0013875\n",
      "  positive)\n",
      "C:\\Users\\ome3\\Anaconda3\\lib\\site-packages\\sklearn\\linear_model\\coordinate_descent.py:475: ConvergenceWarning: Objective did not converge. You might want to increase the number of iterations. Duality gap: 1.7129754341002703, tolerance: 0.0010857142857142858\n",
      "  positive)\n"
     ]
    },
    {
     "name": "stdout",
     "output_type": "stream",
     "text": [
      "| \u001b[0m 49      \u001b[0m | \u001b[0m-0.817   \u001b[0m | \u001b[0m 1.48e-05\u001b[0m | \u001b[0m 0.0     \u001b[0m |\n",
      "| \u001b[0m 50      \u001b[0m | \u001b[0m-0.817   \u001b[0m | \u001b[0m 1.48e-05\u001b[0m | \u001b[0m 0.0     \u001b[0m |\n",
      "<class 'sklearn.linear_model.coordinate_descent.ElasticNet'>\n",
      "[LinReg] Fold 1 rmse_train: 0.9343697    rmse_valid: 0.8942204\n",
      "[LinReg] Fold 2 rmse_train: 0.6995841    rmse_valid: 1.5416666\n",
      "====================\n",
      "CV AVG: RMSE - 0.8169769644345188\n",
      "CV STD: RMSE - 0.11739280979835959\n",
      "====================\n",
      "| \u001b[0m 51      \u001b[0m | \u001b[0m-0.817   \u001b[0m | \u001b[0m 1.342e-0\u001b[0m | \u001b[0m 2.233e-1\u001b[0m |\n"
     ]
    },
    {
     "name": "stderr",
     "output_type": "stream",
     "text": [
      "C:\\Users\\ome3\\Anaconda3\\lib\\site-packages\\sklearn\\linear_model\\coordinate_descent.py:475: ConvergenceWarning: Objective did not converge. You might want to increase the number of iterations. Duality gap: 3.418503186919195, tolerance: 0.0013875\n",
      "  positive)\n",
      "C:\\Users\\ome3\\Anaconda3\\lib\\site-packages\\sklearn\\linear_model\\coordinate_descent.py:475: ConvergenceWarning: Objective did not converge. You might want to increase the number of iterations. Duality gap: 1.6936829631888237, tolerance: 0.0010857142857142858\n",
      "  positive)\n"
     ]
    },
    {
     "name": "stdout",
     "output_type": "stream",
     "text": [
      "| \u001b[0m 52      \u001b[0m | \u001b[0m-0.817   \u001b[0m | \u001b[0m 1.342e-0\u001b[0m | \u001b[0m 2.233e-1\u001b[0m |\n",
      "| \u001b[0m 53      \u001b[0m | \u001b[0m-0.817   \u001b[0m | \u001b[0m 1.342e-0\u001b[0m | \u001b[0m 2.233e-1\u001b[0m |\n",
      "<class 'sklearn.linear_model.coordinate_descent.ElasticNet'>\n",
      "[LinReg] Fold 1 rmse_train: 0.9343697    rmse_valid: 0.8942205\n",
      "[LinReg] Fold 2 rmse_train: 0.6995841    rmse_valid: 1.5416667\n",
      "====================\n",
      "CV AVG: RMSE - 0.8169769644345201\n",
      "CV STD: RMSE - 0.11739280979836009\n",
      "====================\n",
      "| \u001b[0m 54      \u001b[0m | \u001b[0m-0.817   \u001b[0m | \u001b[0m 1.23e-07\u001b[0m | \u001b[0m 0.0     \u001b[0m |\n"
     ]
    },
    {
     "name": "stderr",
     "output_type": "stream",
     "text": [
      "C:\\Users\\ome3\\Anaconda3\\lib\\site-packages\\sklearn\\linear_model\\coordinate_descent.py:475: ConvergenceWarning: Objective did not converge. You might want to increase the number of iterations. Duality gap: 3.492187711954419, tolerance: 0.0013875\n",
      "  positive)\n",
      "C:\\Users\\ome3\\Anaconda3\\lib\\site-packages\\sklearn\\linear_model\\coordinate_descent.py:475: ConvergenceWarning: Objective did not converge. You might want to increase the number of iterations. Duality gap: 1.7129630666718891, tolerance: 0.0010857142857142858\n",
      "  positive)\n"
     ]
    },
    {
     "name": "stdout",
     "output_type": "stream",
     "text": [
      "<class 'sklearn.linear_model.coordinate_descent.ElasticNet'>\n",
      "[LinReg] Fold 1 rmse_train: 0.9343697    rmse_valid: 0.8942205\n",
      "[LinReg] Fold 2 rmse_train: 0.6995841    rmse_valid: 1.5416667\n",
      "====================\n",
      "CV AVG: RMSE - 0.8169769644345208\n",
      "CV STD: RMSE - 0.11739280979836081\n",
      "====================\n",
      "| \u001b[0m 55      \u001b[0m | \u001b[0m-0.817   \u001b[0m | \u001b[0m 1.699e-0\u001b[0m | \u001b[0m 2.405e-0\u001b[0m |\n"
     ]
    },
    {
     "name": "stderr",
     "output_type": "stream",
     "text": [
      "C:\\Users\\ome3\\Anaconda3\\lib\\site-packages\\sklearn\\linear_model\\coordinate_descent.py:475: ConvergenceWarning: Objective did not converge. You might want to increase the number of iterations. Duality gap: 0.1153656549848332, tolerance: 0.0013875\n",
      "  positive)\n",
      "C:\\Users\\ome3\\Anaconda3\\lib\\site-packages\\sklearn\\linear_model\\coordinate_descent.py:475: ConvergenceWarning: Objective did not converge. You might want to increase the number of iterations. Duality gap: 0.32220771540595416, tolerance: 0.0010857142857142858\n",
      "  positive)\n"
     ]
    },
    {
     "name": "stdout",
     "output_type": "stream",
     "text": [
      "<class 'sklearn.linear_model.coordinate_descent.ElasticNet'>\n",
      "[LinReg] Fold 1 rmse_train: 0.9343697    rmse_valid: 0.8942213\n",
      "[LinReg] Fold 2 rmse_train: 0.6995841    rmse_valid: 1.5416674\n",
      "====================\n",
      "CV AVG: RMSE - 0.8169769644347626\n",
      "CV STD: RMSE - 0.11739280979848021\n",
      "====================\n",
      "| \u001b[0m 56      \u001b[0m | \u001b[0m-0.817   \u001b[0m | \u001b[0m 1.779e-0\u001b[0m | \u001b[0m 0.0     \u001b[0m |\n"
     ]
    },
    {
     "name": "stderr",
     "output_type": "stream",
     "text": [
      "C:\\Users\\ome3\\Anaconda3\\lib\\site-packages\\sklearn\\linear_model\\coordinate_descent.py:475: ConvergenceWarning: Objective did not converge. You might want to increase the number of iterations. Duality gap: 3.492190563968593, tolerance: 0.0013875\n",
      "  positive)\n",
      "C:\\Users\\ome3\\Anaconda3\\lib\\site-packages\\sklearn\\linear_model\\coordinate_descent.py:475: ConvergenceWarning: Objective did not converge. You might want to increase the number of iterations. Duality gap: 1.7129644621581133, tolerance: 0.0010857142857142858\n",
      "  positive)\n"
     ]
    },
    {
     "name": "stdout",
     "output_type": "stream",
     "text": [
      "<class 'sklearn.linear_model.coordinate_descent.ElasticNet'>\n",
      "[LinReg] Fold 1 rmse_train: 0.9343697    rmse_valid: 0.8942204\n",
      "[LinReg] Fold 2 rmse_train: 0.6995841    rmse_valid: 1.5416666\n",
      "====================\n",
      "CV AVG: RMSE - 0.8169769644345187\n",
      "CV STD: RMSE - 0.11739280979835964\n",
      "====================\n",
      "| \u001b[0m 57      \u001b[0m | \u001b[0m-0.817   \u001b[0m | \u001b[0m 0.0     \u001b[0m | \u001b[0m 2.848e-0\u001b[0m |\n"
     ]
    },
    {
     "name": "stderr",
     "output_type": "stream",
     "text": [
      "C:\\Users\\ome3\\Anaconda3\\lib\\site-packages\\ipykernel_launcher.py:48: UserWarning: With alpha=0, this algorithm does not converge well. You are advised to use the LinearRegression estimator\n",
      "C:\\Users\\ome3\\Anaconda3\\lib\\site-packages\\sklearn\\linear_model\\coordinate_descent.py:475: UserWarning: Coordinate descent with no regularization may lead to unexpected results and is discouraged.\n",
      "  positive)\n",
      "C:\\Users\\ome3\\Anaconda3\\lib\\site-packages\\ipykernel_launcher.py:48: UserWarning: With alpha=0, this algorithm does not converge well. You are advised to use the LinearRegression estimator\n",
      "C:\\Users\\ome3\\Anaconda3\\lib\\site-packages\\sklearn\\linear_model\\coordinate_descent.py:475: UserWarning: Coordinate descent with no regularization may lead to unexpected results and is discouraged.\n",
      "  positive)\n",
      "C:\\Users\\ome3\\Anaconda3\\lib\\site-packages\\sklearn\\linear_model\\coordinate_descent.py:475: ConvergenceWarning: Objective did not converge. You might want to increase the number of iterations. Duality gap: 1.7129629629629628, tolerance: 0.0010857142857142858\n",
      "  positive)\n"
     ]
    },
    {
     "name": "stdout",
     "output_type": "stream",
     "text": [
      "| \u001b[0m 58      \u001b[0m | \u001b[0m-0.817   \u001b[0m | \u001b[0m 0.0     \u001b[0m | \u001b[0m 2.848e-0\u001b[0m |\n",
      "<class 'sklearn.linear_model.coordinate_descent.ElasticNet'>\n",
      "[LinReg] Fold 1 rmse_train: 0.9343697    rmse_valid: 0.8942293\n",
      "[LinReg] Fold 2 rmse_train: 0.6995841    rmse_valid: 1.5416746\n",
      "====================\n",
      "CV AVG: RMSE - 0.8169769644614533\n",
      "CV STD: RMSE - 0.11739280981166028\n",
      "====================\n",
      "| \u001b[0m 59      \u001b[0m | \u001b[0m-0.817   \u001b[0m | \u001b[0m 1.869e-0\u001b[0m | \u001b[0m 0.0     \u001b[0m |\n"
     ]
    },
    {
     "name": "stderr",
     "output_type": "stream",
     "text": [
      "C:\\Users\\ome3\\Anaconda3\\lib\\site-packages\\sklearn\\linear_model\\coordinate_descent.py:475: ConvergenceWarning: Objective did not converge. You might want to increase the number of iterations. Duality gap: 3.492219690094261, tolerance: 0.0013875\n",
      "  positive)\n",
      "C:\\Users\\ome3\\Anaconda3\\lib\\site-packages\\sklearn\\linear_model\\coordinate_descent.py:475: ConvergenceWarning: Objective did not converge. You might want to increase the number of iterations. Duality gap: 1.7129787135996355, tolerance: 0.0010857142857142858\n",
      "  positive)\n"
     ]
    },
    {
     "name": "stdout",
     "output_type": "stream",
     "text": [
      "<class 'sklearn.linear_model.coordinate_descent.ElasticNet'>\n",
      "[LinReg] Fold 1 rmse_train: 0.9343697    rmse_valid: 0.8942228\n",
      "[LinReg] Fold 2 rmse_train: 0.6995841    rmse_valid: 1.5416688\n",
      "====================\n",
      "CV AVG: RMSE - 0.8169769644364698\n",
      "CV STD: RMSE - 0.1173928097993232\n",
      "====================\n",
      "| \u001b[0m 60      \u001b[0m | \u001b[0m-0.817   \u001b[0m | \u001b[0m 5.029e-0\u001b[0m | \u001b[0m 1.813e-0\u001b[0m |\n",
      "<class 'sklearn.linear_model.coordinate_descent.ElasticNet'>\n",
      "[LinReg] Fold 1 rmse_train: 0.9343697    rmse_valid: 0.8942210\n",
      "[LinReg] Fold 2 rmse_train: 0.6995841    rmse_valid: 1.5416671\n",
      "====================\n",
      "CV AVG: RMSE - 0.8169769644346291\n",
      "CV STD: RMSE - 0.11739280979841404\n",
      "====================\n",
      "| \u001b[0m 61      \u001b[0m | \u001b[0m-0.817   \u001b[0m | \u001b[0m 1.196e-0\u001b[0m | \u001b[0m 1.513e-0\u001b[0m |\n",
      "<class 'sklearn.linear_model.coordinate_descent.ElasticNet'>\n",
      "[LinReg] Fold 1 rmse_train: 0.9343697    rmse_valid: 0.8942221\n",
      "[LinReg] Fold 2 rmse_train: 0.6995841    rmse_valid: 1.5416681\n",
      "====================\n",
      "CV AVG: RMSE - 0.8169769644354757\n",
      "CV STD: RMSE - 0.11739280979883215\n",
      "====================\n",
      "| \u001b[0m 62      \u001b[0m | \u001b[0m-0.817   \u001b[0m | \u001b[0m 3.522e-0\u001b[0m | \u001b[0m 0.0     \u001b[0m |\n"
     ]
    },
    {
     "name": "stderr",
     "output_type": "stream",
     "text": [
      "C:\\Users\\ome3\\Anaconda3\\lib\\site-packages\\sklearn\\linear_model\\coordinate_descent.py:475: ConvergenceWarning: Objective did not converge. You might want to increase the number of iterations. Duality gap: 3.4921935676361175, tolerance: 0.0013875\n",
      "  positive)\n",
      "C:\\Users\\ome3\\Anaconda3\\lib\\site-packages\\sklearn\\linear_model\\coordinate_descent.py:475: ConvergenceWarning: Objective did not converge. You might want to increase the number of iterations. Duality gap: 1.7129659318494572, tolerance: 0.0010857142857142858\n",
      "  positive)\n"
     ]
    },
    {
     "name": "stdout",
     "output_type": "stream",
     "text": [
      "<class 'sklearn.linear_model.coordinate_descent.ElasticNet'>\n",
      "[LinReg] Fold 1 rmse_train: 0.9343697    rmse_valid: 0.8942220\n",
      "[LinReg] Fold 2 rmse_train: 0.6995841    rmse_valid: 1.5416680\n",
      "====================\n",
      "CV AVG: RMSE - 0.816976964435306\n",
      "CV STD: RMSE - 0.11739280979874844\n",
      "====================\n",
      "| \u001b[0m 63      \u001b[0m | \u001b[0m-0.817   \u001b[0m | \u001b[0m 3.195e-0\u001b[0m | \u001b[0m 0.0     \u001b[0m |\n"
     ]
    },
    {
     "name": "stderr",
     "output_type": "stream",
     "text": [
      "C:\\Users\\ome3\\Anaconda3\\lib\\site-packages\\sklearn\\linear_model\\coordinate_descent.py:475: ConvergenceWarning: Objective did not converge. You might want to increase the number of iterations. Duality gap: 3.4921930035283544, tolerance: 0.0013875\n",
      "  positive)\n",
      "C:\\Users\\ome3\\Anaconda3\\lib\\site-packages\\sklearn\\linear_model\\coordinate_descent.py:475: ConvergenceWarning: Objective did not converge. You might want to increase the number of iterations. Duality gap: 1.7129656558320185, tolerance: 0.0010857142857142858\n",
      "  positive)\n"
     ]
    },
    {
     "name": "stdout",
     "output_type": "stream",
     "text": [
      "<class 'sklearn.linear_model.coordinate_descent.ElasticNet'>\n",
      "[LinReg] Fold 1 rmse_train: 0.9343873    rmse_valid: 0.9002980\n",
      "[LinReg] Fold 2 rmse_train: 0.6995902    rmse_valid: 1.5469950\n",
      "====================\n",
      "CV AVG: RMSE - 0.8169888014985016\n",
      "CV STD: RMSE - 0.11739859232097699\n",
      "====================\n",
      "| \u001b[0m 64      \u001b[0m | \u001b[0m-0.817   \u001b[0m | \u001b[0m 0.0124  \u001b[0m | \u001b[0m 0.007117\u001b[0m |\n",
      "<class 'sklearn.linear_model.coordinate_descent.ElasticNet'>\n",
      "[LinReg] Fold 1 rmse_train: 0.9343697    rmse_valid: 0.8942204\n",
      "[LinReg] Fold 2 rmse_train: 0.6995841    rmse_valid: 1.5416666\n",
      "====================\n",
      "CV AVG: RMSE - 0.8169769644345187\n",
      "CV STD: RMSE - 0.11739280979835964\n",
      "====================\n",
      "| \u001b[0m 65      \u001b[0m | \u001b[0m-0.817   \u001b[0m | \u001b[0m 0.0     \u001b[0m | \u001b[0m 8.826e-0\u001b[0m |\n"
     ]
    },
    {
     "name": "stderr",
     "output_type": "stream",
     "text": [
      "C:\\Users\\ome3\\Anaconda3\\lib\\site-packages\\ipykernel_launcher.py:48: UserWarning: With alpha=0, this algorithm does not converge well. You are advised to use the LinearRegression estimator\n",
      "C:\\Users\\ome3\\Anaconda3\\lib\\site-packages\\sklearn\\linear_model\\coordinate_descent.py:475: UserWarning: Coordinate descent with no regularization may lead to unexpected results and is discouraged.\n",
      "  positive)\n",
      "C:\\Users\\ome3\\Anaconda3\\lib\\site-packages\\ipykernel_launcher.py:48: UserWarning: With alpha=0, this algorithm does not converge well. You are advised to use the LinearRegression estimator\n",
      "C:\\Users\\ome3\\Anaconda3\\lib\\site-packages\\sklearn\\linear_model\\coordinate_descent.py:475: UserWarning: Coordinate descent with no regularization may lead to unexpected results and is discouraged.\n",
      "  positive)\n",
      "C:\\Users\\ome3\\Anaconda3\\lib\\site-packages\\sklearn\\linear_model\\coordinate_descent.py:475: ConvergenceWarning: Objective did not converge. You might want to increase the number of iterations. Duality gap: 1.7129629629629628, tolerance: 0.0010857142857142858\n",
      "  positive)\n"
     ]
    },
    {
     "name": "stdout",
     "output_type": "stream",
     "text": [
      "<class 'sklearn.linear_model.coordinate_descent.ElasticNet'>\n",
      "[LinReg] Fold 1 rmse_train: 0.9343697    rmse_valid: 0.8942211\n",
      "[LinReg] Fold 2 rmse_train: 0.6995841    rmse_valid: 1.5416672\n",
      "====================\n",
      "CV AVG: RMSE - 0.8169769644346576\n",
      "CV STD: RMSE - 0.11739280979842803\n",
      "====================\n",
      "| \u001b[0m 66      \u001b[0m | \u001b[0m-0.817   \u001b[0m | \u001b[0m 1.341e-0\u001b[0m | \u001b[0m 8.798e-0\u001b[0m |\n",
      "<class 'sklearn.linear_model.coordinate_descent.ElasticNet'>\n",
      "[LinReg] Fold 1 rmse_train: 0.9343697    rmse_valid: 0.8942242\n",
      "[LinReg] Fold 2 rmse_train: 0.6995841    rmse_valid: 1.5416700\n",
      "====================\n",
      "CV AVG: RMSE - 0.8169769644393121\n",
      "CV STD: RMSE - 0.11739280980072664\n",
      "====================\n",
      "| \u001b[0m 67      \u001b[0m | \u001b[0m-0.817   \u001b[0m | \u001b[0m 7.883e-0\u001b[0m | \u001b[0m 2.369e-0\u001b[0m |\n",
      "| \u001b[0m 68      \u001b[0m | \u001b[0m-0.817   \u001b[0m | \u001b[0m 7.883e-0\u001b[0m | \u001b[0m 2.369e-0\u001b[0m |\n",
      "<class 'sklearn.linear_model.coordinate_descent.ElasticNet'>\n",
      "[LinReg] Fold 1 rmse_train: 0.9343697    rmse_valid: 0.8942241\n",
      "[LinReg] Fold 2 rmse_train: 0.6995841    rmse_valid: 1.5416699\n",
      "====================\n",
      "CV AVG: RMSE - 0.8169769644391313\n",
      "CV STD: RMSE - 0.11739280980063727\n",
      "====================\n",
      "| \u001b[0m 69      \u001b[0m | \u001b[0m-0.817   \u001b[0m | \u001b[0m 7.733e-0\u001b[0m | \u001b[0m 1.715e-0\u001b[0m |\n",
      "| \u001b[0m 70      \u001b[0m | \u001b[0m-0.817   \u001b[0m | \u001b[0m 7.733e-0\u001b[0m | \u001b[0m 1.715e-0\u001b[0m |\n",
      "| \u001b[0m 71      \u001b[0m | \u001b[0m-0.817   \u001b[0m | \u001b[0m 7.733e-0\u001b[0m | \u001b[0m 1.715e-0\u001b[0m |\n",
      "| \u001b[0m 72      \u001b[0m | \u001b[0m-0.817   \u001b[0m | \u001b[0m 7.733e-0\u001b[0m | \u001b[0m 1.715e-0\u001b[0m |\n",
      "<class 'sklearn.linear_model.coordinate_descent.ElasticNet'>\n",
      "[LinReg] Fold 1 rmse_train: 0.9343697    rmse_valid: 0.8942206\n",
      "[LinReg] Fold 2 rmse_train: 0.6995841    rmse_valid: 1.5416668\n",
      "====================\n",
      "CV AVG: RMSE - 0.816976964434527\n",
      "CV STD: RMSE - 0.11739280979836357\n",
      "====================\n",
      "| \u001b[0m 73      \u001b[0m | \u001b[0m-0.817   \u001b[0m | \u001b[0m 3.28e-07\u001b[0m | \u001b[0m 6.934e-0\u001b[0m |\n",
      "<class 'sklearn.linear_model.coordinate_descent.ElasticNet'>\n",
      "[LinReg] Fold 1 rmse_train: 0.9343697    rmse_valid: 0.8942205\n",
      "[LinReg] Fold 2 rmse_train: 0.6995841    rmse_valid: 1.5416666\n",
      "====================\n",
      "CV AVG: RMSE - 0.8169769644345188\n",
      "CV STD: RMSE - 0.11739280979835959\n",
      "====================\n",
      "| \u001b[0m 74      \u001b[0m | \u001b[0m-0.817   \u001b[0m | \u001b[0m 1.605e-0\u001b[0m | \u001b[0m 8.045e-0\u001b[0m |\n",
      "<class 'sklearn.linear_model.coordinate_descent.ElasticNet'>\n",
      "[LinReg] Fold 1 rmse_train: 0.9343697    rmse_valid: 0.8942235\n",
      "[LinReg] Fold 2 rmse_train: 0.6995841    rmse_valid: 1.5416694\n",
      "====================\n",
      "CV AVG: RMSE - 0.8169769644377595\n",
      "CV STD: RMSE - 0.11739280979996003\n",
      "====================\n",
      "| \u001b[0m 75      \u001b[0m | \u001b[0m-0.817   \u001b[0m | \u001b[0m 6.482e-0\u001b[0m | \u001b[0m 1.517e-0\u001b[0m |\n",
      "<class 'sklearn.linear_model.coordinate_descent.ElasticNet'>\n",
      "[LinReg] Fold 1 rmse_train: 0.9343697    rmse_valid: 0.8942244\n",
      "[LinReg] Fold 2 rmse_train: 0.6995841    rmse_valid: 1.5416702\n",
      "====================\n",
      "CV AVG: RMSE - 0.8169769644398703\n",
      "CV STD: RMSE - 0.1173928098010023\n",
      "====================\n",
      "| \u001b[0m 76      \u001b[0m | \u001b[0m-0.817   \u001b[0m | \u001b[0m 8.329e-0\u001b[0m | \u001b[0m 1.642e-0\u001b[0m |\n",
      "<class 'sklearn.linear_model.coordinate_descent.ElasticNet'>\n",
      "[LinReg] Fold 1 rmse_train: 0.9343697    rmse_valid: 0.8942204\n",
      "[LinReg] Fold 2 rmse_train: 0.6995841    rmse_valid: 1.5416666\n",
      "====================\n",
      "CV AVG: RMSE - 0.8169769644345187\n",
      "CV STD: RMSE - 0.11739280979835964\n",
      "====================\n",
      "| \u001b[0m 77      \u001b[0m | \u001b[0m-0.817   \u001b[0m | \u001b[0m 0.0     \u001b[0m | \u001b[0m 5.008e-0\u001b[0m |\n"
     ]
    },
    {
     "name": "stderr",
     "output_type": "stream",
     "text": [
      "C:\\Users\\ome3\\Anaconda3\\lib\\site-packages\\ipykernel_launcher.py:48: UserWarning: With alpha=0, this algorithm does not converge well. You are advised to use the LinearRegression estimator\n",
      "C:\\Users\\ome3\\Anaconda3\\lib\\site-packages\\sklearn\\linear_model\\coordinate_descent.py:475: UserWarning: Coordinate descent with no regularization may lead to unexpected results and is discouraged.\n",
      "  positive)\n",
      "C:\\Users\\ome3\\Anaconda3\\lib\\site-packages\\ipykernel_launcher.py:48: UserWarning: With alpha=0, this algorithm does not converge well. You are advised to use the LinearRegression estimator\n",
      "C:\\Users\\ome3\\Anaconda3\\lib\\site-packages\\sklearn\\linear_model\\coordinate_descent.py:475: UserWarning: Coordinate descent with no regularization may lead to unexpected results and is discouraged.\n",
      "  positive)\n",
      "C:\\Users\\ome3\\Anaconda3\\lib\\site-packages\\sklearn\\linear_model\\coordinate_descent.py:475: ConvergenceWarning: Objective did not converge. You might want to increase the number of iterations. Duality gap: 1.7129629629629628, tolerance: 0.0010857142857142858\n",
      "  positive)\n"
     ]
    },
    {
     "name": "stdout",
     "output_type": "stream",
     "text": [
      "<class 'sklearn.linear_model.coordinate_descent.ElasticNet'>\n",
      "[LinReg] Fold 1 rmse_train: 0.9343697    rmse_valid: 0.8942205\n",
      "[LinReg] Fold 2 rmse_train: 0.6995841    rmse_valid: 1.5416666\n",
      "====================\n",
      "CV AVG: RMSE - 0.8169769644345191\n",
      "CV STD: RMSE - 0.11739280979835964\n",
      "====================\n",
      "| \u001b[0m 78      \u001b[0m | \u001b[0m-0.817   \u001b[0m | \u001b[0m 5.244e-0\u001b[0m | \u001b[0m 6.865e-0\u001b[0m |\n",
      "<class 'sklearn.linear_model.coordinate_descent.ElasticNet'>\n",
      "[LinReg] Fold 1 rmse_train: 0.9343697    rmse_valid: 0.8942215\n",
      "[LinReg] Fold 2 rmse_train: 0.6995841    rmse_valid: 1.5416675\n",
      "====================\n",
      "CV AVG: RMSE - 0.8169769644348807\n",
      "CV STD: RMSE - 0.11739280979853839\n",
      "====================\n",
      "| \u001b[0m 79      \u001b[0m | \u001b[0m-0.817   \u001b[0m | \u001b[0m 2.166e-0\u001b[0m | \u001b[0m 2.882e-0\u001b[0m |\n",
      "<class 'sklearn.linear_model.coordinate_descent.ElasticNet'>\n",
      "[LinReg] Fold 1 rmse_train: 0.9343697    rmse_valid: 0.8942235\n",
      "[LinReg] Fold 2 rmse_train: 0.6995841    rmse_valid: 1.5416694\n",
      "====================\n",
      "CV AVG: RMSE - 0.8169769644377947\n",
      "CV STD: RMSE - 0.1173928097999773\n",
      "====================\n",
      "| \u001b[0m 80      \u001b[0m | \u001b[0m-0.817   \u001b[0m | \u001b[0m 6.517e-0\u001b[0m | \u001b[0m 8.206e-0\u001b[0m |\n",
      "<class 'sklearn.linear_model.coordinate_descent.ElasticNet'>\n",
      "[LinReg] Fold 1 rmse_train: 0.9343697    rmse_valid: 0.8942213\n",
      "[LinReg] Fold 2 rmse_train: 0.6995841    rmse_valid: 1.5416674\n",
      "====================\n",
      "CV AVG: RMSE - 0.8169769644347731\n",
      "CV STD: RMSE - 0.11739280979848538\n",
      "====================\n",
      "| \u001b[0m 81      \u001b[0m | \u001b[0m-0.817   \u001b[0m | \u001b[0m 1.816e-0\u001b[0m | \u001b[0m 9.187e-0\u001b[0m |\n",
      "<class 'sklearn.linear_model.coordinate_descent.ElasticNet'>\n",
      "[LinReg] Fold 1 rmse_train: 0.9343697    rmse_valid: 0.8942209\n",
      "[LinReg] Fold 2 rmse_train: 0.6995841    rmse_valid: 1.5416670\n",
      "====================\n",
      "CV AVG: RMSE - 0.8169769644345763\n",
      "CV STD: RMSE - 0.11739280979838806\n",
      "====================\n",
      "| \u001b[0m 82      \u001b[0m | \u001b[0m-0.817   \u001b[0m | \u001b[0m 8.641e-0\u001b[0m | \u001b[0m 0.0     \u001b[0m |\n"
     ]
    },
    {
     "name": "stderr",
     "output_type": "stream",
     "text": [
      "C:\\Users\\ome3\\Anaconda3\\lib\\site-packages\\sklearn\\linear_model\\coordinate_descent.py:475: ConvergenceWarning: Objective did not converge. You might want to increase the number of iterations. Duality gap: 3.492188988520635, tolerance: 0.0013875\n",
      "  positive)\n",
      "C:\\Users\\ome3\\Anaconda3\\lib\\site-packages\\sklearn\\linear_model\\coordinate_descent.py:475: ConvergenceWarning: Objective did not converge. You might want to increase the number of iterations. Duality gap: 1.7129636912936534, tolerance: 0.0010857142857142858\n",
      "  positive)\n"
     ]
    },
    {
     "name": "stdout",
     "output_type": "stream",
     "text": [
      "<class 'sklearn.linear_model.coordinate_descent.ElasticNet'>\n",
      "[LinReg] Fold 1 rmse_train: 0.9343697    rmse_valid: 0.8942207\n",
      "[LinReg] Fold 2 rmse_train: 0.6995841    rmse_valid: 1.5416668\n",
      "====================\n",
      "CV AVG: RMSE - 0.8169769644345373\n",
      "CV STD: RMSE - 0.11739280979836875\n",
      "====================\n",
      "| \u001b[0m 83      \u001b[0m | \u001b[0m-0.817   \u001b[0m | \u001b[0m 4.901e-0\u001b[0m | \u001b[0m 0.0     \u001b[0m |\n"
     ]
    },
    {
     "name": "stderr",
     "output_type": "stream",
     "text": [
      "C:\\Users\\ome3\\Anaconda3\\lib\\site-packages\\sklearn\\linear_model\\coordinate_descent.py:475: ConvergenceWarning: Objective did not converge. You might want to increase the number of iterations. Duality gap: 3.4921883442967876, tolerance: 0.0013875\n",
      "  positive)\n",
      "C:\\Users\\ome3\\Anaconda3\\lib\\site-packages\\sklearn\\linear_model\\coordinate_descent.py:475: ConvergenceWarning: Objective did not converge. You might want to increase the number of iterations. Duality gap: 1.7129633760759457, tolerance: 0.0010857142857142858\n",
      "  positive)\n"
     ]
    },
    {
     "name": "stdout",
     "output_type": "stream",
     "text": [
      "<class 'sklearn.linear_model.coordinate_descent.ElasticNet'>\n",
      "[LinReg] Fold 1 rmse_train: 0.9343776    rmse_valid: 0.8982395\n",
      "[LinReg] Fold 2 rmse_train: 0.6995868    rmse_valid: 1.5452233\n",
      "====================\n",
      "CV AVG: RMSE - 0.8169822596147451\n",
      "CV STD: RMSE - 0.11739540558616035\n",
      "====================\n",
      "| \u001b[0m 84      \u001b[0m | \u001b[0m-0.817   \u001b[0m | \u001b[0m 0.008288\u001b[0m | \u001b[0m 0.004873\u001b[0m |\n",
      "<class 'sklearn.linear_model.coordinate_descent.ElasticNet'>\n",
      "[LinReg] Fold 1 rmse_train: 0.9343697    rmse_valid: 0.8942216\n",
      "[LinReg] Fold 2 rmse_train: 0.6995841    rmse_valid: 1.5416676\n",
      "====================\n",
      "CV AVG: RMSE - 0.8169769644349381\n",
      "CV STD: RMSE - 0.1173928097985667\n",
      "====================\n",
      "| \u001b[0m 85      \u001b[0m | \u001b[0m-0.817   \u001b[0m | \u001b[0m 2.332e-0\u001b[0m | \u001b[0m 7.476e-0\u001b[0m |\n",
      "<class 'sklearn.linear_model.coordinate_descent.ElasticNet'>\n",
      "[LinReg] Fold 1 rmse_train: 0.9343697    rmse_valid: 0.8942224\n",
      "[LinReg] Fold 2 rmse_train: 0.6995841    rmse_valid: 1.5416684\n",
      "====================\n",
      "CV AVG: RMSE - 0.8169769644357909\n",
      "CV STD: RMSE - 0.11739280979898747\n",
      "====================\n",
      "| \u001b[0m 86      \u001b[0m | \u001b[0m-0.817   \u001b[0m | \u001b[0m 4.061e-0\u001b[0m | \u001b[0m 2.861e-0\u001b[0m |\n",
      "<class 'sklearn.linear_model.coordinate_descent.ElasticNet'>\n",
      "[LinReg] Fold 1 rmse_train: 0.9343697    rmse_valid: 0.8942216\n",
      "[LinReg] Fold 2 rmse_train: 0.6995841    rmse_valid: 1.5416676\n",
      "====================\n",
      "CV AVG: RMSE - 0.8169769644349691\n",
      "CV STD: RMSE - 0.11739280979858191\n",
      "====================\n",
      "| \u001b[0m 87      \u001b[0m | \u001b[0m-0.817   \u001b[0m | \u001b[0m 2.416e-0\u001b[0m | \u001b[0m 3.12e-12\u001b[0m |\n"
     ]
    },
    {
     "name": "stderr",
     "output_type": "stream",
     "text": [
      "C:\\Users\\ome3\\Anaconda3\\lib\\site-packages\\sklearn\\linear_model\\coordinate_descent.py:475: ConvergenceWarning: Objective did not converge. You might want to increase the number of iterations. Duality gap: 3.1653125065064, tolerance: 0.0013875\n",
      "  positive)\n",
      "C:\\Users\\ome3\\Anaconda3\\lib\\site-packages\\sklearn\\linear_model\\coordinate_descent.py:475: ConvergenceWarning: Objective did not converge. You might want to increase the number of iterations. Duality gap: 1.6178084972933038, tolerance: 0.0010857142857142858\n",
      "  positive)\n"
     ]
    },
    {
     "name": "stdout",
     "output_type": "stream",
     "text": [
      "| \u001b[0m 88      \u001b[0m | \u001b[0m-0.817   \u001b[0m | \u001b[0m 2.416e-0\u001b[0m | \u001b[0m 3.12e-12\u001b[0m |\n",
      "| \u001b[0m 89      \u001b[0m | \u001b[0m-0.817   \u001b[0m | \u001b[0m 2.416e-0\u001b[0m | \u001b[0m 3.12e-12\u001b[0m |\n",
      "| \u001b[0m 90      \u001b[0m | \u001b[0m-0.817   \u001b[0m | \u001b[0m 2.416e-0\u001b[0m | \u001b[0m 3.12e-12\u001b[0m |\n",
      "<class 'sklearn.linear_model.coordinate_descent.ElasticNet'>\n",
      "[LinReg] Fold 1 rmse_train: 0.9343697    rmse_valid: 0.8942206\n",
      "[LinReg] Fold 2 rmse_train: 0.6995841    rmse_valid: 1.5416668\n",
      "====================\n",
      "CV AVG: RMSE - 0.8169769644345284\n",
      "CV STD: RMSE - 0.1173928097983643\n",
      "====================\n",
      "| \u001b[0m 91      \u001b[0m | \u001b[0m-0.817   \u001b[0m | \u001b[0m 3.525e-0\u001b[0m | \u001b[0m 1.554e-0\u001b[0m |\n",
      "<class 'sklearn.linear_model.coordinate_descent.ElasticNet'>\n",
      "[LinReg] Fold 1 rmse_train: 0.9343697    rmse_valid: 0.8942222\n",
      "[LinReg] Fold 2 rmse_train: 0.6995841    rmse_valid: 1.5416682\n",
      "====================\n",
      "CV AVG: RMSE - 0.8169769644356084\n",
      "CV STD: RMSE - 0.1173928097988976\n",
      "====================\n",
      "| \u001b[0m 92      \u001b[0m | \u001b[0m-0.817   \u001b[0m | \u001b[0m 3.758e-0\u001b[0m | \u001b[0m 1.041e-0\u001b[0m |\n",
      "<class 'sklearn.linear_model.coordinate_descent.ElasticNet'>\n",
      "[LinReg] Fold 1 rmse_train: 0.9343697    rmse_valid: 0.8942205\n",
      "[LinReg] Fold 2 rmse_train: 0.6995841    rmse_valid: 1.5416666\n",
      "====================\n",
      "CV AVG: RMSE - 0.8169769644345188\n",
      "CV STD: RMSE - 0.11739280979835971\n",
      "====================\n",
      "| \u001b[0m 93      \u001b[0m | \u001b[0m-0.817   \u001b[0m | \u001b[0m 3.048e-0\u001b[0m | \u001b[0m 0.0     \u001b[0m |\n"
     ]
    },
    {
     "name": "stderr",
     "output_type": "stream",
     "text": [
      "C:\\Users\\ome3\\Anaconda3\\lib\\site-packages\\sklearn\\linear_model\\coordinate_descent.py:475: ConvergenceWarning: Objective did not converge. You might want to increase the number of iterations. Duality gap: 3.4921875525044523, tolerance: 0.0013875\n",
      "  positive)\n",
      "C:\\Users\\ome3\\Anaconda3\\lib\\site-packages\\sklearn\\linear_model\\coordinate_descent.py:475: ConvergenceWarning: Objective did not converge. You might want to increase the number of iterations. Duality gap: 1.7129629886532993, tolerance: 0.0010857142857142858\n",
      "  positive)\n"
     ]
    },
    {
     "name": "stdout",
     "output_type": "stream",
     "text": [
      "<class 'sklearn.linear_model.coordinate_descent.ElasticNet'>\n",
      "[LinReg] Fold 1 rmse_train: 0.9343697    rmse_valid: 0.8942207\n",
      "[LinReg] Fold 2 rmse_train: 0.6995841    rmse_valid: 1.5416669\n",
      "====================\n",
      "CV AVG: RMSE - 0.8169769644345449\n",
      "CV STD: RMSE - 0.11739280979837252\n",
      "====================\n",
      "| \u001b[0m 94      \u001b[0m | \u001b[0m-0.817   \u001b[0m | \u001b[0m 5.831e-0\u001b[0m | \u001b[0m 1.139e-0\u001b[0m |\n",
      "| \u001b[0m 95      \u001b[0m | \u001b[0m-0.817   \u001b[0m | \u001b[0m 5.831e-0\u001b[0m | \u001b[0m 1.139e-0\u001b[0m |\n",
      "| \u001b[0m 96      \u001b[0m | \u001b[0m-0.817   \u001b[0m | \u001b[0m 5.831e-0\u001b[0m | \u001b[0m 1.139e-0\u001b[0m |\n",
      "<class 'sklearn.linear_model.coordinate_descent.ElasticNet'>\n",
      "[LinReg] Fold 1 rmse_train: 0.9343697    rmse_valid: 0.8942231\n",
      "[LinReg] Fold 2 rmse_train: 0.6995841    rmse_valid: 1.5416690\n",
      "====================\n",
      "CV AVG: RMSE - 0.8169769644369416\n",
      "CV STD: RMSE - 0.11739280979955596\n",
      "====================\n",
      "| \u001b[0m 97      \u001b[0m | \u001b[0m-0.817   \u001b[0m | \u001b[0m 5.604e-0\u001b[0m | \u001b[0m 1.408e-1\u001b[0m |\n"
     ]
    },
    {
     "name": "stderr",
     "output_type": "stream",
     "text": [
      "C:\\Users\\ome3\\Anaconda3\\lib\\site-packages\\sklearn\\linear_model\\coordinate_descent.py:475: ConvergenceWarning: Objective did not converge. You might want to increase the number of iterations. Duality gap: 3.492185542049401, tolerance: 0.0013875\n",
      "  positive)\n",
      "C:\\Users\\ome3\\Anaconda3\\lib\\site-packages\\sklearn\\linear_model\\coordinate_descent.py:475: ConvergenceWarning: Objective did not converge. You might want to increase the number of iterations. Duality gap: 1.7129668000791158, tolerance: 0.0010857142857142858\n",
      "  positive)\n"
     ]
    },
    {
     "name": "stdout",
     "output_type": "stream",
     "text": [
      "<class 'sklearn.linear_model.coordinate_descent.ElasticNet'>\n",
      "[LinReg] Fold 1 rmse_train: 0.9343697    rmse_valid: 0.8942206\n",
      "[LinReg] Fold 2 rmse_train: 0.6995841    rmse_valid: 1.5416668\n",
      "====================\n",
      "CV AVG: RMSE - 0.8169769644345275\n",
      "CV STD: RMSE - 0.11739280979836408\n",
      "====================\n",
      "| \u001b[0m 98      \u001b[0m | \u001b[0m-0.817   \u001b[0m | \u001b[0m 3.396e-0\u001b[0m | \u001b[0m 0.0     \u001b[0m |\n"
     ]
    },
    {
     "name": "stderr",
     "output_type": "stream",
     "text": [
      "C:\\Users\\ome3\\Anaconda3\\lib\\site-packages\\sklearn\\linear_model\\coordinate_descent.py:475: ConvergenceWarning: Objective did not converge. You might want to increase the number of iterations. Duality gap: 3.492188085050731, tolerance: 0.0013875\n",
      "  positive)\n",
      "C:\\Users\\ome3\\Anaconda3\\lib\\site-packages\\sklearn\\linear_model\\coordinate_descent.py:475: ConvergenceWarning: Objective did not converge. You might want to increase the number of iterations. Duality gap: 1.712963249227279, tolerance: 0.0010857142857142858\n",
      "  positive)\n"
     ]
    },
    {
     "name": "stdout",
     "output_type": "stream",
     "text": [
      "<class 'sklearn.linear_model.coordinate_descent.ElasticNet'>\n",
      "[LinReg] Fold 1 rmse_train: 0.9343697    rmse_valid: 0.8942278\n",
      "[LinReg] Fold 2 rmse_train: 0.6995841    rmse_valid: 1.5416733\n",
      "====================\n",
      "CV AVG: RMSE - 0.8169769644532054\n",
      "CV STD: RMSE - 0.11739280980758743\n",
      "====================\n",
      "| \u001b[0m 99      \u001b[0m | \u001b[0m-0.817   \u001b[0m | \u001b[0m 1.556e-0\u001b[0m | \u001b[0m 0.0     \u001b[0m |\n"
     ]
    },
    {
     "name": "stderr",
     "output_type": "stream",
     "text": [
      "C:\\Users\\ome3\\Anaconda3\\lib\\site-packages\\sklearn\\linear_model\\coordinate_descent.py:475: ConvergenceWarning: Objective did not converge. You might want to increase the number of iterations. Duality gap: 3.4922143123375466, tolerance: 0.0013875\n",
      "  positive)\n",
      "C:\\Users\\ome3\\Anaconda3\\lib\\site-packages\\sklearn\\linear_model\\coordinate_descent.py:475: ConvergenceWarning: Objective did not converge. You might want to increase the number of iterations. Duality gap: 1.7129760822481535, tolerance: 0.0010857142857142858\n",
      "  positive)\n"
     ]
    },
    {
     "name": "stdout",
     "output_type": "stream",
     "text": [
      "<class 'sklearn.linear_model.coordinate_descent.ElasticNet'>\n",
      "[LinReg] Fold 1 rmse_train: 0.9343697    rmse_valid: 0.8942232\n",
      "[LinReg] Fold 2 rmse_train: 0.6995841    rmse_valid: 1.5416691\n",
      "====================\n",
      "CV AVG: RMSE - 0.8169769644370626\n",
      "CV STD: RMSE - 0.11739280979961592\n",
      "====================\n",
      "| \u001b[0m 100     \u001b[0m | \u001b[0m-0.817   \u001b[0m | \u001b[0m 5.743e-0\u001b[0m | \u001b[0m 0.0     \u001b[0m |\n",
      "=================================================\n",
      "Best score: 0.8169769644345187\n",
      "Best set of parameters:\n",
      "{'alpha': 0.0, 'l1_ratio': 0.0}\n"
     ]
    },
    {
     "name": "stderr",
     "output_type": "stream",
     "text": [
      "C:\\Users\\ome3\\Anaconda3\\lib\\site-packages\\sklearn\\linear_model\\coordinate_descent.py:475: ConvergenceWarning: Objective did not converge. You might want to increase the number of iterations. Duality gap: 3.492197392993584, tolerance: 0.0013875\n",
      "  positive)\n",
      "C:\\Users\\ome3\\Anaconda3\\lib\\site-packages\\sklearn\\linear_model\\coordinate_descent.py:475: ConvergenceWarning: Objective did not converge. You might want to increase the number of iterations. Duality gap: 1.7129678035948475, tolerance: 0.0010857142857142858\n",
      "  positive)\n"
     ]
    }
   ],
   "source": [
    "df = x\n",
    "x_cols = ['x']\n",
    "y_col = ['y']\n",
    "param, cv = gls_bayes_opt()"
   ]
  },
  {
   "cell_type": "code",
   "execution_count": 272,
   "metadata": {},
   "outputs": [
    {
     "data": {
      "text/plain": [
       "({'alpha': 0.0, 'l1_ratio': 0.0}, 0.8169769644345187)"
      ]
     },
     "execution_count": 272,
     "metadata": {},
     "output_type": "execute_result"
    }
   ],
   "source": [
    "param, cv"
   ]
  },
  {
   "cell_type": "code",
   "execution_count": 276,
   "metadata": {},
   "outputs": [
    {
     "name": "stdout",
     "output_type": "stream",
     "text": [
      "yhat = OLS + 0.00000 * L1 + 0.00000 * L2\n",
      "Fitting OLS Estimator\n",
      "<class 'sklearn.linear_model.coordinate_descent.ElasticNet'>\n",
      "[LinReg] Fold 1 rmse_train: 0.9343697    rmse_valid: 0.8942204\n",
      "[LinReg] Fold 2 rmse_train: 0.6995841    rmse_valid: 1.5416666\n",
      "====================\n",
      "CV AVG: RMSE - 0.8169769644345187\n",
      "CV STD: RMSE - 0.11739280979835964\n",
      "====================\n"
     ]
    },
    {
     "name": "stderr",
     "output_type": "stream",
     "text": [
      "C:\\Users\\ome3\\Anaconda3\\lib\\site-packages\\ipykernel_launcher.py:48: UserWarning: With alpha=0, this algorithm does not converge well. You are advised to use the LinearRegression estimator\n",
      "C:\\Users\\ome3\\Anaconda3\\lib\\site-packages\\sklearn\\linear_model\\coordinate_descent.py:475: UserWarning: Coordinate descent with no regularization may lead to unexpected results and is discouraged.\n",
      "  positive)\n",
      "C:\\Users\\ome3\\Anaconda3\\lib\\site-packages\\ipykernel_launcher.py:48: UserWarning: With alpha=0, this algorithm does not converge well. You are advised to use the LinearRegression estimator\n",
      "C:\\Users\\ome3\\Anaconda3\\lib\\site-packages\\sklearn\\linear_model\\coordinate_descent.py:475: UserWarning: Coordinate descent with no regularization may lead to unexpected results and is discouraged.\n",
      "  positive)\n",
      "C:\\Users\\ome3\\Anaconda3\\lib\\site-packages\\sklearn\\linear_model\\coordinate_descent.py:475: ConvergenceWarning: Objective did not converge. You might want to increase the number of iterations. Duality gap: 1.7129629629629628, tolerance: 0.0010857142857142858\n",
      "  positive)\n"
     ]
    }
   ],
   "source": [
    "models, oof, r2_mean = gls.kfold_fit(df=x, x_cols=['x'], y_col=['y'],\n",
    "              split=[[[0,1,2,3,4,5,6,7],[8,9,10,11,12,13,14]],[[8,9,10,11,12,13,14],[0,1,2,3,4,5,6,7]]],\n",
    "              alpha=0.0, l1_ratio=0.0, return_info=True)"
   ]
  },
  {
   "cell_type": "code",
   "execution_count": null,
   "metadata": {},
   "outputs": [],
   "source": []
  }
 ],
 "metadata": {
  "kernelspec": {
   "display_name": "Python 3",
   "language": "python",
   "name": "python3"
  },
  "language_info": {
   "codemirror_mode": {
    "name": "ipython",
    "version": 3
   },
   "file_extension": ".py",
   "mimetype": "text/x-python",
   "name": "python",
   "nbconvert_exporter": "python",
   "pygments_lexer": "ipython3",
   "version": "3.7.4"
  }
 },
 "nbformat": 4,
 "nbformat_minor": 4
}
