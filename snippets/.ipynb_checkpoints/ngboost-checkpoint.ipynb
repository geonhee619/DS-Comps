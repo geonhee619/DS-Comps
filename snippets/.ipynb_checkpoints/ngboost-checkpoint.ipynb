{
 "cells": [
  {
   "cell_type": "code",
   "execution_count": 1,
   "metadata": {},
   "outputs": [],
   "source": [
    "from ngboost import NGBRegressor\n",
    "from ngboost.scores import LogScore, CRPScore"
   ]
  },
  {
   "cell_type": "code",
   "execution_count": 2,
   "metadata": {},
   "outputs": [],
   "source": [
    "def ngb_kfold_reg(X_train, y_train, split, bayes_opt=True,\n",
    "                  distribution='normal', learning_rate=0.01,\n",
    "                  minibatch_frac=1.0, n_estimators=500,\n",
    "                  max_depth=6, min_samples_leaf=1, min_samples_split=2,\n",
    "                  min_weight_fraction_leaf=0.0):\n",
    "    seed = 8982\n",
    "    params = {'learning_rate': learning_rate,\n",
    "              'minibatch_frac': minibatch_frac,\n",
    "              'n_estimators': n_estimators,\n",
    "              'natural_gradient':True,\n",
    "              'random_state': seed,\n",
    "              'verbose': True,\n",
    "              'verbose_eval': 200}\n",
    "\n",
    "    if distribution == 'normal':\n",
    "        from ngboost.distns import Normal\n",
    "        ngb = NGBRegressor(Dist=Normal, Score=LogScore, **params)\n",
    "    elif distribution == 'lognormal':\n",
    "        from ngboost.distns import LogNormal\n",
    "        ngb = NGBRegressor(Dist=LogNormal, Score=LogScore, **params)\n",
    "    elif distribution == 'exponential':\n",
    "        from ngboost.distns import Exponential\n",
    "        ngb = NGBRegressor(Dist=Exponential, Score=LogScore, **params)\n",
    "    \n",
    "    n_splits = len(split)\n",
    "    oofs = np.zeros(X_train.shape[0])\n",
    "    models = []; valid_score = []\n",
    "    dist_df = pd.DataFrame()\n",
    "    feature_importance_df = pd.DataFrame()\n",
    "    \n",
    "    print(f'========== NGBoost Regressor training on : {X_train.shape} ==========')\n",
    "    for i, (train_idx, valid_idx) in enumerate(split):\n",
    "        print(f'========== NGBoost Regressor training: {i+1}/{n_splits} fold ==========')\n",
    "        model = ngb.fit(X_train.iloc[train_idx,:], y_train[train_idx],\n",
    "                           X_val=X_train.iloc[valid_idx,:], Y_val=y_train[valid_idx],\n",
    "                           early_stopping_rounds=20)\n",
    "        models.append(model)\n",
    "        oofs[valid_idx] = model.predict(X_train.iloc[valid_idx,:], max_iter=model.best_val_loss_itr)\n",
    "        dist_param = model.pred_dist(X_train.iloc[valid_idx,:]).params\n",
    "        #valid_score.append(model.val_loss)\n",
    "        \n",
    "        # Distribution Params\n",
    "        fold_dist_df = pd.DataFrame()\n",
    "        for k in dist_param.keys():\n",
    "            fold_dist_df[f'~dist({k})'] = dist_param[k]\n",
    "        fold_dist_df['fold'] = i+1\n",
    "        dist_df = pd.concat([dist_df, fold_dist_df], axis=0)\n",
    "        \n",
    "        fold_importance_df = pd.DataFrame()\n",
    "        fold_importance_df['feature'] = common_cols + category_cols\n",
    "        #fold_importance_df['importance_loc'] = model.feature_importances_[0]\n",
    "        #fold_importance_df['importance_scale'] = model.feature_importances_[1]\n",
    "        fold_importance_df['fold'] = i+1\n",
    "        feature_importance_df = pd.concat([feature_importance_df, fold_importance_df], axis=0)\n",
    "        \n",
    "        del fold_importance_df, fold_dist_df, dist_param; gc.collect()\n",
    "    \n",
    "    #print('====================')\n",
    "    #print(f'CV AVG: {metric} - {np.mean(valid_score)}')\n",
    "    #print(f'CV STD: {metric} - {np.std(valid_score)}')\n",
    "    #print('====================')\n",
    "\n",
    "    if bayes_opt:\n",
    "        return valid_avg_score\n",
    "    else:\n",
    "        return oofs, models, feature_importance_df, dist_df"
   ]
  },
  {
   "cell_type": "code",
   "execution_count": 3,
   "metadata": {},
   "outputs": [],
   "source": [
    "def ngb_pred_reg(X_test, models):\n",
    "    y_test_total = 0\n",
    "    for i, model in enumerate(models):\n",
    "        print(f'NGBoost Predicting on {i}-th model')\n",
    "        y_test = model.predict(X_test, max_iter=model.best_val_loss_itr)\n",
    "        y_test_total += y_test\n",
    "    y_test_total /= len(models)\n",
    "    return y_test_total"
   ]
  },
  {
   "cell_type": "code",
   "execution_count": 4,
   "metadata": {},
   "outputs": [],
   "source": [
    "from ngboost import NGBClassifier\n",
    "from ngboost.scores import LogScore"
   ]
  },
  {
   "cell_type": "code",
   "execution_count": 5,
   "metadata": {},
   "outputs": [],
   "source": [
    "def ngb_kfold_clf(X_train, y_train, split, bayes_opt=True,\n",
    "                  objective='binary', learning_rate=0.01,\n",
    "                  minibatch_frac=1.0, n_estimators=500,\n",
    "                  max_depth=6, min_samples_leaf=1, min_samples_split=2,\n",
    "                  min_weight_fraction_leaf=0.0):\n",
    "    seed = 8982\n",
    "    params = {'learning_rate': learning_rate,\n",
    "              'minibatch_frac': minibatch_frac,\n",
    "              'n_estimators': n_estimators,\n",
    "              'natural_gradient':True,\n",
    "              'random_state': seed,\n",
    "              'verbose': True,\n",
    "              'verbose_eval': 200}\n",
    "    if objective == 'binary':\n",
    "        from ngboost.distns import Bernoulli\n",
    "        ngb = NGBClassifier(Dist=Bernoulli, Score=LogScore, **params)\n",
    "    elif objective == 'multiclass':\n",
    "        from ngboost.distns import k_categorical\n",
    "        ngb = NGBClassifier(Dist=k_categorical(3), Score=LogScore, **params)\n",
    "    \n",
    "    n_splits = len(split)\n",
    "    oofs = np.zeros(X_train.shape[0])\n",
    "    models = []; valid_score = []\n",
    "    dist_df = pd.DataFrame()\n",
    "    feature_importance_df = pd.DataFrame()\n",
    "    \n",
    "    print(f'========== NGBoost Classifier training on : {X_train.shape} ==========')\n",
    "    for i, (train_idx, valid_idx) in enumerate(split):\n",
    "        print(f'========== NGBoost Classifier training: {i+1}/{n_splits} fold ==========')\n",
    "        model = ngb.fit(X_train.iloc[train_idx,:], y_train[train_idx],\n",
    "                        X_val=X_train.iloc[valid_idx,:], Y_val=y_train[valid_idx],\n",
    "                        early_stopping_rounds=20)\n",
    "        models.append(model)\n",
    "        oofs[valid_idx] = model.predict_proba(X_train.iloc[valid_idx,:], max_iter=model.best_val_loss_itr)[:,1]\n",
    "        dist_param = model.pred_dist(X_train.iloc[valid_idx,:]).params\n",
    "        #valid_score.append(model.val_loss)\n",
    "        \n",
    "        # Bernoulli\n",
    "        fold_dist_df = pd.DataFrame()\n",
    "        for k in dist_param.keys():\n",
    "            fold_dist_df[f'P(y={k}|x)'] = dist_param[k]\n",
    "        fold_dist_df['fold'] = i+1\n",
    "        dist_df = pd.concat([dist_df, fold_dist_df], axis=0)\n",
    "        \n",
    "        fold_importance_df = pd.DataFrame()\n",
    "        fold_importance_df['feature'] = common_cols + category_cols\n",
    "        fold_importance_df['importance_loc'] = model.feature_importances_[0]\n",
    "        #fold_importance_df['importance_scale'] = model.feature_importances_[1]\n",
    "        fold_importance_df['fold'] = i+1\n",
    "        feature_importance_df = pd.concat([feature_importance_df, fold_importance_df], axis=0)\n",
    "        \n",
    "        del fold_importance_df, fold_dist_df, dist_param; gc.collect()\n",
    "    \n",
    "    #print('====================')\n",
    "    #print(f'CV AVG: {metric} - {np.mean(valid_score)}')\n",
    "    #print(f'CV STD: {metric} - {np.std(valid_score)}')\n",
    "    #print('====================')\n",
    "\n",
    "    if bayes_opt:\n",
    "        return valid_avg_score\n",
    "    else:\n",
    "        return oofs, models, feature_importance_df, dist_df"
   ]
  },
  {
   "cell_type": "code",
   "execution_count": 6,
   "metadata": {},
   "outputs": [
    {
     "data": {
      "text/plain": [
       "'\\n    #For instance, to get the predictions on the first 5 examples after fitting 415 base learners, use:\\n    preds = ngb_cls.staged_predict(X_cls_test)\\n    preds[415][0:5]\\n    #array([1, 0, 1, 1, 1])\\n'"
      ]
     },
     "execution_count": 6,
     "metadata": {},
     "output_type": "execute_result"
    }
   ],
   "source": [
    "\"\"\"\n",
    "    #For instance, to get the predictions on the first 5 examples after fitting 415 base learners, use:\n",
    "    preds = ngb_cls.staged_predict(X_cls_test)\n",
    "    preds[415][0:5]\n",
    "    #array([1, 0, 1, 1, 1])\n",
    "\"\"\""
   ]
  },
  {
   "cell_type": "code",
   "execution_count": 7,
   "metadata": {},
   "outputs": [],
   "source": [
    "def ngb_pred_clf(X_test, models, threshold):\n",
    "    y_test_soft_total = 0; y_test_hard_total = 0\n",
    "    for i, model in enumerate(models):\n",
    "        print(f'NGBoost Predicting on {i}-th model')\n",
    "        y_test = model.predict_proba(X_test, max_iter=model.best_val_loss_itr)[:,1]\n",
    "        y_test_soft_total += y_test\n",
    "        y_test = model.predict(X_test, max_iter=model.best_val_loss_itr)\n",
    "        y_test_hard_total += y_test\n",
    "    y_test_soft_total /= len(models)\n",
    "    y_test_soft = np.where(y_test_soft_total > threshold, 1, 0)\n",
    "    y_test_hard_total /= len(models)\n",
    "    \n",
    "    if (y_test_soft != y_test_hard_total).sum() > 0:\n",
    "        print('Different thresholds with NGB and arbitrary')\n",
    "    return y_test_soft, y_test_hard_total\n",
    "# returns: threshold, ngb hard predict"
   ]
  },
  {
   "cell_type": "code",
   "execution_count": 8,
   "metadata": {},
   "outputs": [],
   "source": [
    "import pandas as pd\n",
    "import numpy as np\n",
    "import gc"
   ]
  },
  {
   "cell_type": "code",
   "execution_count": 9,
   "metadata": {},
   "outputs": [],
   "source": [
    "x = pd.DataFrame(np.random.randn(300), columns=['gauss'])\n",
    "x['mean4'] = np.random.randn(300)+4\n",
    "x['std4'] = np.random.randn(300)*4\n",
    "x['target'] = np.where((x['mean4'] <= 4) & (x['std4'] >= 0), int(1), int(0))"
   ]
  },
  {
   "cell_type": "code",
   "execution_count": 10,
   "metadata": {},
   "outputs": [
    {
     "data": {
      "text/html": [
       "<div>\n",
       "<style scoped>\n",
       "    .dataframe tbody tr th:only-of-type {\n",
       "        vertical-align: middle;\n",
       "    }\n",
       "\n",
       "    .dataframe tbody tr th {\n",
       "        vertical-align: top;\n",
       "    }\n",
       "\n",
       "    .dataframe thead th {\n",
       "        text-align: right;\n",
       "    }\n",
       "</style>\n",
       "<table border=\"1\" class=\"dataframe\">\n",
       "  <thead>\n",
       "    <tr style=\"text-align: right;\">\n",
       "      <th></th>\n",
       "      <th>gauss</th>\n",
       "      <th>mean4</th>\n",
       "      <th>std4</th>\n",
       "      <th>target</th>\n",
       "    </tr>\n",
       "  </thead>\n",
       "  <tbody>\n",
       "    <tr>\n",
       "      <td>0</td>\n",
       "      <td>-0.121990</td>\n",
       "      <td>3.922068</td>\n",
       "      <td>3.292999</td>\n",
       "      <td>1</td>\n",
       "    </tr>\n",
       "    <tr>\n",
       "      <td>1</td>\n",
       "      <td>0.313014</td>\n",
       "      <td>5.311866</td>\n",
       "      <td>4.187469</td>\n",
       "      <td>0</td>\n",
       "    </tr>\n",
       "    <tr>\n",
       "      <td>2</td>\n",
       "      <td>-0.346650</td>\n",
       "      <td>4.807992</td>\n",
       "      <td>2.598584</td>\n",
       "      <td>0</td>\n",
       "    </tr>\n",
       "    <tr>\n",
       "      <td>3</td>\n",
       "      <td>-1.682090</td>\n",
       "      <td>3.993283</td>\n",
       "      <td>0.249756</td>\n",
       "      <td>1</td>\n",
       "    </tr>\n",
       "    <tr>\n",
       "      <td>4</td>\n",
       "      <td>-1.653344</td>\n",
       "      <td>3.739459</td>\n",
       "      <td>-0.322117</td>\n",
       "      <td>0</td>\n",
       "    </tr>\n",
       "    <tr>\n",
       "      <td>5</td>\n",
       "      <td>-1.662581</td>\n",
       "      <td>3.715552</td>\n",
       "      <td>3.145790</td>\n",
       "      <td>1</td>\n",
       "    </tr>\n",
       "    <tr>\n",
       "      <td>6</td>\n",
       "      <td>-0.115491</td>\n",
       "      <td>2.522127</td>\n",
       "      <td>-7.036124</td>\n",
       "      <td>0</td>\n",
       "    </tr>\n",
       "  </tbody>\n",
       "</table>\n",
       "</div>"
      ],
      "text/plain": [
       "      gauss     mean4      std4  target\n",
       "0 -0.121990  3.922068  3.292999       1\n",
       "1  0.313014  5.311866  4.187469       0\n",
       "2 -0.346650  4.807992  2.598584       0\n",
       "3 -1.682090  3.993283  0.249756       1\n",
       "4 -1.653344  3.739459 -0.322117       0\n",
       "5 -1.662581  3.715552  3.145790       1\n",
       "6 -0.115491  2.522127 -7.036124       0"
      ]
     },
     "execution_count": 10,
     "metadata": {},
     "output_type": "execute_result"
    }
   ],
   "source": [
    "x.head(7)"
   ]
  },
  {
   "cell_type": "code",
   "execution_count": 11,
   "metadata": {},
   "outputs": [
    {
     "data": {
      "text/plain": [
       "<matplotlib.axes._subplots.AxesSubplot at 0x1a18f25910>"
      ]
     },
     "execution_count": 11,
     "metadata": {},
     "output_type": "execute_result"
    }
   ],
   "source": [
    "x[x.target == 0].mean4.plot.hist(bins=30)\n",
    "x[x.target == 1].mean4.plot.hist(bins=15)"
   ]
  },
  {
   "cell_type": "code",
   "execution_count": 12,
   "metadata": {},
   "outputs": [
    {
     "data": {
      "text/plain": [
       "<matplotlib.axes._subplots.AxesSubplot at 0x1a198e26d0>"
      ]
     },
     "execution_count": 12,
     "metadata": {},
     "output_type": "execute_result"
    },
    {
     "data": {
      "image/png": "[encoded data removed]",
      "text/plain": [
       "<Figure size 432x288 with 1 Axes>"
      ]
     },
     "metadata": {
      "needs_background": "light"
     },
     "output_type": "display_data"
    }
   ],
   "source": [
    "x[x.target == 0].std4.plot.hist(bins=30)\n",
    "x[x.target == 1].std4.plot.hist(bins=15)"
   ]
  },
  {
   "cell_type": "code",
   "execution_count": 13,
   "metadata": {},
   "outputs": [
    {
     "data": {
      "text/plain": [
       "array([0, 1, 2, 3, 4])"
      ]
     },
     "execution_count": 13,
     "metadata": {},
     "output_type": "execute_result"
    }
   ],
   "source": [
    "from sklearn.model_selection import KFold\n",
    "kf = KFold(n_splits=2, shuffle=False)\n",
    "train_idx, valid_idx = kf.split(x)\n",
    "split = [train_idx, valid_idx]\n",
    "split[0][1][:5]"
   ]
  },
  {
   "cell_type": "code",
   "execution_count": 14,
   "metadata": {},
   "outputs": [
    {
     "data": {
      "text/plain": [
       "['std4', 'gauss', 'mean4']"
      ]
     },
     "execution_count": 14,
     "metadata": {},
     "output_type": "execute_result"
    }
   ],
   "source": [
    "common_cols = list(set(x.columns) - {'target'})\n",
    "category_cols = []\n",
    "X_train = x[common_cols]\n",
    "y_train = x.target.astype(np.int8).values\n",
    "#y_train = y_train.reshape(300,1)#.transpose()\n",
    "\n",
    "common_cols"
   ]
  },
  {
   "cell_type": "code",
   "execution_count": 15,
   "metadata": {},
   "outputs": [
    {
     "name": "stdout",
     "output_type": "stream",
     "text": [
      "(300,)\n"
     ]
    },
    {
     "data": {
      "text/plain": [
       "array([1, 0, 0, 1, 0], dtype=int8)"
      ]
     },
     "execution_count": 15,
     "metadata": {},
     "output_type": "execute_result"
    }
   ],
   "source": [
    "print(y_train.shape)\n",
    "y_train[:5]"
   ]
  },
  {
   "cell_type": "code",
   "execution_count": 16,
   "metadata": {},
   "outputs": [
    {
     "name": "stdout",
     "output_type": "stream",
     "text": [
      "========== NGBoost Classifier training on : (300, 3) ==========\n",
      "========== NGBoost Classifier training: 1/2 fold ==========\n",
      "[iter 0] loss=0.5269 val_loss=0.5810 scale=2.0000 norm=4.0000\n",
      "== Early stopping achieved.\n",
      "== Best iteration / VAL 88 (val_loss=0.1083)\n",
      "========== NGBoost Classifier training: 2/2 fold ==========\n",
      "[iter 0] loss=0.1070 val_loss=0.0088 scale=1.0000 norm=3.6710\n",
      "== Early stopping achieved.\n",
      "== Best iteration / VAL 60 (val_loss=0.0017)\n"
     ]
    }
   ],
   "source": [
    "oofs, models, fimp, dist = ngb_kfold_clf(X_train, y_train, split, objective='binary', bayes_opt=False)"
   ]
  },
  {
   "cell_type": "code",
   "execution_count": 17,
   "metadata": {},
   "outputs": [
    {
     "data": {
      "text/plain": [
       "0.989743318610787"
      ]
     },
     "execution_count": 17,
     "metadata": {},
     "output_type": "execute_result"
    }
   ],
   "source": [
    "from sklearn.metrics import f1_score\n",
    "threshold = 0.5\n",
    "np.sqrt(f1_score(y_train, np.where(oofs > threshold, 1, 0)))"
   ]
  },
  {
   "cell_type": "code",
   "execution_count": 18,
   "metadata": {},
   "outputs": [
    {
     "data": {
      "image/png": "[encoded data removed]",
      "text/plain": [
       "<Figure size 432x288 with 1 Axes>"
      ]
     },
     "metadata": {
      "needs_background": "light"
     },
     "output_type": "display_data"
    },
    {
     "data": {
      "image/png": "[encoded data removed]",
      "text/plain": [
       "<Figure size 432x288 with 1 Axes>"
      ]
     },
     "metadata": {
      "needs_background": "light"
     },
     "output_type": "display_data"
    }
   ],
   "source": [
    "for i in fimp.fold.unique():\n",
    "    fimp.loc[fimp.fold == i][['feature', 'importance_loc']].plot.bar()"
   ]
  },
  {
   "cell_type": "code",
   "execution_count": 19,
   "metadata": {},
   "outputs": [
    {
     "data": {
      "text/plain": [
       "<matplotlib.axes._subplots.AxesSubplot at 0x1a19af6b90>"
      ]
     },
     "execution_count": 19,
     "metadata": {},
     "output_type": "execute_result"
    },
    {
     "data": {
      "image/png": "[encoded data removed]",
      "text/plain": [
       "<Figure size 432x288 with 1 Axes>"
      ]
     },
     "metadata": {
      "needs_background": "light"
     },
     "output_type": "display_data"
    }
   ],
   "source": [
    "dist.loc[dist.fold == 1]['P(y=p0|x)'].plot.hist()"
   ]
  },
  {
   "cell_type": "code",
   "execution_count": 20,
   "metadata": {},
   "outputs": [
    {
     "data": {
      "text/plain": [
       "<matplotlib.axes._subplots.AxesSubplot at 0x1a19b89650>"
      ]
     },
     "execution_count": 20,
     "metadata": {},
     "output_type": "execute_result"
    },
    {
     "data": {
      "image/png": "[encoded data removed]",
      "text/plain": [
       "<Figure size 432x288 with 1 Axes>"
      ]
     },
     "metadata": {
      "needs_background": "light"
     },
     "output_type": "display_data"
    }
   ],
   "source": [
    "dist.loc[dist.fold == 2]['P(y=p0|x)'].plot.hist()"
   ]
  },
  {
   "cell_type": "code",
   "execution_count": 21,
   "metadata": {},
   "outputs": [
    {
     "data": {
      "text/html": [
       "<div>\n",
       "<style scoped>\n",
       "    .dataframe tbody tr th:only-of-type {\n",
       "        vertical-align: middle;\n",
       "    }\n",
       "\n",
       "    .dataframe tbody tr th {\n",
       "        vertical-align: top;\n",
       "    }\n",
       "\n",
       "    .dataframe thead th {\n",
       "        text-align: right;\n",
       "    }\n",
       "</style>\n",
       "<table border=\"1\" class=\"dataframe\">\n",
       "  <thead>\n",
       "    <tr style=\"text-align: right;\">\n",
       "      <th></th>\n",
       "      <th>gauss</th>\n",
       "      <th>mean4</th>\n",
       "      <th>std4</th>\n",
       "      <th>target</th>\n",
       "    </tr>\n",
       "  </thead>\n",
       "  <tbody>\n",
       "    <tr>\n",
       "      <td>0</td>\n",
       "      <td>1.767217</td>\n",
       "      <td>3.620850</td>\n",
       "      <td>-6.424217</td>\n",
       "      <td>1.599851</td>\n",
       "    </tr>\n",
       "    <tr>\n",
       "      <td>1</td>\n",
       "      <td>0.277485</td>\n",
       "      <td>5.409506</td>\n",
       "      <td>0.443056</td>\n",
       "      <td>0.484545</td>\n",
       "    </tr>\n",
       "    <tr>\n",
       "      <td>2</td>\n",
       "      <td>0.598812</td>\n",
       "      <td>3.774351</td>\n",
       "      <td>-0.672794</td>\n",
       "      <td>0.598019</td>\n",
       "    </tr>\n",
       "    <tr>\n",
       "      <td>3</td>\n",
       "      <td>0.691115</td>\n",
       "      <td>2.955959</td>\n",
       "      <td>4.137148</td>\n",
       "      <td>0.760281</td>\n",
       "    </tr>\n",
       "    <tr>\n",
       "      <td>4</td>\n",
       "      <td>-1.544173</td>\n",
       "      <td>4.087262</td>\n",
       "      <td>-4.931580</td>\n",
       "      <td>-1.616543</td>\n",
       "    </tr>\n",
       "  </tbody>\n",
       "</table>\n",
       "</div>"
      ],
      "text/plain": [
       "      gauss     mean4      std4    target\n",
       "0  1.767217  3.620850 -6.424217  1.599851\n",
       "1  0.277485  5.409506  0.443056  0.484545\n",
       "2  0.598812  3.774351 -0.672794  0.598019\n",
       "3  0.691115  2.955959  4.137148  0.760281\n",
       "4 -1.544173  4.087262 -4.931580 -1.616543"
      ]
     },
     "execution_count": 21,
     "metadata": {},
     "output_type": "execute_result"
    }
   ],
   "source": [
    "x = pd.DataFrame(np.random.randn(300), columns=['gauss'])\n",
    "x['mean4'] = np.random.randn(300)+4\n",
    "x['std4'] = np.random.randn(300)*4\n",
    "x['target'] = np.where((x['mean4'] <= 4) & (x['std4'] >= 0), int(1), int(0))\n",
    "x['target'] = x.gauss + np.random.randn(300) / 10\n",
    "x.head()"
   ]
  },
  {
   "cell_type": "code",
   "execution_count": 22,
   "metadata": {},
   "outputs": [
    {
     "data": {
      "text/plain": [
       "array([0, 1, 2, 3, 4])"
      ]
     },
     "execution_count": 22,
     "metadata": {},
     "output_type": "execute_result"
    }
   ],
   "source": [
    "from sklearn.model_selection import KFold\n",
    "kf = KFold(n_splits=2, shuffle=False)\n",
    "train_idx, valid_idx = kf.split(x)\n",
    "split = [train_idx, valid_idx]\n",
    "split[0][1][:5]"
   ]
  },
  {
   "cell_type": "code",
   "execution_count": 23,
   "metadata": {},
   "outputs": [
    {
     "data": {
      "text/plain": [
       "['std4', 'gauss', 'mean4']"
      ]
     },
     "execution_count": 23,
     "metadata": {},
     "output_type": "execute_result"
    }
   ],
   "source": [
    "common_cols = list(set(x.columns) - {'target'})\n",
    "category_cols = []\n",
    "X_train = x[common_cols]\n",
    "y_train = x.target.astype(np.int8).values\n",
    "#y_train = y_train.reshape(300,1)#.transpose()\n",
    "\n",
    "common_cols"
   ]
  },
  {
   "cell_type": "code",
   "execution_count": 24,
   "metadata": {},
   "outputs": [
    {
     "name": "stdout",
     "output_type": "stream",
     "text": [
      "========== NGBoost Regressor training on : (300, 3) ==========\n",
      "========== NGBoost Regressor training: 1/2 fold ==========\n",
      "[iter 0] loss=0.9523 val_loss=0.9325 scale=1.0000 norm=0.8580\n",
      "== Early stopping achieved.\n",
      "== Best iteration / VAL 156 (val_loss=-0.3737)\n",
      "========== NGBoost Regressor training: 2/2 fold ==========\n",
      "[iter 0] loss=-0.3344 val_loss=-1.0815 scale=1.0000 norm=1.1674\n",
      "== Early stopping achieved.\n",
      "== Best iteration / VAL 163 (val_loss=-1.7561)\n"
     ]
    }
   ],
   "source": [
    "oofs, models, fimp, dist = ngb_kfold_reg(X_train, y_train, split, distribution='normal', bayes_opt=False)"
   ]
  },
  {
   "cell_type": "code",
   "execution_count": 25,
   "metadata": {},
   "outputs": [
    {
     "data": {
      "text/plain": [
       "0.15851672826976942"
      ]
     },
     "execution_count": 25,
     "metadata": {},
     "output_type": "execute_result"
    }
   ],
   "source": [
    "from sklearn.metrics import mean_squared_error\n",
    "np.sqrt(mean_squared_error(y_train, oofs))"
   ]
  },
  {
   "cell_type": "code",
   "execution_count": 26,
   "metadata": {},
   "outputs": [
    {
     "data": {
      "text/html": [
       "<div>\n",
       "<style scoped>\n",
       "    .dataframe tbody tr th:only-of-type {\n",
       "        vertical-align: middle;\n",
       "    }\n",
       "\n",
       "    .dataframe tbody tr th {\n",
       "        vertical-align: top;\n",
       "    }\n",
       "\n",
       "    .dataframe thead th {\n",
       "        text-align: right;\n",
       "    }\n",
       "</style>\n",
       "<table border=\"1\" class=\"dataframe\">\n",
       "  <thead>\n",
       "    <tr style=\"text-align: right;\">\n",
       "      <th></th>\n",
       "      <th>~dist(loc)</th>\n",
       "      <th>~dist(scale)</th>\n",
       "      <th>fold</th>\n",
       "    </tr>\n",
       "  </thead>\n",
       "  <tbody>\n",
       "    <tr>\n",
       "      <td>0</td>\n",
       "      <td>0.955125</td>\n",
       "      <td>0.240578</td>\n",
       "      <td>1</td>\n",
       "    </tr>\n",
       "    <tr>\n",
       "      <td>1</td>\n",
       "      <td>-0.000942</td>\n",
       "      <td>0.130168</td>\n",
       "      <td>1</td>\n",
       "    </tr>\n",
       "    <tr>\n",
       "      <td>2</td>\n",
       "      <td>-0.000942</td>\n",
       "      <td>0.130168</td>\n",
       "      <td>1</td>\n",
       "    </tr>\n",
       "    <tr>\n",
       "      <td>3</td>\n",
       "      <td>-0.000942</td>\n",
       "      <td>0.130168</td>\n",
       "      <td>1</td>\n",
       "    </tr>\n",
       "    <tr>\n",
       "      <td>4</td>\n",
       "      <td>-0.935657</td>\n",
       "      <td>0.249901</td>\n",
       "      <td>1</td>\n",
       "    </tr>\n",
       "  </tbody>\n",
       "</table>\n",
       "</div>"
      ],
      "text/plain": [
       "   ~dist(loc)  ~dist(scale)  fold\n",
       "0    0.955125      0.240578     1\n",
       "1   -0.000942      0.130168     1\n",
       "2   -0.000942      0.130168     1\n",
       "3   -0.000942      0.130168     1\n",
       "4   -0.935657      0.249901     1"
      ]
     },
     "execution_count": 26,
     "metadata": {},
     "output_type": "execute_result"
    }
   ],
   "source": [
    "dist.head()"
   ]
  },
  {
   "cell_type": "code",
   "execution_count": 27,
   "metadata": {},
   "outputs": [
    {
     "data": {
      "text/plain": [
       "<matplotlib.axes._subplots.AxesSubplot at 0x1a19e5d5d0>"
      ]
     },
     "execution_count": 27,
     "metadata": {},
     "output_type": "execute_result"
    },
    {
     "data": {
      "image/png": "[encoded data removed]",
      "text/plain": [
       "<Figure size 432x288 with 1 Axes>"
      ]
     },
     "metadata": {
      "needs_background": "light"
     },
     "output_type": "display_data"
    }
   ],
   "source": [
    "dist.loc[dist.fold == 1, '~dist(loc)'].plot.kde()"
   ]
  },
  {
   "cell_type": "code",
   "execution_count": 28,
   "metadata": {},
   "outputs": [
    {
     "data": {
      "text/plain": [
       "<matplotlib.axes._subplots.AxesSubplot at 0x1a19897810>"
      ]
     },
     "execution_count": 28,
     "metadata": {},
     "output_type": "execute_result"
    },
    {
     "data": {
      "image/png": "[encoded data removed]",
      "text/plain": [
       "<Figure size 432x288 with 1 Axes>"
      ]
     },
     "metadata": {
      "needs_background": "light"
     },
     "output_type": "display_data"
    }
   ],
   "source": [
    "dist.loc[dist.fold == 2, '~dist(scale)'].plot.kde()"
   ]
  },
  {
   "cell_type": "code",
   "execution_count": null,
   "metadata": {},
   "outputs": [],
   "source": []
  },
  {
   "cell_type": "code",
   "execution_count": null,
   "metadata": {},
   "outputs": [],
   "source": []
  }
 ],
 "metadata": {
  "kernelspec": {
   "display_name": "Python 3",
   "language": "python",
   "name": "python3"
  },
  "language_info": {
   "codemirror_mode": {
    "name": "ipython",
    "version": 3
   },
   "file_extension": ".py",
   "mimetype": "text/x-python",
   "name": "python",
   "nbconvert_exporter": "python",
   "pygments_lexer": "ipython3",
   "version": "3.7.4"
  }
 },
 "nbformat": 4,
 "nbformat_minor": 4
}
