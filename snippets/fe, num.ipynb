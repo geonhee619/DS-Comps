{
 "cells": [
  {
   "cell_type": "markdown",
   "metadata": {},
   "source": [
    "## Feature Related (Numerical)"
   ]
  },
  {
   "cell_type": "code",
   "execution_count": 7,
   "metadata": {},
   "outputs": [],
   "source": [
    "# aggs = {\n",
    "#     'uid': ['count'],\n",
    "#     'is_manual': ['sum', 'mean'],\n",
    "#     'elapsed_days_succeeded_created': ['mean', 'std', 'max', 'min'],\n",
    "#     'elapsed_days_created_premium': ['mean', 'std', 'max', 'min'],\n",
    "#     'elapsed_days_created': ['mean', 'std', 'max', 'min'],\n",
    "#     'elapsed_days_succeeded_premium': ['mean', 'std', 'max', 'min'],\n",
    "#     'elapsed_days_succeeded': ['mean', 'std', 'max', 'min'],\n",
    "#     'created_before_premium': ['sum', 'mean'],\n",
    "#     'created_after_premium': ['sum', 'mean'],\n",
    "#     'succeeded_before_premium': ['sum', 'mean'],\n",
    "#     'succeeded_before_premium': ['sum', 'mean'],\n",
    "# }\n",
    "# aggs.update({col: ['sum', 'mean'] for col in service_category_id_cols})\n",
    "\n",
    "# group_account_df = account_df.groupby(ID).agg(aggs)\n",
    "# group_account_df.columns = [f'{k}_{v.upper()}' for k, vs in aggs.items() for v in vs]\n",
    "# group_account_df = group_account_df.reset_index()"
   ]
  },
  {
   "cell_type": "markdown",
   "metadata": {},
   "source": [
    "### Cyclical Encode"
   ]
  },
  {
   "cell_type": "code",
   "execution_count": 8,
   "metadata": {},
   "outputs": [],
   "source": [
    "def apply_cyclical(df, str_col):\n",
    "    # e.g. df['hr'] = df.timestamp.dt.hour; apply_cyclical(df, 'hr')\n",
    "    # ===== assumes integer array =====\n",
    "    # ===== assumes min and max exists in array =====\n",
    "    temp = pd.DataFrame()\n",
    "    temp['unique_sorted'] = (df[str_col] - df[str_col].min()).sort_values().unique()\n",
    "    int_max = temp.unique_sorted.max()\n",
    "    temp['sin'] = np.sin(2 * np.pi * temp.unique_sorted / int_max)\n",
    "    temp['cos'] = np.cos(2 * np.pi * temp.unique_sorted / int_max)\n",
    "    temp = temp.set_index('unique_sorted')\n",
    "    df[f'{str_col}_sin'] = (df[str_col] - df[str_col].min()).map(temp.sin)\n",
    "    df[f'{str_col}_cos'] = (df[str_col] - df[str_col].min()).map(temp.cos)\n",
    "    del temp, int_max; gc.collect()"
   ]
  },
  {
   "cell_type": "markdown",
   "metadata": {},
   "source": [
    "### Rolling Statistic"
   ]
  },
  {
   "cell_type": "code",
   "execution_count": 9,
   "metadata": {},
   "outputs": [],
   "source": [
    "def apply_mov_stat(df, str_col, list_windows, fix=False, print_option=True):\n",
    "\n",
    "    # ===== assumes timestamp is aligned =====\n",
    "    for win in list_windows:\n",
    "        rolled = df[str_col].rolling(window=win, min_periods=0)\n",
    "        mov_avg = rolled.mean().reset_index() #.astype(np.float16)\n",
    "        mov_max = rolled.max().reset_index() #.astype(np.float16)\n",
    "        mov_min = rolled.min().reset_index() #.astype(np.float16)\n",
    "        mov_std = rolled.std().reset_index() #.astype(np.float16)\n",
    "        if win >= 4:\n",
    "            mov_Q1 = rolled.quantile(0.25).reset_index() #.astype(np.float16)\n",
    "            mov_Q2 = rolled.quantile(0.5).reset_index() #.astype(np.float16)\n",
    "            mov_Q3 = rolled.quantile(0.75).reset_index() #.astype(np.float16)\n",
    "\n",
    "        if fix:\n",
    "            formula = int((win/2) - win)\n",
    "            df[f'{str_col}_movavg_{win}'] = mov_avg[f'{str_col}'].shift(formula)\n",
    "            df[f'{str_col}_movmax_{win}'] = mov_max[f'{str_col}'].shift(formula)\n",
    "            df[f'{str_col}_movmin_{win}'] = mov_min[f'{str_col}'].shift(formula)\n",
    "            df[f'{str_col}_movstd_{win}'] = mov_std[f'{str_col}'].shift(formula)\n",
    "            if win >= 4:\n",
    "                df[f'{str_col}_movQ1_{win}'] = mov_Q1[f'{str_col}'].shift(formula)\n",
    "                df[f'{str_col}_movQ2_{win}'] = mov_Q2[f'{str_col}'].shift(formula)\n",
    "                df[f'{str_col}_movQ3_{win}'] = mov_Q3[f'{str_col}'].shift(formula)\n",
    "            print()\n",
    "            del formula\n",
    "        else:\n",
    "            df[f'{str_col}_movavg_{win}'] = mov_avg[f'{str_col}']\n",
    "            df[f'{str_col}_movmax_{win}'] = mov_max[f'{str_col}']\n",
    "            df[f'{str_col}_movmin_{win}'] = mov_min[f'{str_col}']\n",
    "            df[f'{str_col}_movstd_{win}'] = mov_std[f'{str_col}']\n",
    "            if win >= 4:\n",
    "                df[f'{str_col}_movQ1_{win}'] = mov_Q1[f'{str_col}']\n",
    "                df[f'{str_col}_movQ2_{win}'] = mov_Q2[f'{str_col}']\n",
    "                df[f'{str_col}_movQ3_{win}'] = mov_Q3[f'{str_col}']\n",
    "            print()\n",
    "        \n",
    "        if print_option:\n",
    "            print('Generated features: apply_mov_stat')\n",
    "            print(f\"'{str_col}_movavg_{win}',\")\n",
    "            print(f\"'{str_col}_movmax_{win}',\")\n",
    "            print(f\"'{str_col}_movmin_{win}',\")\n",
    "            print(f\"'{str_col}_movstd_{win}',\")\n",
    "            if win >= 4:\n",
    "                print(f\"'{str_col}_movQ1_{win}',\")\n",
    "                print(f\"'{str_col}_movQ2_{win}',\")\n",
    "                print(f\"'{str_col}_movQ3_{win}',\")\n",
    "            print()\n",
    "            \n",
    "    del win, rolled, mov_avg, mov_max, mov_min, mov_std; gc.collect()\n",
    "    if any([val for val in list_windows if val >= 4]):\n",
    "        del mov_Q1, mov_Q2, mov_Q3; gc.collect()"
   ]
  },
  {
   "cell_type": "markdown",
   "metadata": {},
   "source": [
    "### Shift Features"
   ]
  },
  {
   "cell_type": "code",
   "execution_count": 11,
   "metadata": {},
   "outputs": [],
   "source": [
    "def apply_shift_feature(df, subject_cols, list_shift, print_option=True):\n",
    "    for col in subject_cols:\n",
    "        for step in list_shift:\n",
    "            df[f'{col}_shift_{step}'] = df[col].shift(int(step))\n",
    "            \n",
    "    if print_option:\n",
    "        for col in subject_cols:\n",
    "            for step in list_shift:\n",
    "                print(f\"'{col}_shift_{step}',\")\n",
    "        \n",
    "    del col, step; gc.collect()"
   ]
  },
  {
   "cell_type": "markdown",
   "metadata": {},
   "source": [
    "### Oneth Feature"
   ]
  },
  {
   "cell_type": "code",
   "execution_count": 12,
   "metadata": {},
   "outputs": [],
   "source": [
    "def apply_oneth_feature(df, str_col, print_option=True):\n",
    "    import math\n",
    "    modify = np.vectorize(math.modf)\n",
    "    oneth, tenth = modify(df[str_col] / 10)\n",
    "    df[f'{str_col}_oneth'] = oneth * 10\n",
    "    \n",
    "    if print_option:\n",
    "        print(f\"'{str_col}_oneth',\")\n",
    "        \n",
    "    del tenth; gc.collect()"
   ]
  },
  {
   "cell_type": "markdown",
   "metadata": {},
   "source": [
    "### nan Binary Features"
   ]
  },
  {
   "cell_type": "code",
   "execution_count": 13,
   "metadata": {},
   "outputs": [],
   "source": [
    "def apply_isna_feature(df, subject_cols, print_option=True):\n",
    "    binary_isna = [col+\"_isnan\" for col in subject_cols]\n",
    "    df[binary_isna] = df[subject_cols].isna().astype(int)\n",
    "    \n",
    "    if print_option:\n",
    "        for col in binary_isna:\n",
    "            print(f\"'{col}',\")\n",
    "        \n",
    "    del binary_isna; gc.collect()"
   ]
  },
  {
   "cell_type": "markdown",
   "metadata": {},
   "source": [
    "### Row nan Count Feature"
   ]
  },
  {
   "cell_type": "code",
   "execution_count": 14,
   "metadata": {},
   "outputs": [],
   "source": [
    "def apply_row_nan(df, print_option=True):\n",
    "    df['row_nan'] = df.isna().sum(axis=1).astype(np.int8)\n",
    "    \n",
    "    if print_option:\n",
    "        print(\"'row_nan',\")"
   ]
  },
  {
   "cell_type": "markdown",
   "metadata": {},
   "source": [
    "### Bruteforce Combination"
   ]
  },
  {
   "cell_type": "code",
   "execution_count": 15,
   "metadata": {},
   "outputs": [],
   "source": [
    "def bruteforce_combination(df, subject_cols, choose=2, print_option=True):\n",
    "    from itertools import combinations\n",
    "    comb = combinations(subject_cols, choose)\n",
    "    for feat_1, feat_2 in comb:\n",
    "        df[f'{feat_1}_.+_{feat_2}'] = df[f'{feat_1}'] + df[f'{feat_1}']\n",
    "        df[f'{feat_1}_.-_{feat_2}'] = df[f'{feat_1}'] - df[f'{feat_1}']\n",
    "        df[f'{feat_1}_.*_{feat_2}'] = df[f'{feat_1}'] * df[f'{feat_1}']\n",
    "        df[f'{feat_1}_./_{feat_2}'] = df[f'{feat_1}'] / df[f'{feat_1}']\n",
    "            \n",
    "    if print_option:\n",
    "        for feat_1, feat_2 in comb:\n",
    "            print(f\"'{feat_1}_.+_{feat_2}',\")\n",
    "            print(f\"'{feat_1}_.-_{feat_2}',\")\n",
    "            print(f\"'{feat_1}_.*_{feat_2}',\")\n",
    "            print(f\"'{feat_1}_./_{feat_2}',\")\n",
    "            \n",
    "    del comb, feat_1, feat_2; gc.collect()"
   ]
  },
  {
   "cell_type": "markdown",
   "metadata": {},
   "source": [
    "### Polynomial Features"
   ]
  },
  {
   "cell_type": "code",
   "execution_count": 9,
   "metadata": {},
   "outputs": [
    {
     "data": {
      "text/html": [
       "<div>\n",
       "<style scoped>\n",
       "    .dataframe tbody tr th:only-of-type {\n",
       "        vertical-align: middle;\n",
       "    }\n",
       "\n",
       "    .dataframe tbody tr th {\n",
       "        vertical-align: top;\n",
       "    }\n",
       "\n",
       "    .dataframe thead th {\n",
       "        text-align: right;\n",
       "    }\n",
       "</style>\n",
       "<table border=\"1\" class=\"dataframe\">\n",
       "  <thead>\n",
       "    <tr style=\"text-align: right;\">\n",
       "      <th></th>\n",
       "      <th>one</th>\n",
       "      <th>two</th>\n",
       "      <th>three</th>\n",
       "    </tr>\n",
       "  </thead>\n",
       "  <tbody>\n",
       "    <tr>\n",
       "      <td>0</td>\n",
       "      <td>1</td>\n",
       "      <td>2</td>\n",
       "      <td>3</td>\n",
       "    </tr>\n",
       "    <tr>\n",
       "      <td>1</td>\n",
       "      <td>2</td>\n",
       "      <td>4</td>\n",
       "      <td>4</td>\n",
       "    </tr>\n",
       "    <tr>\n",
       "      <td>2</td>\n",
       "      <td>3</td>\n",
       "      <td>7</td>\n",
       "      <td>4</td>\n",
       "    </tr>\n",
       "  </tbody>\n",
       "</table>\n",
       "</div>"
      ],
      "text/plain": [
       "   one  two  three\n",
       "0    1    2      3\n",
       "1    2    4      4\n",
       "2    3    7      4"
      ]
     },
     "execution_count": 9,
     "metadata": {},
     "output_type": "execute_result"
    }
   ],
   "source": [
    "import pandas as pd\n",
    "import numpy as np\n",
    "from sklearn.preprocessing import PolynomialFeatures\n",
    "\n",
    "x = pd.DataFrame(np.array([[1,2,3],[2,4,7],[3,4,4]]).transpose(), columns=['one', 'two', 'three']).astype(np.int8)\n",
    "x"
   ]
  },
  {
   "cell_type": "code",
   "execution_count": 32,
   "metadata": {},
   "outputs": [
    {
     "data": {
      "text/plain": [
       "array([[ 1.,  2.,  3.,  2.,  3.,  6.,  6.],\n",
       "       [ 2.,  4.,  4.,  8.,  8., 16., 32.],\n",
       "       [ 3.,  7.,  4., 21., 12., 28., 84.]])"
      ]
     },
     "execution_count": 32,
     "metadata": {},
     "output_type": "execute_result"
    }
   ],
   "source": [
    "poly = PolynomialFeatures(degree=3, interaction_only=True, include_bias=False, order='C')\n",
    "poly.fit_transform(x)"
   ]
  },
  {
   "cell_type": "code",
   "execution_count": 33,
   "metadata": {},
   "outputs": [
    {
     "data": {
      "text/plain": [
       "['x0', 'x1', 'x2', 'x0 x1', 'x0 x2', 'x1 x2', 'x0 x1 x2']"
      ]
     },
     "execution_count": 33,
     "metadata": {},
     "output_type": "execute_result"
    }
   ],
   "source": [
    "poly.get_feature_names()"
   ]
  },
  {
   "cell_type": "markdown",
   "metadata": {},
   "source": [
    "### Binning"
   ]
  },
  {
   "cell_type": "code",
   "execution_count": 98,
   "metadata": {},
   "outputs": [],
   "source": [
    "class apply_bin:\n",
    "    def cut(df, subject_cols, n_bin):\n",
    "        for col in subject_cols:\n",
    "            df[f'{col}_c_bin_{n_bin}'] = pd.cut(df[col], bins=n_bin, labels=False)\n",
    "    def qcut(df, subject_cols, n_q):\n",
    "        for col in subject_cols:\n",
    "            df[f'{col}_q_bin_{n_q}'] = pd.qcut(df[col], q=n_q, labels=False)"
   ]
  },
  {
   "cell_type": "code",
   "execution_count": 99,
   "metadata": {},
   "outputs": [
    {
     "data": {
      "text/html": [
       "<div>\n",
       "<style scoped>\n",
       "    .dataframe tbody tr th:only-of-type {\n",
       "        vertical-align: middle;\n",
       "    }\n",
       "\n",
       "    .dataframe tbody tr th {\n",
       "        vertical-align: top;\n",
       "    }\n",
       "\n",
       "    .dataframe thead th {\n",
       "        text-align: right;\n",
       "    }\n",
       "</style>\n",
       "<table border=\"1\" class=\"dataframe\">\n",
       "  <thead>\n",
       "    <tr style=\"text-align: right;\">\n",
       "      <th></th>\n",
       "      <th>gauss</th>\n",
       "    </tr>\n",
       "  </thead>\n",
       "  <tbody>\n",
       "    <tr>\n",
       "      <td>0</td>\n",
       "      <td>0.110594</td>\n",
       "    </tr>\n",
       "    <tr>\n",
       "      <td>1</td>\n",
       "      <td>0.524689</td>\n",
       "    </tr>\n",
       "    <tr>\n",
       "      <td>2</td>\n",
       "      <td>-2.079909</td>\n",
       "    </tr>\n",
       "    <tr>\n",
       "      <td>3</td>\n",
       "      <td>-0.380613</td>\n",
       "    </tr>\n",
       "    <tr>\n",
       "      <td>4</td>\n",
       "      <td>-0.367914</td>\n",
       "    </tr>\n",
       "  </tbody>\n",
       "</table>\n",
       "</div>"
      ],
      "text/plain": [
       "      gauss\n",
       "0  0.110594\n",
       "1  0.524689\n",
       "2 -2.079909\n",
       "3 -0.380613\n",
       "4 -0.367914"
      ]
     },
     "execution_count": 99,
     "metadata": {},
     "output_type": "execute_result"
    }
   ],
   "source": [
    "x_bin = pd.DataFrame(np.random.randn(1000), columns=['gauss'])\n",
    "x_bin.head()"
   ]
  },
  {
   "cell_type": "code",
   "execution_count": 132,
   "metadata": {},
   "outputs": [
    {
     "name": "stdout",
     "output_type": "stream",
     "text": [
      "gauss_c_bin_5\n",
      "2    507\n",
      "1    236\n",
      "3    220\n",
      "4     24\n",
      "0     13\n",
      "Name: gauss_c_bin_5, dtype: int64\n"
     ]
    },
    {
     "data": {
      "image/png": "[encoded data removed]",
      "text/plain": [
       "<Figure size 432x288 with 1 Axes>"
      ]
     },
     "metadata": {
      "needs_background": "light"
     },
     "output_type": "display_data"
    }
   ],
   "source": [
    "apply_bin.qcut(x_bin, ['gauss'], 5)\n",
    "apply_bin.cut(x_bin, ['gauss'], 5)\n",
    "print(x_bin.columns[-1])\n",
    "print(x_bin[x_bin.columns[-1]].value_counts())\n",
    "for i in range(x_bin[x_bin.columns[-1]].unique().shape[0]):\n",
    "    x_bin[x_bin[x_bin.columns[-1]] == i].gauss.plot.hist()"
   ]
  },
  {
   "cell_type": "code",
   "execution_count": 133,
   "metadata": {},
   "outputs": [
    {
     "name": "stdout",
     "output_type": "stream",
     "text": [
      "gauss_q_bin_5\n",
      "4    200\n",
      "3    200\n",
      "2    200\n",
      "1    200\n",
      "0    200\n",
      "Name: gauss_q_bin_5, dtype: int64\n"
     ]
    },
    {
     "data": {
      "image/png": "[encoded data removed]",
      "text/plain": [
       "<Figure size 432x288 with 1 Axes>"
      ]
     },
     "metadata": {
      "needs_background": "light"
     },
     "output_type": "display_data"
    }
   ],
   "source": [
    "print(x_bin.columns[-2])\n",
    "print(x_bin[x_bin.columns[-2]].value_counts())\n",
    "for i in range(x_bin[x_bin.columns[-2]].unique().shape[0]):\n",
    "    x_bin[x_bin[x_bin.columns[-2]] == i].gauss.plot.hist(bins=30)"
   ]
  }
 ],
 "metadata": {
  "kernelspec": {
   "display_name": "Python 3",
   "language": "python",
   "name": "python3"
  },
  "language_info": {
   "codemirror_mode": {
    "name": "ipython",
    "version": 3
   },
   "file_extension": ".py",
   "mimetype": "text/x-python",
   "name": "python",
   "nbconvert_exporter": "python",
   "pygments_lexer": "ipython3",
   "version": "3.7.4"
  }
 },
 "nbformat": 4,
 "nbformat_minor": 4
}
